{
  "nbformat": 4,
  "nbformat_minor": 0,
  "metadata": {
    "colab": {
      "provenance": []
    },
    "kernelspec": {
      "name": "python3",
      "display_name": "Python 3"
    },
    "language_info": {
      "name": "python"
    }
  },
  "cells": [
    {
      "cell_type": "markdown",
      "source": [
        "<div align=\"center\">\n",
        "\n",
        "# **Machine Learning - Classificação por trás dos panos**\n",
        "\n",
        "</div>"
      ],
      "metadata": {
        "id": "NJZ54CI-XQi-"
      }
    },
    {
      "cell_type": "markdown",
      "source": [
        "<div align=\"center\">\n",
        "\n",
        "<img src=\"https://www.neurotech.com.br/wp-content/uploads/2019/09/Deep-Learning.png\" width=\"550\" height=\"300\">\n",
        "\n",
        "</div>"
      ],
      "metadata": {
        "id": "wXMdhd6wXTke"
      }
    },
    {
      "cell_type": "markdown",
      "source": [
        "Neste notebook estou deixando minhas anotações de estudos sobre os seguintes modelos de Classificação em Machine Learning: o **K-Nearest Neighbors (KNN)**, o **Bernoulli Naive Bayes (BNN)**, e o **Decision Tree (Árvore de Decisão)**. O objetivo é entender melhor o funcionamento desses modelos e a matemática utilizada por eles.\n",
        "\n"
      ],
      "metadata": {
        "id": "DFFaUxRuXE5O"
      }
    },
    {
      "cell_type": "markdown",
      "source": [
        "# Classificação"
      ],
      "metadata": {
        "id": "2eP07HQCSYi8"
      }
    },
    {
      "cell_type": "markdown",
      "source": [
        "## Base de dados\n",
        "\n",
        "A base de dados utilizada durante o curso é proveniente da plataforma Kaggle e pode ser encontrada neste [link](https://www.kaggle.com/datasets/mnassrib/telecom-churn-datasets?select=churn-bigml-20.csv). Essa base passou por alguns tratamentos e por esse motivo está levemente diferente da disponibilizada no Kaggle.\n",
        "\n",
        "Para baixar a base de dados tratada, você pode clicar [aqui](https://github.com/alura-cursos/ML_Classificacao_por_tras_dos_panos/tree/main/Dados)."
      ],
      "metadata": {
        "id": "R3fDZo6Rsutd"
      }
    },
    {
      "cell_type": "markdown",
      "source": [
        "## Importando os dados"
      ],
      "metadata": {
        "id": "EEVhzs_yubK_"
      }
    },
    {
      "cell_type": "code",
      "source": [
        "import pandas as pd"
      ],
      "metadata": {
        "id": "UfsTDS3SujB1"
      },
      "execution_count": null,
      "outputs": []
    },
    {
      "cell_type": "code",
      "execution_count": null,
      "metadata": {
        "id": "3TfuP-TRrvMS"
      },
      "outputs": [],
      "source": [
        "dados = pd.read_csv('https://raw.githubusercontent.com/alura-cursos/ML_Classificacao_por_tras_dos_panos/main/Dados/Customer-Churn.csv')"
      ]
    },
    {
      "cell_type": "code",
      "source": [
        "dados.shape"
      ],
      "metadata": {
        "colab": {
          "base_uri": "https://localhost:8080/"
        },
        "id": "1AY1DkUywldq",
        "outputId": "0c15eea0-e53a-4182-b86c-ec55d0f7f02c"
      },
      "execution_count": null,
      "outputs": [
        {
          "output_type": "execute_result",
          "data": {
            "text/plain": [
              "(7043, 18)"
            ]
          },
          "metadata": {},
          "execution_count": 101
        }
      ]
    },
    {
      "cell_type": "code",
      "source": [
        "dados.head()"
      ],
      "metadata": {
        "colab": {
          "base_uri": "https://localhost:8080/",
          "height": 270
        },
        "id": "HqifBCBIwmd2",
        "outputId": "f574215b-5d34-4d0b-f49a-c672b795c844"
      },
      "execution_count": null,
      "outputs": [
        {
          "output_type": "execute_result",
          "data": {
            "text/plain": [
              "   Maior65Anos Conjuge Dependentes  MesesDeContrato TelefoneFixo  \\\n",
              "0            0     Sim         Nao                1          Nao   \n",
              "1            0     Nao         Nao               34          Sim   \n",
              "2            0     Nao         Nao                2          Sim   \n",
              "3            0     Nao         Nao               45          Nao   \n",
              "4            0     Nao         Nao                2          Sim   \n",
              "\n",
              "  VariasLinhasTelefonicas ServicoDeInternet SegurancaOnline BackupOnline  \\\n",
              "0    SemServicoTelefonico               DSL             Nao          Sim   \n",
              "1                     Nao               DSL             Sim          Nao   \n",
              "2                     Nao               DSL             Sim          Sim   \n",
              "3    SemServicoTelefonico               DSL             Sim          Nao   \n",
              "4                     Nao       FibraOptica             Nao          Nao   \n",
              "\n",
              "  SeguroNoDispositivo SuporteTecnico TVaCabo StreamingDeFilmes TipoDeContrato  \\\n",
              "0                 Nao            Nao     Nao               Nao    Mensalmente   \n",
              "1                 Sim            Nao     Nao               Nao          UmAno   \n",
              "2                 Nao            Nao     Nao               Nao    Mensalmente   \n",
              "3                 Sim            Sim     Nao               Nao          UmAno   \n",
              "4                 Nao            Nao     Nao               Nao    Mensalmente   \n",
              "\n",
              "  PagamentoOnline FormaDePagamento  ContaMensal Churn  \n",
              "0             Sim    ChequeDigital        29.85   Nao  \n",
              "1             Nao      ChequePapel        56.95   Nao  \n",
              "2             Sim      ChequePapel        53.85   Sim  \n",
              "3             Nao    DebitoEmConta        42.30   Nao  \n",
              "4             Sim    ChequeDigital        70.70   Sim  "
            ],
            "text/html": [
              "\n",
              "\n",
              "  <div id=\"df-96643b41-8575-42fc-82f4-460196d002af\">\n",
              "    <div class=\"colab-df-container\">\n",
              "      <div>\n",
              "<style scoped>\n",
              "    .dataframe tbody tr th:only-of-type {\n",
              "        vertical-align: middle;\n",
              "    }\n",
              "\n",
              "    .dataframe tbody tr th {\n",
              "        vertical-align: top;\n",
              "    }\n",
              "\n",
              "    .dataframe thead th {\n",
              "        text-align: right;\n",
              "    }\n",
              "</style>\n",
              "<table border=\"1\" class=\"dataframe\">\n",
              "  <thead>\n",
              "    <tr style=\"text-align: right;\">\n",
              "      <th></th>\n",
              "      <th>Maior65Anos</th>\n",
              "      <th>Conjuge</th>\n",
              "      <th>Dependentes</th>\n",
              "      <th>MesesDeContrato</th>\n",
              "      <th>TelefoneFixo</th>\n",
              "      <th>VariasLinhasTelefonicas</th>\n",
              "      <th>ServicoDeInternet</th>\n",
              "      <th>SegurancaOnline</th>\n",
              "      <th>BackupOnline</th>\n",
              "      <th>SeguroNoDispositivo</th>\n",
              "      <th>SuporteTecnico</th>\n",
              "      <th>TVaCabo</th>\n",
              "      <th>StreamingDeFilmes</th>\n",
              "      <th>TipoDeContrato</th>\n",
              "      <th>PagamentoOnline</th>\n",
              "      <th>FormaDePagamento</th>\n",
              "      <th>ContaMensal</th>\n",
              "      <th>Churn</th>\n",
              "    </tr>\n",
              "  </thead>\n",
              "  <tbody>\n",
              "    <tr>\n",
              "      <th>0</th>\n",
              "      <td>0</td>\n",
              "      <td>Sim</td>\n",
              "      <td>Nao</td>\n",
              "      <td>1</td>\n",
              "      <td>Nao</td>\n",
              "      <td>SemServicoTelefonico</td>\n",
              "      <td>DSL</td>\n",
              "      <td>Nao</td>\n",
              "      <td>Sim</td>\n",
              "      <td>Nao</td>\n",
              "      <td>Nao</td>\n",
              "      <td>Nao</td>\n",
              "      <td>Nao</td>\n",
              "      <td>Mensalmente</td>\n",
              "      <td>Sim</td>\n",
              "      <td>ChequeDigital</td>\n",
              "      <td>29.85</td>\n",
              "      <td>Nao</td>\n",
              "    </tr>\n",
              "    <tr>\n",
              "      <th>1</th>\n",
              "      <td>0</td>\n",
              "      <td>Nao</td>\n",
              "      <td>Nao</td>\n",
              "      <td>34</td>\n",
              "      <td>Sim</td>\n",
              "      <td>Nao</td>\n",
              "      <td>DSL</td>\n",
              "      <td>Sim</td>\n",
              "      <td>Nao</td>\n",
              "      <td>Sim</td>\n",
              "      <td>Nao</td>\n",
              "      <td>Nao</td>\n",
              "      <td>Nao</td>\n",
              "      <td>UmAno</td>\n",
              "      <td>Nao</td>\n",
              "      <td>ChequePapel</td>\n",
              "      <td>56.95</td>\n",
              "      <td>Nao</td>\n",
              "    </tr>\n",
              "    <tr>\n",
              "      <th>2</th>\n",
              "      <td>0</td>\n",
              "      <td>Nao</td>\n",
              "      <td>Nao</td>\n",
              "      <td>2</td>\n",
              "      <td>Sim</td>\n",
              "      <td>Nao</td>\n",
              "      <td>DSL</td>\n",
              "      <td>Sim</td>\n",
              "      <td>Sim</td>\n",
              "      <td>Nao</td>\n",
              "      <td>Nao</td>\n",
              "      <td>Nao</td>\n",
              "      <td>Nao</td>\n",
              "      <td>Mensalmente</td>\n",
              "      <td>Sim</td>\n",
              "      <td>ChequePapel</td>\n",
              "      <td>53.85</td>\n",
              "      <td>Sim</td>\n",
              "    </tr>\n",
              "    <tr>\n",
              "      <th>3</th>\n",
              "      <td>0</td>\n",
              "      <td>Nao</td>\n",
              "      <td>Nao</td>\n",
              "      <td>45</td>\n",
              "      <td>Nao</td>\n",
              "      <td>SemServicoTelefonico</td>\n",
              "      <td>DSL</td>\n",
              "      <td>Sim</td>\n",
              "      <td>Nao</td>\n",
              "      <td>Sim</td>\n",
              "      <td>Sim</td>\n",
              "      <td>Nao</td>\n",
              "      <td>Nao</td>\n",
              "      <td>UmAno</td>\n",
              "      <td>Nao</td>\n",
              "      <td>DebitoEmConta</td>\n",
              "      <td>42.30</td>\n",
              "      <td>Nao</td>\n",
              "    </tr>\n",
              "    <tr>\n",
              "      <th>4</th>\n",
              "      <td>0</td>\n",
              "      <td>Nao</td>\n",
              "      <td>Nao</td>\n",
              "      <td>2</td>\n",
              "      <td>Sim</td>\n",
              "      <td>Nao</td>\n",
              "      <td>FibraOptica</td>\n",
              "      <td>Nao</td>\n",
              "      <td>Nao</td>\n",
              "      <td>Nao</td>\n",
              "      <td>Nao</td>\n",
              "      <td>Nao</td>\n",
              "      <td>Nao</td>\n",
              "      <td>Mensalmente</td>\n",
              "      <td>Sim</td>\n",
              "      <td>ChequeDigital</td>\n",
              "      <td>70.70</td>\n",
              "      <td>Sim</td>\n",
              "    </tr>\n",
              "  </tbody>\n",
              "</table>\n",
              "</div>\n",
              "      <button class=\"colab-df-convert\" onclick=\"convertToInteractive('df-96643b41-8575-42fc-82f4-460196d002af')\"\n",
              "              title=\"Convert this dataframe to an interactive table.\"\n",
              "              style=\"display:none;\">\n",
              "\n",
              "  <svg xmlns=\"http://www.w3.org/2000/svg\" height=\"24px\"viewBox=\"0 0 24 24\"\n",
              "       width=\"24px\">\n",
              "    <path d=\"M0 0h24v24H0V0z\" fill=\"none\"/>\n",
              "    <path d=\"M18.56 5.44l.94 2.06.94-2.06 2.06-.94-2.06-.94-.94-2.06-.94 2.06-2.06.94zm-11 1L8.5 8.5l.94-2.06 2.06-.94-2.06-.94L8.5 2.5l-.94 2.06-2.06.94zm10 10l.94 2.06.94-2.06 2.06-.94-2.06-.94-.94-2.06-.94 2.06-2.06.94z\"/><path d=\"M17.41 7.96l-1.37-1.37c-.4-.4-.92-.59-1.43-.59-.52 0-1.04.2-1.43.59L10.3 9.45l-7.72 7.72c-.78.78-.78 2.05 0 2.83L4 21.41c.39.39.9.59 1.41.59.51 0 1.02-.2 1.41-.59l7.78-7.78 2.81-2.81c.8-.78.8-2.07 0-2.86zM5.41 20L4 18.59l7.72-7.72 1.47 1.35L5.41 20z\"/>\n",
              "  </svg>\n",
              "      </button>\n",
              "\n",
              "\n",
              "\n",
              "    <div id=\"df-ce10277f-6f1a-4254-9ee9-5b4c18e53c69\">\n",
              "      <button class=\"colab-df-quickchart\" onclick=\"quickchart('df-ce10277f-6f1a-4254-9ee9-5b4c18e53c69')\"\n",
              "              title=\"Suggest charts.\"\n",
              "              style=\"display:none;\">\n",
              "\n",
              "<svg xmlns=\"http://www.w3.org/2000/svg\" height=\"24px\"viewBox=\"0 0 24 24\"\n",
              "     width=\"24px\">\n",
              "    <g>\n",
              "        <path d=\"M19 3H5c-1.1 0-2 .9-2 2v14c0 1.1.9 2 2 2h14c1.1 0 2-.9 2-2V5c0-1.1-.9-2-2-2zM9 17H7v-7h2v7zm4 0h-2V7h2v10zm4 0h-2v-4h2v4z\"/>\n",
              "    </g>\n",
              "</svg>\n",
              "      </button>\n",
              "    </div>\n",
              "\n",
              "<style>\n",
              "  .colab-df-quickchart {\n",
              "    background-color: #E8F0FE;\n",
              "    border: none;\n",
              "    border-radius: 50%;\n",
              "    cursor: pointer;\n",
              "    display: none;\n",
              "    fill: #1967D2;\n",
              "    height: 32px;\n",
              "    padding: 0 0 0 0;\n",
              "    width: 32px;\n",
              "  }\n",
              "\n",
              "  .colab-df-quickchart:hover {\n",
              "    background-color: #E2EBFA;\n",
              "    box-shadow: 0px 1px 2px rgba(60, 64, 67, 0.3), 0px 1px 3px 1px rgba(60, 64, 67, 0.15);\n",
              "    fill: #174EA6;\n",
              "  }\n",
              "\n",
              "  [theme=dark] .colab-df-quickchart {\n",
              "    background-color: #3B4455;\n",
              "    fill: #D2E3FC;\n",
              "  }\n",
              "\n",
              "  [theme=dark] .colab-df-quickchart:hover {\n",
              "    background-color: #434B5C;\n",
              "    box-shadow: 0px 1px 3px 1px rgba(0, 0, 0, 0.15);\n",
              "    filter: drop-shadow(0px 1px 2px rgba(0, 0, 0, 0.3));\n",
              "    fill: #FFFFFF;\n",
              "  }\n",
              "</style>\n",
              "\n",
              "    <script>\n",
              "      async function quickchart(key) {\n",
              "        const containerElement = document.querySelector('#' + key);\n",
              "        const charts = await google.colab.kernel.invokeFunction(\n",
              "            'suggestCharts', [key], {});\n",
              "      }\n",
              "    </script>\n",
              "\n",
              "      <script>\n",
              "\n",
              "function displayQuickchartButton(domScope) {\n",
              "  let quickchartButtonEl =\n",
              "    domScope.querySelector('#df-ce10277f-6f1a-4254-9ee9-5b4c18e53c69 button.colab-df-quickchart');\n",
              "  quickchartButtonEl.style.display =\n",
              "    google.colab.kernel.accessAllowed ? 'block' : 'none';\n",
              "}\n",
              "\n",
              "        displayQuickchartButton(document);\n",
              "      </script>\n",
              "      <style>\n",
              "    .colab-df-container {\n",
              "      display:flex;\n",
              "      flex-wrap:wrap;\n",
              "      gap: 12px;\n",
              "    }\n",
              "\n",
              "    .colab-df-convert {\n",
              "      background-color: #E8F0FE;\n",
              "      border: none;\n",
              "      border-radius: 50%;\n",
              "      cursor: pointer;\n",
              "      display: none;\n",
              "      fill: #1967D2;\n",
              "      height: 32px;\n",
              "      padding: 0 0 0 0;\n",
              "      width: 32px;\n",
              "    }\n",
              "\n",
              "    .colab-df-convert:hover {\n",
              "      background-color: #E2EBFA;\n",
              "      box-shadow: 0px 1px 2px rgba(60, 64, 67, 0.3), 0px 1px 3px 1px rgba(60, 64, 67, 0.15);\n",
              "      fill: #174EA6;\n",
              "    }\n",
              "\n",
              "    [theme=dark] .colab-df-convert {\n",
              "      background-color: #3B4455;\n",
              "      fill: #D2E3FC;\n",
              "    }\n",
              "\n",
              "    [theme=dark] .colab-df-convert:hover {\n",
              "      background-color: #434B5C;\n",
              "      box-shadow: 0px 1px 3px 1px rgba(0, 0, 0, 0.15);\n",
              "      filter: drop-shadow(0px 1px 2px rgba(0, 0, 0, 0.3));\n",
              "      fill: #FFFFFF;\n",
              "    }\n",
              "  </style>\n",
              "\n",
              "      <script>\n",
              "        const buttonEl =\n",
              "          document.querySelector('#df-96643b41-8575-42fc-82f4-460196d002af button.colab-df-convert');\n",
              "        buttonEl.style.display =\n",
              "          google.colab.kernel.accessAllowed ? 'block' : 'none';\n",
              "\n",
              "        async function convertToInteractive(key) {\n",
              "          const element = document.querySelector('#df-96643b41-8575-42fc-82f4-460196d002af');\n",
              "          const dataTable =\n",
              "            await google.colab.kernel.invokeFunction('convertToInteractive',\n",
              "                                                     [key], {});\n",
              "          if (!dataTable) return;\n",
              "\n",
              "          const docLinkHtml = 'Like what you see? Visit the ' +\n",
              "            '<a target=\"_blank\" href=https://colab.research.google.com/notebooks/data_table.ipynb>data table notebook</a>'\n",
              "            + ' to learn more about interactive tables.';\n",
              "          element.innerHTML = '';\n",
              "          dataTable['output_type'] = 'display_data';\n",
              "          await google.colab.output.renderOutput(dataTable, element);\n",
              "          const docLink = document.createElement('div');\n",
              "          docLink.innerHTML = docLinkHtml;\n",
              "          element.appendChild(docLink);\n",
              "        }\n",
              "      </script>\n",
              "    </div>\n",
              "  </div>\n"
            ]
          },
          "metadata": {},
          "execution_count": 102
        }
      ]
    },
    {
      "cell_type": "markdown",
      "source": [
        "Aqui podemos ver que possuimos várias informações sobre os clientes que assinam o serviço. Entretanto, a informação que estamos interessado é a da coluna **Churn**, que mostra quais clientes cancelaram o serviço."
      ],
      "metadata": {
        "id": "6L1Bn8LnzFca"
      }
    },
    {
      "cell_type": "markdown",
      "source": [
        "## Variáveis categóricas"
      ],
      "metadata": {
        "id": "jts64FVk8pGX"
      }
    },
    {
      "cell_type": "markdown",
      "source": [
        "Agora vamos começar tratando as variáveis categóricas binárias, substituindo sim por 1 e não por 0. Que é o formato ideal para trabalhar com algoritmos de Machine Learning."
      ],
      "metadata": {
        "id": "d5lrtTCQ80wX"
      }
    },
    {
      "cell_type": "code",
      "source": [
        "substituicao = {'Sim' : 1, 'Nao': 0}\n",
        "\n",
        "dadosbinarios = dados [['Conjuge', 'Dependentes', 'TelefoneFixo', 'PagamentoOnline', 'Churn']].replace(substituicao)"
      ],
      "metadata": {
        "id": "3IQSPlM692Br"
      },
      "execution_count": null,
      "outputs": []
    },
    {
      "cell_type": "code",
      "source": [
        "dadosbinarios.head()"
      ],
      "metadata": {
        "colab": {
          "base_uri": "https://localhost:8080/",
          "height": 206
        },
        "id": "9RFTtyvq-zpt",
        "outputId": "e43dd66f-63e6-450e-c4e8-16fffc01ad7b"
      },
      "execution_count": null,
      "outputs": [
        {
          "output_type": "execute_result",
          "data": {
            "text/plain": [
              "   Conjuge  Dependentes  TelefoneFixo  PagamentoOnline  Churn\n",
              "0        1            0             0                1      0\n",
              "1        0            0             1                0      0\n",
              "2        0            0             1                1      1\n",
              "3        0            0             0                0      0\n",
              "4        0            0             1                1      1"
            ],
            "text/html": [
              "\n",
              "\n",
              "  <div id=\"df-1835ddc6-b280-4c66-85a5-22ac7c67ee81\">\n",
              "    <div class=\"colab-df-container\">\n",
              "      <div>\n",
              "<style scoped>\n",
              "    .dataframe tbody tr th:only-of-type {\n",
              "        vertical-align: middle;\n",
              "    }\n",
              "\n",
              "    .dataframe tbody tr th {\n",
              "        vertical-align: top;\n",
              "    }\n",
              "\n",
              "    .dataframe thead th {\n",
              "        text-align: right;\n",
              "    }\n",
              "</style>\n",
              "<table border=\"1\" class=\"dataframe\">\n",
              "  <thead>\n",
              "    <tr style=\"text-align: right;\">\n",
              "      <th></th>\n",
              "      <th>Conjuge</th>\n",
              "      <th>Dependentes</th>\n",
              "      <th>TelefoneFixo</th>\n",
              "      <th>PagamentoOnline</th>\n",
              "      <th>Churn</th>\n",
              "    </tr>\n",
              "  </thead>\n",
              "  <tbody>\n",
              "    <tr>\n",
              "      <th>0</th>\n",
              "      <td>1</td>\n",
              "      <td>0</td>\n",
              "      <td>0</td>\n",
              "      <td>1</td>\n",
              "      <td>0</td>\n",
              "    </tr>\n",
              "    <tr>\n",
              "      <th>1</th>\n",
              "      <td>0</td>\n",
              "      <td>0</td>\n",
              "      <td>1</td>\n",
              "      <td>0</td>\n",
              "      <td>0</td>\n",
              "    </tr>\n",
              "    <tr>\n",
              "      <th>2</th>\n",
              "      <td>0</td>\n",
              "      <td>0</td>\n",
              "      <td>1</td>\n",
              "      <td>1</td>\n",
              "      <td>1</td>\n",
              "    </tr>\n",
              "    <tr>\n",
              "      <th>3</th>\n",
              "      <td>0</td>\n",
              "      <td>0</td>\n",
              "      <td>0</td>\n",
              "      <td>0</td>\n",
              "      <td>0</td>\n",
              "    </tr>\n",
              "    <tr>\n",
              "      <th>4</th>\n",
              "      <td>0</td>\n",
              "      <td>0</td>\n",
              "      <td>1</td>\n",
              "      <td>1</td>\n",
              "      <td>1</td>\n",
              "    </tr>\n",
              "  </tbody>\n",
              "</table>\n",
              "</div>\n",
              "      <button class=\"colab-df-convert\" onclick=\"convertToInteractive('df-1835ddc6-b280-4c66-85a5-22ac7c67ee81')\"\n",
              "              title=\"Convert this dataframe to an interactive table.\"\n",
              "              style=\"display:none;\">\n",
              "\n",
              "  <svg xmlns=\"http://www.w3.org/2000/svg\" height=\"24px\"viewBox=\"0 0 24 24\"\n",
              "       width=\"24px\">\n",
              "    <path d=\"M0 0h24v24H0V0z\" fill=\"none\"/>\n",
              "    <path d=\"M18.56 5.44l.94 2.06.94-2.06 2.06-.94-2.06-.94-.94-2.06-.94 2.06-2.06.94zm-11 1L8.5 8.5l.94-2.06 2.06-.94-2.06-.94L8.5 2.5l-.94 2.06-2.06.94zm10 10l.94 2.06.94-2.06 2.06-.94-2.06-.94-.94-2.06-.94 2.06-2.06.94z\"/><path d=\"M17.41 7.96l-1.37-1.37c-.4-.4-.92-.59-1.43-.59-.52 0-1.04.2-1.43.59L10.3 9.45l-7.72 7.72c-.78.78-.78 2.05 0 2.83L4 21.41c.39.39.9.59 1.41.59.51 0 1.02-.2 1.41-.59l7.78-7.78 2.81-2.81c.8-.78.8-2.07 0-2.86zM5.41 20L4 18.59l7.72-7.72 1.47 1.35L5.41 20z\"/>\n",
              "  </svg>\n",
              "      </button>\n",
              "\n",
              "\n",
              "\n",
              "    <div id=\"df-7c7c9f37-834c-4b0c-84b1-58264e8d4cff\">\n",
              "      <button class=\"colab-df-quickchart\" onclick=\"quickchart('df-7c7c9f37-834c-4b0c-84b1-58264e8d4cff')\"\n",
              "              title=\"Suggest charts.\"\n",
              "              style=\"display:none;\">\n",
              "\n",
              "<svg xmlns=\"http://www.w3.org/2000/svg\" height=\"24px\"viewBox=\"0 0 24 24\"\n",
              "     width=\"24px\">\n",
              "    <g>\n",
              "        <path d=\"M19 3H5c-1.1 0-2 .9-2 2v14c0 1.1.9 2 2 2h14c1.1 0 2-.9 2-2V5c0-1.1-.9-2-2-2zM9 17H7v-7h2v7zm4 0h-2V7h2v10zm4 0h-2v-4h2v4z\"/>\n",
              "    </g>\n",
              "</svg>\n",
              "      </button>\n",
              "    </div>\n",
              "\n",
              "<style>\n",
              "  .colab-df-quickchart {\n",
              "    background-color: #E8F0FE;\n",
              "    border: none;\n",
              "    border-radius: 50%;\n",
              "    cursor: pointer;\n",
              "    display: none;\n",
              "    fill: #1967D2;\n",
              "    height: 32px;\n",
              "    padding: 0 0 0 0;\n",
              "    width: 32px;\n",
              "  }\n",
              "\n",
              "  .colab-df-quickchart:hover {\n",
              "    background-color: #E2EBFA;\n",
              "    box-shadow: 0px 1px 2px rgba(60, 64, 67, 0.3), 0px 1px 3px 1px rgba(60, 64, 67, 0.15);\n",
              "    fill: #174EA6;\n",
              "  }\n",
              "\n",
              "  [theme=dark] .colab-df-quickchart {\n",
              "    background-color: #3B4455;\n",
              "    fill: #D2E3FC;\n",
              "  }\n",
              "\n",
              "  [theme=dark] .colab-df-quickchart:hover {\n",
              "    background-color: #434B5C;\n",
              "    box-shadow: 0px 1px 3px 1px rgba(0, 0, 0, 0.15);\n",
              "    filter: drop-shadow(0px 1px 2px rgba(0, 0, 0, 0.3));\n",
              "    fill: #FFFFFF;\n",
              "  }\n",
              "</style>\n",
              "\n",
              "    <script>\n",
              "      async function quickchart(key) {\n",
              "        const containerElement = document.querySelector('#' + key);\n",
              "        const charts = await google.colab.kernel.invokeFunction(\n",
              "            'suggestCharts', [key], {});\n",
              "      }\n",
              "    </script>\n",
              "\n",
              "      <script>\n",
              "\n",
              "function displayQuickchartButton(domScope) {\n",
              "  let quickchartButtonEl =\n",
              "    domScope.querySelector('#df-7c7c9f37-834c-4b0c-84b1-58264e8d4cff button.colab-df-quickchart');\n",
              "  quickchartButtonEl.style.display =\n",
              "    google.colab.kernel.accessAllowed ? 'block' : 'none';\n",
              "}\n",
              "\n",
              "        displayQuickchartButton(document);\n",
              "      </script>\n",
              "      <style>\n",
              "    .colab-df-container {\n",
              "      display:flex;\n",
              "      flex-wrap:wrap;\n",
              "      gap: 12px;\n",
              "    }\n",
              "\n",
              "    .colab-df-convert {\n",
              "      background-color: #E8F0FE;\n",
              "      border: none;\n",
              "      border-radius: 50%;\n",
              "      cursor: pointer;\n",
              "      display: none;\n",
              "      fill: #1967D2;\n",
              "      height: 32px;\n",
              "      padding: 0 0 0 0;\n",
              "      width: 32px;\n",
              "    }\n",
              "\n",
              "    .colab-df-convert:hover {\n",
              "      background-color: #E2EBFA;\n",
              "      box-shadow: 0px 1px 2px rgba(60, 64, 67, 0.3), 0px 1px 3px 1px rgba(60, 64, 67, 0.15);\n",
              "      fill: #174EA6;\n",
              "    }\n",
              "\n",
              "    [theme=dark] .colab-df-convert {\n",
              "      background-color: #3B4455;\n",
              "      fill: #D2E3FC;\n",
              "    }\n",
              "\n",
              "    [theme=dark] .colab-df-convert:hover {\n",
              "      background-color: #434B5C;\n",
              "      box-shadow: 0px 1px 3px 1px rgba(0, 0, 0, 0.15);\n",
              "      filter: drop-shadow(0px 1px 2px rgba(0, 0, 0, 0.3));\n",
              "      fill: #FFFFFF;\n",
              "    }\n",
              "  </style>\n",
              "\n",
              "      <script>\n",
              "        const buttonEl =\n",
              "          document.querySelector('#df-1835ddc6-b280-4c66-85a5-22ac7c67ee81 button.colab-df-convert');\n",
              "        buttonEl.style.display =\n",
              "          google.colab.kernel.accessAllowed ? 'block' : 'none';\n",
              "\n",
              "        async function convertToInteractive(key) {\n",
              "          const element = document.querySelector('#df-1835ddc6-b280-4c66-85a5-22ac7c67ee81');\n",
              "          const dataTable =\n",
              "            await google.colab.kernel.invokeFunction('convertToInteractive',\n",
              "                                                     [key], {});\n",
              "          if (!dataTable) return;\n",
              "\n",
              "          const docLinkHtml = 'Like what you see? Visit the ' +\n",
              "            '<a target=\"_blank\" href=https://colab.research.google.com/notebooks/data_table.ipynb>data table notebook</a>'\n",
              "            + ' to learn more about interactive tables.';\n",
              "          element.innerHTML = '';\n",
              "          dataTable['output_type'] = 'display_data';\n",
              "          await google.colab.output.renderOutput(dataTable, element);\n",
              "          const docLink = document.createElement('div');\n",
              "          docLink.innerHTML = docLinkHtml;\n",
              "          element.appendChild(docLink);\n",
              "        }\n",
              "      </script>\n",
              "    </div>\n",
              "  </div>\n"
            ]
          },
          "metadata": {},
          "execution_count": 104
        }
      ]
    },
    {
      "cell_type": "markdown",
      "source": [
        "Agora a máquina vai ser capaz de entender essas informações, porém havia outras colunas na nossa base de dados com informações além de sim e não como, por exemplo, o próprio serviço telefônico, se a pessoa tem ou não, sem serviço telefônico, o tipo de internet.\n",
        "\n",
        "Para lidar com essas informações, iremos utilizar a função `get_dummies`. Essa função vai pegar as colunas e identificar as categorias presentes nessas colunas. E a partir de um loop vai pegar todas essas categorias presentes nas colunas e transformar em novas colunas binarizadas.\n",
        "\n",
        "Para isso, primeiramente iremos pegar a nossa base de dados original e remover as colunas que já foram tratadas."
      ],
      "metadata": {
        "id": "P4KUkcFa_I_p"
      }
    },
    {
      "cell_type": "code",
      "source": [
        "dados.drop(['Conjuge', 'Dependentes', 'TelefoneFixo', 'PagamentoOnline', 'Churn'], axis=1, inplace=True)"
      ],
      "metadata": {
        "id": "d3CXW-idAYg3"
      },
      "execution_count": null,
      "outputs": []
    },
    {
      "cell_type": "markdown",
      "source": [
        "Agora iremos pegar essas colunas categóricas não-binárias e binarizar elas, utilizando o `get_dummies`."
      ],
      "metadata": {
        "id": "T_SztUsiBFFf"
      }
    },
    {
      "cell_type": "code",
      "source": [
        "dummie_dados = pd.get_dummies(dados)"
      ],
      "metadata": {
        "id": "o6ZiqsACAEGS"
      },
      "execution_count": null,
      "outputs": []
    },
    {
      "cell_type": "markdown",
      "source": [
        "Você pode ta se perguntando agora, mas e as colunas numéricas? Aquelas que representavam medidas quantitativas, como **MesesDeContrato** e **ContaMensal**?\n",
        "\n",
        "Fique tranquilo, o `get_dummies` ignora automaticamente essas colunas e binariza somente as colunas categóricas. Podemos conferir o resultado a seguir:"
      ],
      "metadata": {
        "id": "S2JXr5O7BnzM"
      }
    },
    {
      "cell_type": "code",
      "source": [
        "dummie_dados.head()"
      ],
      "metadata": {
        "colab": {
          "base_uri": "https://localhost:8080/",
          "height": 270
        },
        "id": "95yqcnlJBSoO",
        "outputId": "aec44a72-e425-4ad8-8c1c-800fb7a1ee4e"
      },
      "execution_count": null,
      "outputs": [
        {
          "output_type": "execute_result",
          "data": {
            "text/plain": [
              "   Maior65Anos  MesesDeContrato  ContaMensal  VariasLinhasTelefonicas_Nao  \\\n",
              "0            0                1        29.85                            0   \n",
              "1            0               34        56.95                            1   \n",
              "2            0                2        53.85                            1   \n",
              "3            0               45        42.30                            0   \n",
              "4            0                2        70.70                            1   \n",
              "\n",
              "   VariasLinhasTelefonicas_SemServicoTelefonico  VariasLinhasTelefonicas_Sim  \\\n",
              "0                                             1                            0   \n",
              "1                                             0                            0   \n",
              "2                                             0                            0   \n",
              "3                                             1                            0   \n",
              "4                                             0                            0   \n",
              "\n",
              "   ServicoDeInternet_DSL  ServicoDeInternet_FibraOptica  \\\n",
              "0                      1                              0   \n",
              "1                      1                              0   \n",
              "2                      1                              0   \n",
              "3                      1                              0   \n",
              "4                      0                              1   \n",
              "\n",
              "   ServicoDeInternet_Nao  SegurancaOnline_Nao  \\\n",
              "0                      0                    1   \n",
              "1                      0                    0   \n",
              "2                      0                    0   \n",
              "3                      0                    0   \n",
              "4                      0                    1   \n",
              "\n",
              "   SegurancaOnline_SemServicoDeInternet  SegurancaOnline_Sim  \\\n",
              "0                                     0                    0   \n",
              "1                                     0                    1   \n",
              "2                                     0                    1   \n",
              "3                                     0                    1   \n",
              "4                                     0                    0   \n",
              "\n",
              "   BackupOnline_Nao  BackupOnline_SemServicoDeInternet  BackupOnline_Sim  \\\n",
              "0                 0                                  0                 1   \n",
              "1                 1                                  0                 0   \n",
              "2                 0                                  0                 1   \n",
              "3                 1                                  0                 0   \n",
              "4                 1                                  0                 0   \n",
              "\n",
              "   SeguroNoDispositivo_Nao  SeguroNoDispositivo_SemServicoDeInternet  \\\n",
              "0                        1                                         0   \n",
              "1                        0                                         0   \n",
              "2                        1                                         0   \n",
              "3                        0                                         0   \n",
              "4                        1                                         0   \n",
              "\n",
              "   SeguroNoDispositivo_Sim  SuporteTecnico_Nao  \\\n",
              "0                        0                   1   \n",
              "1                        1                   1   \n",
              "2                        0                   1   \n",
              "3                        1                   0   \n",
              "4                        0                   1   \n",
              "\n",
              "   SuporteTecnico_SemServicoDeInternet  SuporteTecnico_Sim  TVaCabo_Nao  \\\n",
              "0                                    0                   0            1   \n",
              "1                                    0                   0            1   \n",
              "2                                    0                   0            1   \n",
              "3                                    0                   1            1   \n",
              "4                                    0                   0            1   \n",
              "\n",
              "   TVaCabo_SemServicoDeInternet  TVaCabo_Sim  StreamingDeFilmes_Nao  \\\n",
              "0                             0            0                      1   \n",
              "1                             0            0                      1   \n",
              "2                             0            0                      1   \n",
              "3                             0            0                      1   \n",
              "4                             0            0                      1   \n",
              "\n",
              "   StreamingDeFilmes_SemServicoDeInternet  StreamingDeFilmes_Sim  \\\n",
              "0                                       0                      0   \n",
              "1                                       0                      0   \n",
              "2                                       0                      0   \n",
              "3                                       0                      0   \n",
              "4                                       0                      0   \n",
              "\n",
              "   TipoDeContrato_DoisAnos  TipoDeContrato_Mensalmente  TipoDeContrato_UmAno  \\\n",
              "0                        0                           1                     0   \n",
              "1                        0                           0                     1   \n",
              "2                        0                           1                     0   \n",
              "3                        0                           0                     1   \n",
              "4                        0                           1                     0   \n",
              "\n",
              "   FormaDePagamento_CartaoDeCredito  FormaDePagamento_ChequeDigital  \\\n",
              "0                                 0                               1   \n",
              "1                                 0                               0   \n",
              "2                                 0                               0   \n",
              "3                                 0                               0   \n",
              "4                                 0                               1   \n",
              "\n",
              "   FormaDePagamento_ChequePapel  FormaDePagamento_DebitoEmConta  \n",
              "0                             0                               0  \n",
              "1                             1                               0  \n",
              "2                             1                               0  \n",
              "3                             0                               1  \n",
              "4                             0                               0  "
            ],
            "text/html": [
              "\n",
              "\n",
              "  <div id=\"df-ba2626a6-1e8d-48cd-9e26-f5503d18c73a\">\n",
              "    <div class=\"colab-df-container\">\n",
              "      <div>\n",
              "<style scoped>\n",
              "    .dataframe tbody tr th:only-of-type {\n",
              "        vertical-align: middle;\n",
              "    }\n",
              "\n",
              "    .dataframe tbody tr th {\n",
              "        vertical-align: top;\n",
              "    }\n",
              "\n",
              "    .dataframe thead th {\n",
              "        text-align: right;\n",
              "    }\n",
              "</style>\n",
              "<table border=\"1\" class=\"dataframe\">\n",
              "  <thead>\n",
              "    <tr style=\"text-align: right;\">\n",
              "      <th></th>\n",
              "      <th>Maior65Anos</th>\n",
              "      <th>MesesDeContrato</th>\n",
              "      <th>ContaMensal</th>\n",
              "      <th>VariasLinhasTelefonicas_Nao</th>\n",
              "      <th>VariasLinhasTelefonicas_SemServicoTelefonico</th>\n",
              "      <th>VariasLinhasTelefonicas_Sim</th>\n",
              "      <th>ServicoDeInternet_DSL</th>\n",
              "      <th>ServicoDeInternet_FibraOptica</th>\n",
              "      <th>ServicoDeInternet_Nao</th>\n",
              "      <th>SegurancaOnline_Nao</th>\n",
              "      <th>SegurancaOnline_SemServicoDeInternet</th>\n",
              "      <th>SegurancaOnline_Sim</th>\n",
              "      <th>BackupOnline_Nao</th>\n",
              "      <th>BackupOnline_SemServicoDeInternet</th>\n",
              "      <th>BackupOnline_Sim</th>\n",
              "      <th>SeguroNoDispositivo_Nao</th>\n",
              "      <th>SeguroNoDispositivo_SemServicoDeInternet</th>\n",
              "      <th>SeguroNoDispositivo_Sim</th>\n",
              "      <th>SuporteTecnico_Nao</th>\n",
              "      <th>SuporteTecnico_SemServicoDeInternet</th>\n",
              "      <th>SuporteTecnico_Sim</th>\n",
              "      <th>TVaCabo_Nao</th>\n",
              "      <th>TVaCabo_SemServicoDeInternet</th>\n",
              "      <th>TVaCabo_Sim</th>\n",
              "      <th>StreamingDeFilmes_Nao</th>\n",
              "      <th>StreamingDeFilmes_SemServicoDeInternet</th>\n",
              "      <th>StreamingDeFilmes_Sim</th>\n",
              "      <th>TipoDeContrato_DoisAnos</th>\n",
              "      <th>TipoDeContrato_Mensalmente</th>\n",
              "      <th>TipoDeContrato_UmAno</th>\n",
              "      <th>FormaDePagamento_CartaoDeCredito</th>\n",
              "      <th>FormaDePagamento_ChequeDigital</th>\n",
              "      <th>FormaDePagamento_ChequePapel</th>\n",
              "      <th>FormaDePagamento_DebitoEmConta</th>\n",
              "    </tr>\n",
              "  </thead>\n",
              "  <tbody>\n",
              "    <tr>\n",
              "      <th>0</th>\n",
              "      <td>0</td>\n",
              "      <td>1</td>\n",
              "      <td>29.85</td>\n",
              "      <td>0</td>\n",
              "      <td>1</td>\n",
              "      <td>0</td>\n",
              "      <td>1</td>\n",
              "      <td>0</td>\n",
              "      <td>0</td>\n",
              "      <td>1</td>\n",
              "      <td>0</td>\n",
              "      <td>0</td>\n",
              "      <td>0</td>\n",
              "      <td>0</td>\n",
              "      <td>1</td>\n",
              "      <td>1</td>\n",
              "      <td>0</td>\n",
              "      <td>0</td>\n",
              "      <td>1</td>\n",
              "      <td>0</td>\n",
              "      <td>0</td>\n",
              "      <td>1</td>\n",
              "      <td>0</td>\n",
              "      <td>0</td>\n",
              "      <td>1</td>\n",
              "      <td>0</td>\n",
              "      <td>0</td>\n",
              "      <td>0</td>\n",
              "      <td>1</td>\n",
              "      <td>0</td>\n",
              "      <td>0</td>\n",
              "      <td>1</td>\n",
              "      <td>0</td>\n",
              "      <td>0</td>\n",
              "    </tr>\n",
              "    <tr>\n",
              "      <th>1</th>\n",
              "      <td>0</td>\n",
              "      <td>34</td>\n",
              "      <td>56.95</td>\n",
              "      <td>1</td>\n",
              "      <td>0</td>\n",
              "      <td>0</td>\n",
              "      <td>1</td>\n",
              "      <td>0</td>\n",
              "      <td>0</td>\n",
              "      <td>0</td>\n",
              "      <td>0</td>\n",
              "      <td>1</td>\n",
              "      <td>1</td>\n",
              "      <td>0</td>\n",
              "      <td>0</td>\n",
              "      <td>0</td>\n",
              "      <td>0</td>\n",
              "      <td>1</td>\n",
              "      <td>1</td>\n",
              "      <td>0</td>\n",
              "      <td>0</td>\n",
              "      <td>1</td>\n",
              "      <td>0</td>\n",
              "      <td>0</td>\n",
              "      <td>1</td>\n",
              "      <td>0</td>\n",
              "      <td>0</td>\n",
              "      <td>0</td>\n",
              "      <td>0</td>\n",
              "      <td>1</td>\n",
              "      <td>0</td>\n",
              "      <td>0</td>\n",
              "      <td>1</td>\n",
              "      <td>0</td>\n",
              "    </tr>\n",
              "    <tr>\n",
              "      <th>2</th>\n",
              "      <td>0</td>\n",
              "      <td>2</td>\n",
              "      <td>53.85</td>\n",
              "      <td>1</td>\n",
              "      <td>0</td>\n",
              "      <td>0</td>\n",
              "      <td>1</td>\n",
              "      <td>0</td>\n",
              "      <td>0</td>\n",
              "      <td>0</td>\n",
              "      <td>0</td>\n",
              "      <td>1</td>\n",
              "      <td>0</td>\n",
              "      <td>0</td>\n",
              "      <td>1</td>\n",
              "      <td>1</td>\n",
              "      <td>0</td>\n",
              "      <td>0</td>\n",
              "      <td>1</td>\n",
              "      <td>0</td>\n",
              "      <td>0</td>\n",
              "      <td>1</td>\n",
              "      <td>0</td>\n",
              "      <td>0</td>\n",
              "      <td>1</td>\n",
              "      <td>0</td>\n",
              "      <td>0</td>\n",
              "      <td>0</td>\n",
              "      <td>1</td>\n",
              "      <td>0</td>\n",
              "      <td>0</td>\n",
              "      <td>0</td>\n",
              "      <td>1</td>\n",
              "      <td>0</td>\n",
              "    </tr>\n",
              "    <tr>\n",
              "      <th>3</th>\n",
              "      <td>0</td>\n",
              "      <td>45</td>\n",
              "      <td>42.30</td>\n",
              "      <td>0</td>\n",
              "      <td>1</td>\n",
              "      <td>0</td>\n",
              "      <td>1</td>\n",
              "      <td>0</td>\n",
              "      <td>0</td>\n",
              "      <td>0</td>\n",
              "      <td>0</td>\n",
              "      <td>1</td>\n",
              "      <td>1</td>\n",
              "      <td>0</td>\n",
              "      <td>0</td>\n",
              "      <td>0</td>\n",
              "      <td>0</td>\n",
              "      <td>1</td>\n",
              "      <td>0</td>\n",
              "      <td>0</td>\n",
              "      <td>1</td>\n",
              "      <td>1</td>\n",
              "      <td>0</td>\n",
              "      <td>0</td>\n",
              "      <td>1</td>\n",
              "      <td>0</td>\n",
              "      <td>0</td>\n",
              "      <td>0</td>\n",
              "      <td>0</td>\n",
              "      <td>1</td>\n",
              "      <td>0</td>\n",
              "      <td>0</td>\n",
              "      <td>0</td>\n",
              "      <td>1</td>\n",
              "    </tr>\n",
              "    <tr>\n",
              "      <th>4</th>\n",
              "      <td>0</td>\n",
              "      <td>2</td>\n",
              "      <td>70.70</td>\n",
              "      <td>1</td>\n",
              "      <td>0</td>\n",
              "      <td>0</td>\n",
              "      <td>0</td>\n",
              "      <td>1</td>\n",
              "      <td>0</td>\n",
              "      <td>1</td>\n",
              "      <td>0</td>\n",
              "      <td>0</td>\n",
              "      <td>1</td>\n",
              "      <td>0</td>\n",
              "      <td>0</td>\n",
              "      <td>1</td>\n",
              "      <td>0</td>\n",
              "      <td>0</td>\n",
              "      <td>1</td>\n",
              "      <td>0</td>\n",
              "      <td>0</td>\n",
              "      <td>1</td>\n",
              "      <td>0</td>\n",
              "      <td>0</td>\n",
              "      <td>1</td>\n",
              "      <td>0</td>\n",
              "      <td>0</td>\n",
              "      <td>0</td>\n",
              "      <td>1</td>\n",
              "      <td>0</td>\n",
              "      <td>0</td>\n",
              "      <td>1</td>\n",
              "      <td>0</td>\n",
              "      <td>0</td>\n",
              "    </tr>\n",
              "  </tbody>\n",
              "</table>\n",
              "</div>\n",
              "      <button class=\"colab-df-convert\" onclick=\"convertToInteractive('df-ba2626a6-1e8d-48cd-9e26-f5503d18c73a')\"\n",
              "              title=\"Convert this dataframe to an interactive table.\"\n",
              "              style=\"display:none;\">\n",
              "\n",
              "  <svg xmlns=\"http://www.w3.org/2000/svg\" height=\"24px\"viewBox=\"0 0 24 24\"\n",
              "       width=\"24px\">\n",
              "    <path d=\"M0 0h24v24H0V0z\" fill=\"none\"/>\n",
              "    <path d=\"M18.56 5.44l.94 2.06.94-2.06 2.06-.94-2.06-.94-.94-2.06-.94 2.06-2.06.94zm-11 1L8.5 8.5l.94-2.06 2.06-.94-2.06-.94L8.5 2.5l-.94 2.06-2.06.94zm10 10l.94 2.06.94-2.06 2.06-.94-2.06-.94-.94-2.06-.94 2.06-2.06.94z\"/><path d=\"M17.41 7.96l-1.37-1.37c-.4-.4-.92-.59-1.43-.59-.52 0-1.04.2-1.43.59L10.3 9.45l-7.72 7.72c-.78.78-.78 2.05 0 2.83L4 21.41c.39.39.9.59 1.41.59.51 0 1.02-.2 1.41-.59l7.78-7.78 2.81-2.81c.8-.78.8-2.07 0-2.86zM5.41 20L4 18.59l7.72-7.72 1.47 1.35L5.41 20z\"/>\n",
              "  </svg>\n",
              "      </button>\n",
              "\n",
              "\n",
              "\n",
              "    <div id=\"df-6d8aa97a-b476-4dad-b696-d66c5e83b406\">\n",
              "      <button class=\"colab-df-quickchart\" onclick=\"quickchart('df-6d8aa97a-b476-4dad-b696-d66c5e83b406')\"\n",
              "              title=\"Suggest charts.\"\n",
              "              style=\"display:none;\">\n",
              "\n",
              "<svg xmlns=\"http://www.w3.org/2000/svg\" height=\"24px\"viewBox=\"0 0 24 24\"\n",
              "     width=\"24px\">\n",
              "    <g>\n",
              "        <path d=\"M19 3H5c-1.1 0-2 .9-2 2v14c0 1.1.9 2 2 2h14c1.1 0 2-.9 2-2V5c0-1.1-.9-2-2-2zM9 17H7v-7h2v7zm4 0h-2V7h2v10zm4 0h-2v-4h2v4z\"/>\n",
              "    </g>\n",
              "</svg>\n",
              "      </button>\n",
              "    </div>\n",
              "\n",
              "<style>\n",
              "  .colab-df-quickchart {\n",
              "    background-color: #E8F0FE;\n",
              "    border: none;\n",
              "    border-radius: 50%;\n",
              "    cursor: pointer;\n",
              "    display: none;\n",
              "    fill: #1967D2;\n",
              "    height: 32px;\n",
              "    padding: 0 0 0 0;\n",
              "    width: 32px;\n",
              "  }\n",
              "\n",
              "  .colab-df-quickchart:hover {\n",
              "    background-color: #E2EBFA;\n",
              "    box-shadow: 0px 1px 2px rgba(60, 64, 67, 0.3), 0px 1px 3px 1px rgba(60, 64, 67, 0.15);\n",
              "    fill: #174EA6;\n",
              "  }\n",
              "\n",
              "  [theme=dark] .colab-df-quickchart {\n",
              "    background-color: #3B4455;\n",
              "    fill: #D2E3FC;\n",
              "  }\n",
              "\n",
              "  [theme=dark] .colab-df-quickchart:hover {\n",
              "    background-color: #434B5C;\n",
              "    box-shadow: 0px 1px 3px 1px rgba(0, 0, 0, 0.15);\n",
              "    filter: drop-shadow(0px 1px 2px rgba(0, 0, 0, 0.3));\n",
              "    fill: #FFFFFF;\n",
              "  }\n",
              "</style>\n",
              "\n",
              "    <script>\n",
              "      async function quickchart(key) {\n",
              "        const containerElement = document.querySelector('#' + key);\n",
              "        const charts = await google.colab.kernel.invokeFunction(\n",
              "            'suggestCharts', [key], {});\n",
              "      }\n",
              "    </script>\n",
              "\n",
              "      <script>\n",
              "\n",
              "function displayQuickchartButton(domScope) {\n",
              "  let quickchartButtonEl =\n",
              "    domScope.querySelector('#df-6d8aa97a-b476-4dad-b696-d66c5e83b406 button.colab-df-quickchart');\n",
              "  quickchartButtonEl.style.display =\n",
              "    google.colab.kernel.accessAllowed ? 'block' : 'none';\n",
              "}\n",
              "\n",
              "        displayQuickchartButton(document);\n",
              "      </script>\n",
              "      <style>\n",
              "    .colab-df-container {\n",
              "      display:flex;\n",
              "      flex-wrap:wrap;\n",
              "      gap: 12px;\n",
              "    }\n",
              "\n",
              "    .colab-df-convert {\n",
              "      background-color: #E8F0FE;\n",
              "      border: none;\n",
              "      border-radius: 50%;\n",
              "      cursor: pointer;\n",
              "      display: none;\n",
              "      fill: #1967D2;\n",
              "      height: 32px;\n",
              "      padding: 0 0 0 0;\n",
              "      width: 32px;\n",
              "    }\n",
              "\n",
              "    .colab-df-convert:hover {\n",
              "      background-color: #E2EBFA;\n",
              "      box-shadow: 0px 1px 2px rgba(60, 64, 67, 0.3), 0px 1px 3px 1px rgba(60, 64, 67, 0.15);\n",
              "      fill: #174EA6;\n",
              "    }\n",
              "\n",
              "    [theme=dark] .colab-df-convert {\n",
              "      background-color: #3B4455;\n",
              "      fill: #D2E3FC;\n",
              "    }\n",
              "\n",
              "    [theme=dark] .colab-df-convert:hover {\n",
              "      background-color: #434B5C;\n",
              "      box-shadow: 0px 1px 3px 1px rgba(0, 0, 0, 0.15);\n",
              "      filter: drop-shadow(0px 1px 2px rgba(0, 0, 0, 0.3));\n",
              "      fill: #FFFFFF;\n",
              "    }\n",
              "  </style>\n",
              "\n",
              "      <script>\n",
              "        const buttonEl =\n",
              "          document.querySelector('#df-ba2626a6-1e8d-48cd-9e26-f5503d18c73a button.colab-df-convert');\n",
              "        buttonEl.style.display =\n",
              "          google.colab.kernel.accessAllowed ? 'block' : 'none';\n",
              "\n",
              "        async function convertToInteractive(key) {\n",
              "          const element = document.querySelector('#df-ba2626a6-1e8d-48cd-9e26-f5503d18c73a');\n",
              "          const dataTable =\n",
              "            await google.colab.kernel.invokeFunction('convertToInteractive',\n",
              "                                                     [key], {});\n",
              "          if (!dataTable) return;\n",
              "\n",
              "          const docLinkHtml = 'Like what you see? Visit the ' +\n",
              "            '<a target=\"_blank\" href=https://colab.research.google.com/notebooks/data_table.ipynb>data table notebook</a>'\n",
              "            + ' to learn more about interactive tables.';\n",
              "          element.innerHTML = '';\n",
              "          dataTable['output_type'] = 'display_data';\n",
              "          await google.colab.output.renderOutput(dataTable, element);\n",
              "          const docLink = document.createElement('div');\n",
              "          docLink.innerHTML = docLinkHtml;\n",
              "          element.appendChild(docLink);\n",
              "        }\n",
              "      </script>\n",
              "    </div>\n",
              "  </div>\n"
            ]
          },
          "metadata": {},
          "execution_count": 107
        }
      ]
    },
    {
      "cell_type": "markdown",
      "source": [
        "Agora podemos concatenar as duas novas tabelas que geramos em uma só, para que assim fique mais fácil de trabalharmos, com os nossos dados já tratados."
      ],
      "metadata": {
        "id": "Bde-YwWnC4YR"
      }
    },
    {
      "cell_type": "code",
      "source": [
        "dados_final = pd.concat([dadosbinarios, dummie_dados], axis=1)\n",
        "dados_final.head(10)"
      ],
      "metadata": {
        "colab": {
          "base_uri": "https://localhost:8080/",
          "height": 427
        },
        "id": "UEXKQ894Cz2i",
        "outputId": "87b6e355-7494-4af8-bf6e-b1af2c59860f"
      },
      "execution_count": null,
      "outputs": [
        {
          "output_type": "execute_result",
          "data": {
            "text/plain": [
              "   Conjuge  Dependentes  TelefoneFixo  PagamentoOnline  Churn  Maior65Anos  \\\n",
              "0        1            0             0                1      0            0   \n",
              "1        0            0             1                0      0            0   \n",
              "2        0            0             1                1      1            0   \n",
              "3        0            0             0                0      0            0   \n",
              "4        0            0             1                1      1            0   \n",
              "5        0            0             1                1      1            0   \n",
              "6        0            1             1                1      0            0   \n",
              "7        0            0             0                0      0            0   \n",
              "8        1            0             1                1      1            0   \n",
              "9        0            1             1                0      0            0   \n",
              "\n",
              "   MesesDeContrato  ContaMensal  VariasLinhasTelefonicas_Nao  \\\n",
              "0                1        29.85                            0   \n",
              "1               34        56.95                            1   \n",
              "2                2        53.85                            1   \n",
              "3               45        42.30                            0   \n",
              "4                2        70.70                            1   \n",
              "5                8        99.65                            0   \n",
              "6               22        89.10                            0   \n",
              "7               10        29.75                            0   \n",
              "8               28       104.80                            0   \n",
              "9               62        56.15                            1   \n",
              "\n",
              "   VariasLinhasTelefonicas_SemServicoTelefonico  VariasLinhasTelefonicas_Sim  \\\n",
              "0                                             1                            0   \n",
              "1                                             0                            0   \n",
              "2                                             0                            0   \n",
              "3                                             1                            0   \n",
              "4                                             0                            0   \n",
              "5                                             0                            1   \n",
              "6                                             0                            1   \n",
              "7                                             1                            0   \n",
              "8                                             0                            1   \n",
              "9                                             0                            0   \n",
              "\n",
              "   ServicoDeInternet_DSL  ServicoDeInternet_FibraOptica  \\\n",
              "0                      1                              0   \n",
              "1                      1                              0   \n",
              "2                      1                              0   \n",
              "3                      1                              0   \n",
              "4                      0                              1   \n",
              "5                      0                              1   \n",
              "6                      0                              1   \n",
              "7                      1                              0   \n",
              "8                      0                              1   \n",
              "9                      1                              0   \n",
              "\n",
              "   ServicoDeInternet_Nao  SegurancaOnline_Nao  \\\n",
              "0                      0                    1   \n",
              "1                      0                    0   \n",
              "2                      0                    0   \n",
              "3                      0                    0   \n",
              "4                      0                    1   \n",
              "5                      0                    1   \n",
              "6                      0                    1   \n",
              "7                      0                    0   \n",
              "8                      0                    1   \n",
              "9                      0                    0   \n",
              "\n",
              "   SegurancaOnline_SemServicoDeInternet  SegurancaOnline_Sim  \\\n",
              "0                                     0                    0   \n",
              "1                                     0                    1   \n",
              "2                                     0                    1   \n",
              "3                                     0                    1   \n",
              "4                                     0                    0   \n",
              "5                                     0                    0   \n",
              "6                                     0                    0   \n",
              "7                                     0                    1   \n",
              "8                                     0                    0   \n",
              "9                                     0                    1   \n",
              "\n",
              "   BackupOnline_Nao  BackupOnline_SemServicoDeInternet  BackupOnline_Sim  \\\n",
              "0                 0                                  0                 1   \n",
              "1                 1                                  0                 0   \n",
              "2                 0                                  0                 1   \n",
              "3                 1                                  0                 0   \n",
              "4                 1                                  0                 0   \n",
              "5                 1                                  0                 0   \n",
              "6                 0                                  0                 1   \n",
              "7                 1                                  0                 0   \n",
              "8                 1                                  0                 0   \n",
              "9                 0                                  0                 1   \n",
              "\n",
              "   SeguroNoDispositivo_Nao  SeguroNoDispositivo_SemServicoDeInternet  \\\n",
              "0                        1                                         0   \n",
              "1                        0                                         0   \n",
              "2                        1                                         0   \n",
              "3                        0                                         0   \n",
              "4                        1                                         0   \n",
              "5                        0                                         0   \n",
              "6                        1                                         0   \n",
              "7                        1                                         0   \n",
              "8                        0                                         0   \n",
              "9                        1                                         0   \n",
              "\n",
              "   SeguroNoDispositivo_Sim  SuporteTecnico_Nao  \\\n",
              "0                        0                   1   \n",
              "1                        1                   1   \n",
              "2                        0                   1   \n",
              "3                        1                   0   \n",
              "4                        0                   1   \n",
              "5                        1                   1   \n",
              "6                        0                   1   \n",
              "7                        0                   1   \n",
              "8                        1                   0   \n",
              "9                        0                   1   \n",
              "\n",
              "   SuporteTecnico_SemServicoDeInternet  SuporteTecnico_Sim  TVaCabo_Nao  \\\n",
              "0                                    0                   0            1   \n",
              "1                                    0                   0            1   \n",
              "2                                    0                   0            1   \n",
              "3                                    0                   1            1   \n",
              "4                                    0                   0            1   \n",
              "5                                    0                   0            0   \n",
              "6                                    0                   0            0   \n",
              "7                                    0                   0            1   \n",
              "8                                    0                   1            0   \n",
              "9                                    0                   0            1   \n",
              "\n",
              "   TVaCabo_SemServicoDeInternet  TVaCabo_Sim  StreamingDeFilmes_Nao  \\\n",
              "0                             0            0                      1   \n",
              "1                             0            0                      1   \n",
              "2                             0            0                      1   \n",
              "3                             0            0                      1   \n",
              "4                             0            0                      1   \n",
              "5                             0            1                      0   \n",
              "6                             0            1                      1   \n",
              "7                             0            0                      1   \n",
              "8                             0            1                      0   \n",
              "9                             0            0                      1   \n",
              "\n",
              "   StreamingDeFilmes_SemServicoDeInternet  StreamingDeFilmes_Sim  \\\n",
              "0                                       0                      0   \n",
              "1                                       0                      0   \n",
              "2                                       0                      0   \n",
              "3                                       0                      0   \n",
              "4                                       0                      0   \n",
              "5                                       0                      1   \n",
              "6                                       0                      0   \n",
              "7                                       0                      0   \n",
              "8                                       0                      1   \n",
              "9                                       0                      0   \n",
              "\n",
              "   TipoDeContrato_DoisAnos  TipoDeContrato_Mensalmente  TipoDeContrato_UmAno  \\\n",
              "0                        0                           1                     0   \n",
              "1                        0                           0                     1   \n",
              "2                        0                           1                     0   \n",
              "3                        0                           0                     1   \n",
              "4                        0                           1                     0   \n",
              "5                        0                           1                     0   \n",
              "6                        0                           1                     0   \n",
              "7                        0                           1                     0   \n",
              "8                        0                           1                     0   \n",
              "9                        0                           0                     1   \n",
              "\n",
              "   FormaDePagamento_CartaoDeCredito  FormaDePagamento_ChequeDigital  \\\n",
              "0                                 0                               1   \n",
              "1                                 0                               0   \n",
              "2                                 0                               0   \n",
              "3                                 0                               0   \n",
              "4                                 0                               1   \n",
              "5                                 0                               1   \n",
              "6                                 1                               0   \n",
              "7                                 0                               0   \n",
              "8                                 0                               1   \n",
              "9                                 0                               0   \n",
              "\n",
              "   FormaDePagamento_ChequePapel  FormaDePagamento_DebitoEmConta  \n",
              "0                             0                               0  \n",
              "1                             1                               0  \n",
              "2                             1                               0  \n",
              "3                             0                               1  \n",
              "4                             0                               0  \n",
              "5                             0                               0  \n",
              "6                             0                               0  \n",
              "7                             1                               0  \n",
              "8                             0                               0  \n",
              "9                             0                               1  "
            ],
            "text/html": [
              "\n",
              "\n",
              "  <div id=\"df-402e740f-56b9-4858-825c-238bd45db46d\">\n",
              "    <div class=\"colab-df-container\">\n",
              "      <div>\n",
              "<style scoped>\n",
              "    .dataframe tbody tr th:only-of-type {\n",
              "        vertical-align: middle;\n",
              "    }\n",
              "\n",
              "    .dataframe tbody tr th {\n",
              "        vertical-align: top;\n",
              "    }\n",
              "\n",
              "    .dataframe thead th {\n",
              "        text-align: right;\n",
              "    }\n",
              "</style>\n",
              "<table border=\"1\" class=\"dataframe\">\n",
              "  <thead>\n",
              "    <tr style=\"text-align: right;\">\n",
              "      <th></th>\n",
              "      <th>Conjuge</th>\n",
              "      <th>Dependentes</th>\n",
              "      <th>TelefoneFixo</th>\n",
              "      <th>PagamentoOnline</th>\n",
              "      <th>Churn</th>\n",
              "      <th>Maior65Anos</th>\n",
              "      <th>MesesDeContrato</th>\n",
              "      <th>ContaMensal</th>\n",
              "      <th>VariasLinhasTelefonicas_Nao</th>\n",
              "      <th>VariasLinhasTelefonicas_SemServicoTelefonico</th>\n",
              "      <th>VariasLinhasTelefonicas_Sim</th>\n",
              "      <th>ServicoDeInternet_DSL</th>\n",
              "      <th>ServicoDeInternet_FibraOptica</th>\n",
              "      <th>ServicoDeInternet_Nao</th>\n",
              "      <th>SegurancaOnline_Nao</th>\n",
              "      <th>SegurancaOnline_SemServicoDeInternet</th>\n",
              "      <th>SegurancaOnline_Sim</th>\n",
              "      <th>BackupOnline_Nao</th>\n",
              "      <th>BackupOnline_SemServicoDeInternet</th>\n",
              "      <th>BackupOnline_Sim</th>\n",
              "      <th>SeguroNoDispositivo_Nao</th>\n",
              "      <th>SeguroNoDispositivo_SemServicoDeInternet</th>\n",
              "      <th>SeguroNoDispositivo_Sim</th>\n",
              "      <th>SuporteTecnico_Nao</th>\n",
              "      <th>SuporteTecnico_SemServicoDeInternet</th>\n",
              "      <th>SuporteTecnico_Sim</th>\n",
              "      <th>TVaCabo_Nao</th>\n",
              "      <th>TVaCabo_SemServicoDeInternet</th>\n",
              "      <th>TVaCabo_Sim</th>\n",
              "      <th>StreamingDeFilmes_Nao</th>\n",
              "      <th>StreamingDeFilmes_SemServicoDeInternet</th>\n",
              "      <th>StreamingDeFilmes_Sim</th>\n",
              "      <th>TipoDeContrato_DoisAnos</th>\n",
              "      <th>TipoDeContrato_Mensalmente</th>\n",
              "      <th>TipoDeContrato_UmAno</th>\n",
              "      <th>FormaDePagamento_CartaoDeCredito</th>\n",
              "      <th>FormaDePagamento_ChequeDigital</th>\n",
              "      <th>FormaDePagamento_ChequePapel</th>\n",
              "      <th>FormaDePagamento_DebitoEmConta</th>\n",
              "    </tr>\n",
              "  </thead>\n",
              "  <tbody>\n",
              "    <tr>\n",
              "      <th>0</th>\n",
              "      <td>1</td>\n",
              "      <td>0</td>\n",
              "      <td>0</td>\n",
              "      <td>1</td>\n",
              "      <td>0</td>\n",
              "      <td>0</td>\n",
              "      <td>1</td>\n",
              "      <td>29.85</td>\n",
              "      <td>0</td>\n",
              "      <td>1</td>\n",
              "      <td>0</td>\n",
              "      <td>1</td>\n",
              "      <td>0</td>\n",
              "      <td>0</td>\n",
              "      <td>1</td>\n",
              "      <td>0</td>\n",
              "      <td>0</td>\n",
              "      <td>0</td>\n",
              "      <td>0</td>\n",
              "      <td>1</td>\n",
              "      <td>1</td>\n",
              "      <td>0</td>\n",
              "      <td>0</td>\n",
              "      <td>1</td>\n",
              "      <td>0</td>\n",
              "      <td>0</td>\n",
              "      <td>1</td>\n",
              "      <td>0</td>\n",
              "      <td>0</td>\n",
              "      <td>1</td>\n",
              "      <td>0</td>\n",
              "      <td>0</td>\n",
              "      <td>0</td>\n",
              "      <td>1</td>\n",
              "      <td>0</td>\n",
              "      <td>0</td>\n",
              "      <td>1</td>\n",
              "      <td>0</td>\n",
              "      <td>0</td>\n",
              "    </tr>\n",
              "    <tr>\n",
              "      <th>1</th>\n",
              "      <td>0</td>\n",
              "      <td>0</td>\n",
              "      <td>1</td>\n",
              "      <td>0</td>\n",
              "      <td>0</td>\n",
              "      <td>0</td>\n",
              "      <td>34</td>\n",
              "      <td>56.95</td>\n",
              "      <td>1</td>\n",
              "      <td>0</td>\n",
              "      <td>0</td>\n",
              "      <td>1</td>\n",
              "      <td>0</td>\n",
              "      <td>0</td>\n",
              "      <td>0</td>\n",
              "      <td>0</td>\n",
              "      <td>1</td>\n",
              "      <td>1</td>\n",
              "      <td>0</td>\n",
              "      <td>0</td>\n",
              "      <td>0</td>\n",
              "      <td>0</td>\n",
              "      <td>1</td>\n",
              "      <td>1</td>\n",
              "      <td>0</td>\n",
              "      <td>0</td>\n",
              "      <td>1</td>\n",
              "      <td>0</td>\n",
              "      <td>0</td>\n",
              "      <td>1</td>\n",
              "      <td>0</td>\n",
              "      <td>0</td>\n",
              "      <td>0</td>\n",
              "      <td>0</td>\n",
              "      <td>1</td>\n",
              "      <td>0</td>\n",
              "      <td>0</td>\n",
              "      <td>1</td>\n",
              "      <td>0</td>\n",
              "    </tr>\n",
              "    <tr>\n",
              "      <th>2</th>\n",
              "      <td>0</td>\n",
              "      <td>0</td>\n",
              "      <td>1</td>\n",
              "      <td>1</td>\n",
              "      <td>1</td>\n",
              "      <td>0</td>\n",
              "      <td>2</td>\n",
              "      <td>53.85</td>\n",
              "      <td>1</td>\n",
              "      <td>0</td>\n",
              "      <td>0</td>\n",
              "      <td>1</td>\n",
              "      <td>0</td>\n",
              "      <td>0</td>\n",
              "      <td>0</td>\n",
              "      <td>0</td>\n",
              "      <td>1</td>\n",
              "      <td>0</td>\n",
              "      <td>0</td>\n",
              "      <td>1</td>\n",
              "      <td>1</td>\n",
              "      <td>0</td>\n",
              "      <td>0</td>\n",
              "      <td>1</td>\n",
              "      <td>0</td>\n",
              "      <td>0</td>\n",
              "      <td>1</td>\n",
              "      <td>0</td>\n",
              "      <td>0</td>\n",
              "      <td>1</td>\n",
              "      <td>0</td>\n",
              "      <td>0</td>\n",
              "      <td>0</td>\n",
              "      <td>1</td>\n",
              "      <td>0</td>\n",
              "      <td>0</td>\n",
              "      <td>0</td>\n",
              "      <td>1</td>\n",
              "      <td>0</td>\n",
              "    </tr>\n",
              "    <tr>\n",
              "      <th>3</th>\n",
              "      <td>0</td>\n",
              "      <td>0</td>\n",
              "      <td>0</td>\n",
              "      <td>0</td>\n",
              "      <td>0</td>\n",
              "      <td>0</td>\n",
              "      <td>45</td>\n",
              "      <td>42.30</td>\n",
              "      <td>0</td>\n",
              "      <td>1</td>\n",
              "      <td>0</td>\n",
              "      <td>1</td>\n",
              "      <td>0</td>\n",
              "      <td>0</td>\n",
              "      <td>0</td>\n",
              "      <td>0</td>\n",
              "      <td>1</td>\n",
              "      <td>1</td>\n",
              "      <td>0</td>\n",
              "      <td>0</td>\n",
              "      <td>0</td>\n",
              "      <td>0</td>\n",
              "      <td>1</td>\n",
              "      <td>0</td>\n",
              "      <td>0</td>\n",
              "      <td>1</td>\n",
              "      <td>1</td>\n",
              "      <td>0</td>\n",
              "      <td>0</td>\n",
              "      <td>1</td>\n",
              "      <td>0</td>\n",
              "      <td>0</td>\n",
              "      <td>0</td>\n",
              "      <td>0</td>\n",
              "      <td>1</td>\n",
              "      <td>0</td>\n",
              "      <td>0</td>\n",
              "      <td>0</td>\n",
              "      <td>1</td>\n",
              "    </tr>\n",
              "    <tr>\n",
              "      <th>4</th>\n",
              "      <td>0</td>\n",
              "      <td>0</td>\n",
              "      <td>1</td>\n",
              "      <td>1</td>\n",
              "      <td>1</td>\n",
              "      <td>0</td>\n",
              "      <td>2</td>\n",
              "      <td>70.70</td>\n",
              "      <td>1</td>\n",
              "      <td>0</td>\n",
              "      <td>0</td>\n",
              "      <td>0</td>\n",
              "      <td>1</td>\n",
              "      <td>0</td>\n",
              "      <td>1</td>\n",
              "      <td>0</td>\n",
              "      <td>0</td>\n",
              "      <td>1</td>\n",
              "      <td>0</td>\n",
              "      <td>0</td>\n",
              "      <td>1</td>\n",
              "      <td>0</td>\n",
              "      <td>0</td>\n",
              "      <td>1</td>\n",
              "      <td>0</td>\n",
              "      <td>0</td>\n",
              "      <td>1</td>\n",
              "      <td>0</td>\n",
              "      <td>0</td>\n",
              "      <td>1</td>\n",
              "      <td>0</td>\n",
              "      <td>0</td>\n",
              "      <td>0</td>\n",
              "      <td>1</td>\n",
              "      <td>0</td>\n",
              "      <td>0</td>\n",
              "      <td>1</td>\n",
              "      <td>0</td>\n",
              "      <td>0</td>\n",
              "    </tr>\n",
              "    <tr>\n",
              "      <th>5</th>\n",
              "      <td>0</td>\n",
              "      <td>0</td>\n",
              "      <td>1</td>\n",
              "      <td>1</td>\n",
              "      <td>1</td>\n",
              "      <td>0</td>\n",
              "      <td>8</td>\n",
              "      <td>99.65</td>\n",
              "      <td>0</td>\n",
              "      <td>0</td>\n",
              "      <td>1</td>\n",
              "      <td>0</td>\n",
              "      <td>1</td>\n",
              "      <td>0</td>\n",
              "      <td>1</td>\n",
              "      <td>0</td>\n",
              "      <td>0</td>\n",
              "      <td>1</td>\n",
              "      <td>0</td>\n",
              "      <td>0</td>\n",
              "      <td>0</td>\n",
              "      <td>0</td>\n",
              "      <td>1</td>\n",
              "      <td>1</td>\n",
              "      <td>0</td>\n",
              "      <td>0</td>\n",
              "      <td>0</td>\n",
              "      <td>0</td>\n",
              "      <td>1</td>\n",
              "      <td>0</td>\n",
              "      <td>0</td>\n",
              "      <td>1</td>\n",
              "      <td>0</td>\n",
              "      <td>1</td>\n",
              "      <td>0</td>\n",
              "      <td>0</td>\n",
              "      <td>1</td>\n",
              "      <td>0</td>\n",
              "      <td>0</td>\n",
              "    </tr>\n",
              "    <tr>\n",
              "      <th>6</th>\n",
              "      <td>0</td>\n",
              "      <td>1</td>\n",
              "      <td>1</td>\n",
              "      <td>1</td>\n",
              "      <td>0</td>\n",
              "      <td>0</td>\n",
              "      <td>22</td>\n",
              "      <td>89.10</td>\n",
              "      <td>0</td>\n",
              "      <td>0</td>\n",
              "      <td>1</td>\n",
              "      <td>0</td>\n",
              "      <td>1</td>\n",
              "      <td>0</td>\n",
              "      <td>1</td>\n",
              "      <td>0</td>\n",
              "      <td>0</td>\n",
              "      <td>0</td>\n",
              "      <td>0</td>\n",
              "      <td>1</td>\n",
              "      <td>1</td>\n",
              "      <td>0</td>\n",
              "      <td>0</td>\n",
              "      <td>1</td>\n",
              "      <td>0</td>\n",
              "      <td>0</td>\n",
              "      <td>0</td>\n",
              "      <td>0</td>\n",
              "      <td>1</td>\n",
              "      <td>1</td>\n",
              "      <td>0</td>\n",
              "      <td>0</td>\n",
              "      <td>0</td>\n",
              "      <td>1</td>\n",
              "      <td>0</td>\n",
              "      <td>1</td>\n",
              "      <td>0</td>\n",
              "      <td>0</td>\n",
              "      <td>0</td>\n",
              "    </tr>\n",
              "    <tr>\n",
              "      <th>7</th>\n",
              "      <td>0</td>\n",
              "      <td>0</td>\n",
              "      <td>0</td>\n",
              "      <td>0</td>\n",
              "      <td>0</td>\n",
              "      <td>0</td>\n",
              "      <td>10</td>\n",
              "      <td>29.75</td>\n",
              "      <td>0</td>\n",
              "      <td>1</td>\n",
              "      <td>0</td>\n",
              "      <td>1</td>\n",
              "      <td>0</td>\n",
              "      <td>0</td>\n",
              "      <td>0</td>\n",
              "      <td>0</td>\n",
              "      <td>1</td>\n",
              "      <td>1</td>\n",
              "      <td>0</td>\n",
              "      <td>0</td>\n",
              "      <td>1</td>\n",
              "      <td>0</td>\n",
              "      <td>0</td>\n",
              "      <td>1</td>\n",
              "      <td>0</td>\n",
              "      <td>0</td>\n",
              "      <td>1</td>\n",
              "      <td>0</td>\n",
              "      <td>0</td>\n",
              "      <td>1</td>\n",
              "      <td>0</td>\n",
              "      <td>0</td>\n",
              "      <td>0</td>\n",
              "      <td>1</td>\n",
              "      <td>0</td>\n",
              "      <td>0</td>\n",
              "      <td>0</td>\n",
              "      <td>1</td>\n",
              "      <td>0</td>\n",
              "    </tr>\n",
              "    <tr>\n",
              "      <th>8</th>\n",
              "      <td>1</td>\n",
              "      <td>0</td>\n",
              "      <td>1</td>\n",
              "      <td>1</td>\n",
              "      <td>1</td>\n",
              "      <td>0</td>\n",
              "      <td>28</td>\n",
              "      <td>104.80</td>\n",
              "      <td>0</td>\n",
              "      <td>0</td>\n",
              "      <td>1</td>\n",
              "      <td>0</td>\n",
              "      <td>1</td>\n",
              "      <td>0</td>\n",
              "      <td>1</td>\n",
              "      <td>0</td>\n",
              "      <td>0</td>\n",
              "      <td>1</td>\n",
              "      <td>0</td>\n",
              "      <td>0</td>\n",
              "      <td>0</td>\n",
              "      <td>0</td>\n",
              "      <td>1</td>\n",
              "      <td>0</td>\n",
              "      <td>0</td>\n",
              "      <td>1</td>\n",
              "      <td>0</td>\n",
              "      <td>0</td>\n",
              "      <td>1</td>\n",
              "      <td>0</td>\n",
              "      <td>0</td>\n",
              "      <td>1</td>\n",
              "      <td>0</td>\n",
              "      <td>1</td>\n",
              "      <td>0</td>\n",
              "      <td>0</td>\n",
              "      <td>1</td>\n",
              "      <td>0</td>\n",
              "      <td>0</td>\n",
              "    </tr>\n",
              "    <tr>\n",
              "      <th>9</th>\n",
              "      <td>0</td>\n",
              "      <td>1</td>\n",
              "      <td>1</td>\n",
              "      <td>0</td>\n",
              "      <td>0</td>\n",
              "      <td>0</td>\n",
              "      <td>62</td>\n",
              "      <td>56.15</td>\n",
              "      <td>1</td>\n",
              "      <td>0</td>\n",
              "      <td>0</td>\n",
              "      <td>1</td>\n",
              "      <td>0</td>\n",
              "      <td>0</td>\n",
              "      <td>0</td>\n",
              "      <td>0</td>\n",
              "      <td>1</td>\n",
              "      <td>0</td>\n",
              "      <td>0</td>\n",
              "      <td>1</td>\n",
              "      <td>1</td>\n",
              "      <td>0</td>\n",
              "      <td>0</td>\n",
              "      <td>1</td>\n",
              "      <td>0</td>\n",
              "      <td>0</td>\n",
              "      <td>1</td>\n",
              "      <td>0</td>\n",
              "      <td>0</td>\n",
              "      <td>1</td>\n",
              "      <td>0</td>\n",
              "      <td>0</td>\n",
              "      <td>0</td>\n",
              "      <td>0</td>\n",
              "      <td>1</td>\n",
              "      <td>0</td>\n",
              "      <td>0</td>\n",
              "      <td>0</td>\n",
              "      <td>1</td>\n",
              "    </tr>\n",
              "  </tbody>\n",
              "</table>\n",
              "</div>\n",
              "      <button class=\"colab-df-convert\" onclick=\"convertToInteractive('df-402e740f-56b9-4858-825c-238bd45db46d')\"\n",
              "              title=\"Convert this dataframe to an interactive table.\"\n",
              "              style=\"display:none;\">\n",
              "\n",
              "  <svg xmlns=\"http://www.w3.org/2000/svg\" height=\"24px\"viewBox=\"0 0 24 24\"\n",
              "       width=\"24px\">\n",
              "    <path d=\"M0 0h24v24H0V0z\" fill=\"none\"/>\n",
              "    <path d=\"M18.56 5.44l.94 2.06.94-2.06 2.06-.94-2.06-.94-.94-2.06-.94 2.06-2.06.94zm-11 1L8.5 8.5l.94-2.06 2.06-.94-2.06-.94L8.5 2.5l-.94 2.06-2.06.94zm10 10l.94 2.06.94-2.06 2.06-.94-2.06-.94-.94-2.06-.94 2.06-2.06.94z\"/><path d=\"M17.41 7.96l-1.37-1.37c-.4-.4-.92-.59-1.43-.59-.52 0-1.04.2-1.43.59L10.3 9.45l-7.72 7.72c-.78.78-.78 2.05 0 2.83L4 21.41c.39.39.9.59 1.41.59.51 0 1.02-.2 1.41-.59l7.78-7.78 2.81-2.81c.8-.78.8-2.07 0-2.86zM5.41 20L4 18.59l7.72-7.72 1.47 1.35L5.41 20z\"/>\n",
              "  </svg>\n",
              "      </button>\n",
              "\n",
              "\n",
              "\n",
              "    <div id=\"df-e12068c9-d9ab-4f57-94a7-373cba17370b\">\n",
              "      <button class=\"colab-df-quickchart\" onclick=\"quickchart('df-e12068c9-d9ab-4f57-94a7-373cba17370b')\"\n",
              "              title=\"Suggest charts.\"\n",
              "              style=\"display:none;\">\n",
              "\n",
              "<svg xmlns=\"http://www.w3.org/2000/svg\" height=\"24px\"viewBox=\"0 0 24 24\"\n",
              "     width=\"24px\">\n",
              "    <g>\n",
              "        <path d=\"M19 3H5c-1.1 0-2 .9-2 2v14c0 1.1.9 2 2 2h14c1.1 0 2-.9 2-2V5c0-1.1-.9-2-2-2zM9 17H7v-7h2v7zm4 0h-2V7h2v10zm4 0h-2v-4h2v4z\"/>\n",
              "    </g>\n",
              "</svg>\n",
              "      </button>\n",
              "    </div>\n",
              "\n",
              "<style>\n",
              "  .colab-df-quickchart {\n",
              "    background-color: #E8F0FE;\n",
              "    border: none;\n",
              "    border-radius: 50%;\n",
              "    cursor: pointer;\n",
              "    display: none;\n",
              "    fill: #1967D2;\n",
              "    height: 32px;\n",
              "    padding: 0 0 0 0;\n",
              "    width: 32px;\n",
              "  }\n",
              "\n",
              "  .colab-df-quickchart:hover {\n",
              "    background-color: #E2EBFA;\n",
              "    box-shadow: 0px 1px 2px rgba(60, 64, 67, 0.3), 0px 1px 3px 1px rgba(60, 64, 67, 0.15);\n",
              "    fill: #174EA6;\n",
              "  }\n",
              "\n",
              "  [theme=dark] .colab-df-quickchart {\n",
              "    background-color: #3B4455;\n",
              "    fill: #D2E3FC;\n",
              "  }\n",
              "\n",
              "  [theme=dark] .colab-df-quickchart:hover {\n",
              "    background-color: #434B5C;\n",
              "    box-shadow: 0px 1px 3px 1px rgba(0, 0, 0, 0.15);\n",
              "    filter: drop-shadow(0px 1px 2px rgba(0, 0, 0, 0.3));\n",
              "    fill: #FFFFFF;\n",
              "  }\n",
              "</style>\n",
              "\n",
              "    <script>\n",
              "      async function quickchart(key) {\n",
              "        const containerElement = document.querySelector('#' + key);\n",
              "        const charts = await google.colab.kernel.invokeFunction(\n",
              "            'suggestCharts', [key], {});\n",
              "      }\n",
              "    </script>\n",
              "\n",
              "      <script>\n",
              "\n",
              "function displayQuickchartButton(domScope) {\n",
              "  let quickchartButtonEl =\n",
              "    domScope.querySelector('#df-e12068c9-d9ab-4f57-94a7-373cba17370b button.colab-df-quickchart');\n",
              "  quickchartButtonEl.style.display =\n",
              "    google.colab.kernel.accessAllowed ? 'block' : 'none';\n",
              "}\n",
              "\n",
              "        displayQuickchartButton(document);\n",
              "      </script>\n",
              "      <style>\n",
              "    .colab-df-container {\n",
              "      display:flex;\n",
              "      flex-wrap:wrap;\n",
              "      gap: 12px;\n",
              "    }\n",
              "\n",
              "    .colab-df-convert {\n",
              "      background-color: #E8F0FE;\n",
              "      border: none;\n",
              "      border-radius: 50%;\n",
              "      cursor: pointer;\n",
              "      display: none;\n",
              "      fill: #1967D2;\n",
              "      height: 32px;\n",
              "      padding: 0 0 0 0;\n",
              "      width: 32px;\n",
              "    }\n",
              "\n",
              "    .colab-df-convert:hover {\n",
              "      background-color: #E2EBFA;\n",
              "      box-shadow: 0px 1px 2px rgba(60, 64, 67, 0.3), 0px 1px 3px 1px rgba(60, 64, 67, 0.15);\n",
              "      fill: #174EA6;\n",
              "    }\n",
              "\n",
              "    [theme=dark] .colab-df-convert {\n",
              "      background-color: #3B4455;\n",
              "      fill: #D2E3FC;\n",
              "    }\n",
              "\n",
              "    [theme=dark] .colab-df-convert:hover {\n",
              "      background-color: #434B5C;\n",
              "      box-shadow: 0px 1px 3px 1px rgba(0, 0, 0, 0.15);\n",
              "      filter: drop-shadow(0px 1px 2px rgba(0, 0, 0, 0.3));\n",
              "      fill: #FFFFFF;\n",
              "    }\n",
              "  </style>\n",
              "\n",
              "      <script>\n",
              "        const buttonEl =\n",
              "          document.querySelector('#df-402e740f-56b9-4858-825c-238bd45db46d button.colab-df-convert');\n",
              "        buttonEl.style.display =\n",
              "          google.colab.kernel.accessAllowed ? 'block' : 'none';\n",
              "\n",
              "        async function convertToInteractive(key) {\n",
              "          const element = document.querySelector('#df-402e740f-56b9-4858-825c-238bd45db46d');\n",
              "          const dataTable =\n",
              "            await google.colab.kernel.invokeFunction('convertToInteractive',\n",
              "                                                     [key], {});\n",
              "          if (!dataTable) return;\n",
              "\n",
              "          const docLinkHtml = 'Like what you see? Visit the ' +\n",
              "            '<a target=\"_blank\" href=https://colab.research.google.com/notebooks/data_table.ipynb>data table notebook</a>'\n",
              "            + ' to learn more about interactive tables.';\n",
              "          element.innerHTML = '';\n",
              "          dataTable['output_type'] = 'display_data';\n",
              "          await google.colab.output.renderOutput(dataTable, element);\n",
              "          const docLink = document.createElement('div');\n",
              "          docLink.innerHTML = docLinkHtml;\n",
              "          element.appendChild(docLink);\n",
              "        }\n",
              "      </script>\n",
              "    </div>\n",
              "  </div>\n"
            ]
          },
          "metadata": {},
          "execution_count": 108
        }
      ]
    },
    {
      "cell_type": "markdown",
      "source": [
        "Perceba que agora ficamos com 39 colunas, ou seja, 21 colunas a mais do que a tabela de dados original. Entretanto, essa forma de visualização não está mostrando todas as colunas. Podemos visualizar todas elas com o seguinte método:"
      ],
      "metadata": {
        "id": "xo1yWHaqD_Fb"
      }
    },
    {
      "cell_type": "code",
      "source": [
        "pd.set_option('display.max_columns', 39)"
      ],
      "metadata": {
        "id": "VWvCIaDyRJTE"
      },
      "execution_count": null,
      "outputs": []
    },
    {
      "cell_type": "markdown",
      "source": [
        "Reconfiguramos o Pandas para exibir até 39 colunas como padrão, que é a quantidade que temos na tabela."
      ],
      "metadata": {
        "id": "_y_BZBw7RaZk"
      }
    },
    {
      "cell_type": "code",
      "source": [
        "dados_final.head(10)"
      ],
      "metadata": {
        "colab": {
          "base_uri": "https://localhost:8080/",
          "height": 427
        },
        "id": "ZKe3aF1RRvLV",
        "outputId": "ef131f44-0a36-41e6-dede-1af0bd8841f2"
      },
      "execution_count": null,
      "outputs": [
        {
          "output_type": "execute_result",
          "data": {
            "text/plain": [
              "   Conjuge  Dependentes  TelefoneFixo  PagamentoOnline  Churn  Maior65Anos  \\\n",
              "0        1            0             0                1      0            0   \n",
              "1        0            0             1                0      0            0   \n",
              "2        0            0             1                1      1            0   \n",
              "3        0            0             0                0      0            0   \n",
              "4        0            0             1                1      1            0   \n",
              "5        0            0             1                1      1            0   \n",
              "6        0            1             1                1      0            0   \n",
              "7        0            0             0                0      0            0   \n",
              "8        1            0             1                1      1            0   \n",
              "9        0            1             1                0      0            0   \n",
              "\n",
              "   MesesDeContrato  ContaMensal  VariasLinhasTelefonicas_Nao  \\\n",
              "0                1        29.85                            0   \n",
              "1               34        56.95                            1   \n",
              "2                2        53.85                            1   \n",
              "3               45        42.30                            0   \n",
              "4                2        70.70                            1   \n",
              "5                8        99.65                            0   \n",
              "6               22        89.10                            0   \n",
              "7               10        29.75                            0   \n",
              "8               28       104.80                            0   \n",
              "9               62        56.15                            1   \n",
              "\n",
              "   VariasLinhasTelefonicas_SemServicoTelefonico  VariasLinhasTelefonicas_Sim  \\\n",
              "0                                             1                            0   \n",
              "1                                             0                            0   \n",
              "2                                             0                            0   \n",
              "3                                             1                            0   \n",
              "4                                             0                            0   \n",
              "5                                             0                            1   \n",
              "6                                             0                            1   \n",
              "7                                             1                            0   \n",
              "8                                             0                            1   \n",
              "9                                             0                            0   \n",
              "\n",
              "   ServicoDeInternet_DSL  ServicoDeInternet_FibraOptica  \\\n",
              "0                      1                              0   \n",
              "1                      1                              0   \n",
              "2                      1                              0   \n",
              "3                      1                              0   \n",
              "4                      0                              1   \n",
              "5                      0                              1   \n",
              "6                      0                              1   \n",
              "7                      1                              0   \n",
              "8                      0                              1   \n",
              "9                      1                              0   \n",
              "\n",
              "   ServicoDeInternet_Nao  SegurancaOnline_Nao  \\\n",
              "0                      0                    1   \n",
              "1                      0                    0   \n",
              "2                      0                    0   \n",
              "3                      0                    0   \n",
              "4                      0                    1   \n",
              "5                      0                    1   \n",
              "6                      0                    1   \n",
              "7                      0                    0   \n",
              "8                      0                    1   \n",
              "9                      0                    0   \n",
              "\n",
              "   SegurancaOnline_SemServicoDeInternet  SegurancaOnline_Sim  \\\n",
              "0                                     0                    0   \n",
              "1                                     0                    1   \n",
              "2                                     0                    1   \n",
              "3                                     0                    1   \n",
              "4                                     0                    0   \n",
              "5                                     0                    0   \n",
              "6                                     0                    0   \n",
              "7                                     0                    1   \n",
              "8                                     0                    0   \n",
              "9                                     0                    1   \n",
              "\n",
              "   BackupOnline_Nao  BackupOnline_SemServicoDeInternet  BackupOnline_Sim  \\\n",
              "0                 0                                  0                 1   \n",
              "1                 1                                  0                 0   \n",
              "2                 0                                  0                 1   \n",
              "3                 1                                  0                 0   \n",
              "4                 1                                  0                 0   \n",
              "5                 1                                  0                 0   \n",
              "6                 0                                  0                 1   \n",
              "7                 1                                  0                 0   \n",
              "8                 1                                  0                 0   \n",
              "9                 0                                  0                 1   \n",
              "\n",
              "   SeguroNoDispositivo_Nao  SeguroNoDispositivo_SemServicoDeInternet  \\\n",
              "0                        1                                         0   \n",
              "1                        0                                         0   \n",
              "2                        1                                         0   \n",
              "3                        0                                         0   \n",
              "4                        1                                         0   \n",
              "5                        0                                         0   \n",
              "6                        1                                         0   \n",
              "7                        1                                         0   \n",
              "8                        0                                         0   \n",
              "9                        1                                         0   \n",
              "\n",
              "   SeguroNoDispositivo_Sim  SuporteTecnico_Nao  \\\n",
              "0                        0                   1   \n",
              "1                        1                   1   \n",
              "2                        0                   1   \n",
              "3                        1                   0   \n",
              "4                        0                   1   \n",
              "5                        1                   1   \n",
              "6                        0                   1   \n",
              "7                        0                   1   \n",
              "8                        1                   0   \n",
              "9                        0                   1   \n",
              "\n",
              "   SuporteTecnico_SemServicoDeInternet  SuporteTecnico_Sim  TVaCabo_Nao  \\\n",
              "0                                    0                   0            1   \n",
              "1                                    0                   0            1   \n",
              "2                                    0                   0            1   \n",
              "3                                    0                   1            1   \n",
              "4                                    0                   0            1   \n",
              "5                                    0                   0            0   \n",
              "6                                    0                   0            0   \n",
              "7                                    0                   0            1   \n",
              "8                                    0                   1            0   \n",
              "9                                    0                   0            1   \n",
              "\n",
              "   TVaCabo_SemServicoDeInternet  TVaCabo_Sim  StreamingDeFilmes_Nao  \\\n",
              "0                             0            0                      1   \n",
              "1                             0            0                      1   \n",
              "2                             0            0                      1   \n",
              "3                             0            0                      1   \n",
              "4                             0            0                      1   \n",
              "5                             0            1                      0   \n",
              "6                             0            1                      1   \n",
              "7                             0            0                      1   \n",
              "8                             0            1                      0   \n",
              "9                             0            0                      1   \n",
              "\n",
              "   StreamingDeFilmes_SemServicoDeInternet  StreamingDeFilmes_Sim  \\\n",
              "0                                       0                      0   \n",
              "1                                       0                      0   \n",
              "2                                       0                      0   \n",
              "3                                       0                      0   \n",
              "4                                       0                      0   \n",
              "5                                       0                      1   \n",
              "6                                       0                      0   \n",
              "7                                       0                      0   \n",
              "8                                       0                      1   \n",
              "9                                       0                      0   \n",
              "\n",
              "   TipoDeContrato_DoisAnos  TipoDeContrato_Mensalmente  TipoDeContrato_UmAno  \\\n",
              "0                        0                           1                     0   \n",
              "1                        0                           0                     1   \n",
              "2                        0                           1                     0   \n",
              "3                        0                           0                     1   \n",
              "4                        0                           1                     0   \n",
              "5                        0                           1                     0   \n",
              "6                        0                           1                     0   \n",
              "7                        0                           1                     0   \n",
              "8                        0                           1                     0   \n",
              "9                        0                           0                     1   \n",
              "\n",
              "   FormaDePagamento_CartaoDeCredito  FormaDePagamento_ChequeDigital  \\\n",
              "0                                 0                               1   \n",
              "1                                 0                               0   \n",
              "2                                 0                               0   \n",
              "3                                 0                               0   \n",
              "4                                 0                               1   \n",
              "5                                 0                               1   \n",
              "6                                 1                               0   \n",
              "7                                 0                               0   \n",
              "8                                 0                               1   \n",
              "9                                 0                               0   \n",
              "\n",
              "   FormaDePagamento_ChequePapel  FormaDePagamento_DebitoEmConta  \n",
              "0                             0                               0  \n",
              "1                             1                               0  \n",
              "2                             1                               0  \n",
              "3                             0                               1  \n",
              "4                             0                               0  \n",
              "5                             0                               0  \n",
              "6                             0                               0  \n",
              "7                             1                               0  \n",
              "8                             0                               0  \n",
              "9                             0                               1  "
            ],
            "text/html": [
              "\n",
              "\n",
              "  <div id=\"df-2155b6ca-7b93-4b69-b0ba-f108537606e5\">\n",
              "    <div class=\"colab-df-container\">\n",
              "      <div>\n",
              "<style scoped>\n",
              "    .dataframe tbody tr th:only-of-type {\n",
              "        vertical-align: middle;\n",
              "    }\n",
              "\n",
              "    .dataframe tbody tr th {\n",
              "        vertical-align: top;\n",
              "    }\n",
              "\n",
              "    .dataframe thead th {\n",
              "        text-align: right;\n",
              "    }\n",
              "</style>\n",
              "<table border=\"1\" class=\"dataframe\">\n",
              "  <thead>\n",
              "    <tr style=\"text-align: right;\">\n",
              "      <th></th>\n",
              "      <th>Conjuge</th>\n",
              "      <th>Dependentes</th>\n",
              "      <th>TelefoneFixo</th>\n",
              "      <th>PagamentoOnline</th>\n",
              "      <th>Churn</th>\n",
              "      <th>Maior65Anos</th>\n",
              "      <th>MesesDeContrato</th>\n",
              "      <th>ContaMensal</th>\n",
              "      <th>VariasLinhasTelefonicas_Nao</th>\n",
              "      <th>VariasLinhasTelefonicas_SemServicoTelefonico</th>\n",
              "      <th>VariasLinhasTelefonicas_Sim</th>\n",
              "      <th>ServicoDeInternet_DSL</th>\n",
              "      <th>ServicoDeInternet_FibraOptica</th>\n",
              "      <th>ServicoDeInternet_Nao</th>\n",
              "      <th>SegurancaOnline_Nao</th>\n",
              "      <th>SegurancaOnline_SemServicoDeInternet</th>\n",
              "      <th>SegurancaOnline_Sim</th>\n",
              "      <th>BackupOnline_Nao</th>\n",
              "      <th>BackupOnline_SemServicoDeInternet</th>\n",
              "      <th>BackupOnline_Sim</th>\n",
              "      <th>SeguroNoDispositivo_Nao</th>\n",
              "      <th>SeguroNoDispositivo_SemServicoDeInternet</th>\n",
              "      <th>SeguroNoDispositivo_Sim</th>\n",
              "      <th>SuporteTecnico_Nao</th>\n",
              "      <th>SuporteTecnico_SemServicoDeInternet</th>\n",
              "      <th>SuporteTecnico_Sim</th>\n",
              "      <th>TVaCabo_Nao</th>\n",
              "      <th>TVaCabo_SemServicoDeInternet</th>\n",
              "      <th>TVaCabo_Sim</th>\n",
              "      <th>StreamingDeFilmes_Nao</th>\n",
              "      <th>StreamingDeFilmes_SemServicoDeInternet</th>\n",
              "      <th>StreamingDeFilmes_Sim</th>\n",
              "      <th>TipoDeContrato_DoisAnos</th>\n",
              "      <th>TipoDeContrato_Mensalmente</th>\n",
              "      <th>TipoDeContrato_UmAno</th>\n",
              "      <th>FormaDePagamento_CartaoDeCredito</th>\n",
              "      <th>FormaDePagamento_ChequeDigital</th>\n",
              "      <th>FormaDePagamento_ChequePapel</th>\n",
              "      <th>FormaDePagamento_DebitoEmConta</th>\n",
              "    </tr>\n",
              "  </thead>\n",
              "  <tbody>\n",
              "    <tr>\n",
              "      <th>0</th>\n",
              "      <td>1</td>\n",
              "      <td>0</td>\n",
              "      <td>0</td>\n",
              "      <td>1</td>\n",
              "      <td>0</td>\n",
              "      <td>0</td>\n",
              "      <td>1</td>\n",
              "      <td>29.85</td>\n",
              "      <td>0</td>\n",
              "      <td>1</td>\n",
              "      <td>0</td>\n",
              "      <td>1</td>\n",
              "      <td>0</td>\n",
              "      <td>0</td>\n",
              "      <td>1</td>\n",
              "      <td>0</td>\n",
              "      <td>0</td>\n",
              "      <td>0</td>\n",
              "      <td>0</td>\n",
              "      <td>1</td>\n",
              "      <td>1</td>\n",
              "      <td>0</td>\n",
              "      <td>0</td>\n",
              "      <td>1</td>\n",
              "      <td>0</td>\n",
              "      <td>0</td>\n",
              "      <td>1</td>\n",
              "      <td>0</td>\n",
              "      <td>0</td>\n",
              "      <td>1</td>\n",
              "      <td>0</td>\n",
              "      <td>0</td>\n",
              "      <td>0</td>\n",
              "      <td>1</td>\n",
              "      <td>0</td>\n",
              "      <td>0</td>\n",
              "      <td>1</td>\n",
              "      <td>0</td>\n",
              "      <td>0</td>\n",
              "    </tr>\n",
              "    <tr>\n",
              "      <th>1</th>\n",
              "      <td>0</td>\n",
              "      <td>0</td>\n",
              "      <td>1</td>\n",
              "      <td>0</td>\n",
              "      <td>0</td>\n",
              "      <td>0</td>\n",
              "      <td>34</td>\n",
              "      <td>56.95</td>\n",
              "      <td>1</td>\n",
              "      <td>0</td>\n",
              "      <td>0</td>\n",
              "      <td>1</td>\n",
              "      <td>0</td>\n",
              "      <td>0</td>\n",
              "      <td>0</td>\n",
              "      <td>0</td>\n",
              "      <td>1</td>\n",
              "      <td>1</td>\n",
              "      <td>0</td>\n",
              "      <td>0</td>\n",
              "      <td>0</td>\n",
              "      <td>0</td>\n",
              "      <td>1</td>\n",
              "      <td>1</td>\n",
              "      <td>0</td>\n",
              "      <td>0</td>\n",
              "      <td>1</td>\n",
              "      <td>0</td>\n",
              "      <td>0</td>\n",
              "      <td>1</td>\n",
              "      <td>0</td>\n",
              "      <td>0</td>\n",
              "      <td>0</td>\n",
              "      <td>0</td>\n",
              "      <td>1</td>\n",
              "      <td>0</td>\n",
              "      <td>0</td>\n",
              "      <td>1</td>\n",
              "      <td>0</td>\n",
              "    </tr>\n",
              "    <tr>\n",
              "      <th>2</th>\n",
              "      <td>0</td>\n",
              "      <td>0</td>\n",
              "      <td>1</td>\n",
              "      <td>1</td>\n",
              "      <td>1</td>\n",
              "      <td>0</td>\n",
              "      <td>2</td>\n",
              "      <td>53.85</td>\n",
              "      <td>1</td>\n",
              "      <td>0</td>\n",
              "      <td>0</td>\n",
              "      <td>1</td>\n",
              "      <td>0</td>\n",
              "      <td>0</td>\n",
              "      <td>0</td>\n",
              "      <td>0</td>\n",
              "      <td>1</td>\n",
              "      <td>0</td>\n",
              "      <td>0</td>\n",
              "      <td>1</td>\n",
              "      <td>1</td>\n",
              "      <td>0</td>\n",
              "      <td>0</td>\n",
              "      <td>1</td>\n",
              "      <td>0</td>\n",
              "      <td>0</td>\n",
              "      <td>1</td>\n",
              "      <td>0</td>\n",
              "      <td>0</td>\n",
              "      <td>1</td>\n",
              "      <td>0</td>\n",
              "      <td>0</td>\n",
              "      <td>0</td>\n",
              "      <td>1</td>\n",
              "      <td>0</td>\n",
              "      <td>0</td>\n",
              "      <td>0</td>\n",
              "      <td>1</td>\n",
              "      <td>0</td>\n",
              "    </tr>\n",
              "    <tr>\n",
              "      <th>3</th>\n",
              "      <td>0</td>\n",
              "      <td>0</td>\n",
              "      <td>0</td>\n",
              "      <td>0</td>\n",
              "      <td>0</td>\n",
              "      <td>0</td>\n",
              "      <td>45</td>\n",
              "      <td>42.30</td>\n",
              "      <td>0</td>\n",
              "      <td>1</td>\n",
              "      <td>0</td>\n",
              "      <td>1</td>\n",
              "      <td>0</td>\n",
              "      <td>0</td>\n",
              "      <td>0</td>\n",
              "      <td>0</td>\n",
              "      <td>1</td>\n",
              "      <td>1</td>\n",
              "      <td>0</td>\n",
              "      <td>0</td>\n",
              "      <td>0</td>\n",
              "      <td>0</td>\n",
              "      <td>1</td>\n",
              "      <td>0</td>\n",
              "      <td>0</td>\n",
              "      <td>1</td>\n",
              "      <td>1</td>\n",
              "      <td>0</td>\n",
              "      <td>0</td>\n",
              "      <td>1</td>\n",
              "      <td>0</td>\n",
              "      <td>0</td>\n",
              "      <td>0</td>\n",
              "      <td>0</td>\n",
              "      <td>1</td>\n",
              "      <td>0</td>\n",
              "      <td>0</td>\n",
              "      <td>0</td>\n",
              "      <td>1</td>\n",
              "    </tr>\n",
              "    <tr>\n",
              "      <th>4</th>\n",
              "      <td>0</td>\n",
              "      <td>0</td>\n",
              "      <td>1</td>\n",
              "      <td>1</td>\n",
              "      <td>1</td>\n",
              "      <td>0</td>\n",
              "      <td>2</td>\n",
              "      <td>70.70</td>\n",
              "      <td>1</td>\n",
              "      <td>0</td>\n",
              "      <td>0</td>\n",
              "      <td>0</td>\n",
              "      <td>1</td>\n",
              "      <td>0</td>\n",
              "      <td>1</td>\n",
              "      <td>0</td>\n",
              "      <td>0</td>\n",
              "      <td>1</td>\n",
              "      <td>0</td>\n",
              "      <td>0</td>\n",
              "      <td>1</td>\n",
              "      <td>0</td>\n",
              "      <td>0</td>\n",
              "      <td>1</td>\n",
              "      <td>0</td>\n",
              "      <td>0</td>\n",
              "      <td>1</td>\n",
              "      <td>0</td>\n",
              "      <td>0</td>\n",
              "      <td>1</td>\n",
              "      <td>0</td>\n",
              "      <td>0</td>\n",
              "      <td>0</td>\n",
              "      <td>1</td>\n",
              "      <td>0</td>\n",
              "      <td>0</td>\n",
              "      <td>1</td>\n",
              "      <td>0</td>\n",
              "      <td>0</td>\n",
              "    </tr>\n",
              "    <tr>\n",
              "      <th>5</th>\n",
              "      <td>0</td>\n",
              "      <td>0</td>\n",
              "      <td>1</td>\n",
              "      <td>1</td>\n",
              "      <td>1</td>\n",
              "      <td>0</td>\n",
              "      <td>8</td>\n",
              "      <td>99.65</td>\n",
              "      <td>0</td>\n",
              "      <td>0</td>\n",
              "      <td>1</td>\n",
              "      <td>0</td>\n",
              "      <td>1</td>\n",
              "      <td>0</td>\n",
              "      <td>1</td>\n",
              "      <td>0</td>\n",
              "      <td>0</td>\n",
              "      <td>1</td>\n",
              "      <td>0</td>\n",
              "      <td>0</td>\n",
              "      <td>0</td>\n",
              "      <td>0</td>\n",
              "      <td>1</td>\n",
              "      <td>1</td>\n",
              "      <td>0</td>\n",
              "      <td>0</td>\n",
              "      <td>0</td>\n",
              "      <td>0</td>\n",
              "      <td>1</td>\n",
              "      <td>0</td>\n",
              "      <td>0</td>\n",
              "      <td>1</td>\n",
              "      <td>0</td>\n",
              "      <td>1</td>\n",
              "      <td>0</td>\n",
              "      <td>0</td>\n",
              "      <td>1</td>\n",
              "      <td>0</td>\n",
              "      <td>0</td>\n",
              "    </tr>\n",
              "    <tr>\n",
              "      <th>6</th>\n",
              "      <td>0</td>\n",
              "      <td>1</td>\n",
              "      <td>1</td>\n",
              "      <td>1</td>\n",
              "      <td>0</td>\n",
              "      <td>0</td>\n",
              "      <td>22</td>\n",
              "      <td>89.10</td>\n",
              "      <td>0</td>\n",
              "      <td>0</td>\n",
              "      <td>1</td>\n",
              "      <td>0</td>\n",
              "      <td>1</td>\n",
              "      <td>0</td>\n",
              "      <td>1</td>\n",
              "      <td>0</td>\n",
              "      <td>0</td>\n",
              "      <td>0</td>\n",
              "      <td>0</td>\n",
              "      <td>1</td>\n",
              "      <td>1</td>\n",
              "      <td>0</td>\n",
              "      <td>0</td>\n",
              "      <td>1</td>\n",
              "      <td>0</td>\n",
              "      <td>0</td>\n",
              "      <td>0</td>\n",
              "      <td>0</td>\n",
              "      <td>1</td>\n",
              "      <td>1</td>\n",
              "      <td>0</td>\n",
              "      <td>0</td>\n",
              "      <td>0</td>\n",
              "      <td>1</td>\n",
              "      <td>0</td>\n",
              "      <td>1</td>\n",
              "      <td>0</td>\n",
              "      <td>0</td>\n",
              "      <td>0</td>\n",
              "    </tr>\n",
              "    <tr>\n",
              "      <th>7</th>\n",
              "      <td>0</td>\n",
              "      <td>0</td>\n",
              "      <td>0</td>\n",
              "      <td>0</td>\n",
              "      <td>0</td>\n",
              "      <td>0</td>\n",
              "      <td>10</td>\n",
              "      <td>29.75</td>\n",
              "      <td>0</td>\n",
              "      <td>1</td>\n",
              "      <td>0</td>\n",
              "      <td>1</td>\n",
              "      <td>0</td>\n",
              "      <td>0</td>\n",
              "      <td>0</td>\n",
              "      <td>0</td>\n",
              "      <td>1</td>\n",
              "      <td>1</td>\n",
              "      <td>0</td>\n",
              "      <td>0</td>\n",
              "      <td>1</td>\n",
              "      <td>0</td>\n",
              "      <td>0</td>\n",
              "      <td>1</td>\n",
              "      <td>0</td>\n",
              "      <td>0</td>\n",
              "      <td>1</td>\n",
              "      <td>0</td>\n",
              "      <td>0</td>\n",
              "      <td>1</td>\n",
              "      <td>0</td>\n",
              "      <td>0</td>\n",
              "      <td>0</td>\n",
              "      <td>1</td>\n",
              "      <td>0</td>\n",
              "      <td>0</td>\n",
              "      <td>0</td>\n",
              "      <td>1</td>\n",
              "      <td>0</td>\n",
              "    </tr>\n",
              "    <tr>\n",
              "      <th>8</th>\n",
              "      <td>1</td>\n",
              "      <td>0</td>\n",
              "      <td>1</td>\n",
              "      <td>1</td>\n",
              "      <td>1</td>\n",
              "      <td>0</td>\n",
              "      <td>28</td>\n",
              "      <td>104.80</td>\n",
              "      <td>0</td>\n",
              "      <td>0</td>\n",
              "      <td>1</td>\n",
              "      <td>0</td>\n",
              "      <td>1</td>\n",
              "      <td>0</td>\n",
              "      <td>1</td>\n",
              "      <td>0</td>\n",
              "      <td>0</td>\n",
              "      <td>1</td>\n",
              "      <td>0</td>\n",
              "      <td>0</td>\n",
              "      <td>0</td>\n",
              "      <td>0</td>\n",
              "      <td>1</td>\n",
              "      <td>0</td>\n",
              "      <td>0</td>\n",
              "      <td>1</td>\n",
              "      <td>0</td>\n",
              "      <td>0</td>\n",
              "      <td>1</td>\n",
              "      <td>0</td>\n",
              "      <td>0</td>\n",
              "      <td>1</td>\n",
              "      <td>0</td>\n",
              "      <td>1</td>\n",
              "      <td>0</td>\n",
              "      <td>0</td>\n",
              "      <td>1</td>\n",
              "      <td>0</td>\n",
              "      <td>0</td>\n",
              "    </tr>\n",
              "    <tr>\n",
              "      <th>9</th>\n",
              "      <td>0</td>\n",
              "      <td>1</td>\n",
              "      <td>1</td>\n",
              "      <td>0</td>\n",
              "      <td>0</td>\n",
              "      <td>0</td>\n",
              "      <td>62</td>\n",
              "      <td>56.15</td>\n",
              "      <td>1</td>\n",
              "      <td>0</td>\n",
              "      <td>0</td>\n",
              "      <td>1</td>\n",
              "      <td>0</td>\n",
              "      <td>0</td>\n",
              "      <td>0</td>\n",
              "      <td>0</td>\n",
              "      <td>1</td>\n",
              "      <td>0</td>\n",
              "      <td>0</td>\n",
              "      <td>1</td>\n",
              "      <td>1</td>\n",
              "      <td>0</td>\n",
              "      <td>0</td>\n",
              "      <td>1</td>\n",
              "      <td>0</td>\n",
              "      <td>0</td>\n",
              "      <td>1</td>\n",
              "      <td>0</td>\n",
              "      <td>0</td>\n",
              "      <td>1</td>\n",
              "      <td>0</td>\n",
              "      <td>0</td>\n",
              "      <td>0</td>\n",
              "      <td>0</td>\n",
              "      <td>1</td>\n",
              "      <td>0</td>\n",
              "      <td>0</td>\n",
              "      <td>0</td>\n",
              "      <td>1</td>\n",
              "    </tr>\n",
              "  </tbody>\n",
              "</table>\n",
              "</div>\n",
              "      <button class=\"colab-df-convert\" onclick=\"convertToInteractive('df-2155b6ca-7b93-4b69-b0ba-f108537606e5')\"\n",
              "              title=\"Convert this dataframe to an interactive table.\"\n",
              "              style=\"display:none;\">\n",
              "\n",
              "  <svg xmlns=\"http://www.w3.org/2000/svg\" height=\"24px\"viewBox=\"0 0 24 24\"\n",
              "       width=\"24px\">\n",
              "    <path d=\"M0 0h24v24H0V0z\" fill=\"none\"/>\n",
              "    <path d=\"M18.56 5.44l.94 2.06.94-2.06 2.06-.94-2.06-.94-.94-2.06-.94 2.06-2.06.94zm-11 1L8.5 8.5l.94-2.06 2.06-.94-2.06-.94L8.5 2.5l-.94 2.06-2.06.94zm10 10l.94 2.06.94-2.06 2.06-.94-2.06-.94-.94-2.06-.94 2.06-2.06.94z\"/><path d=\"M17.41 7.96l-1.37-1.37c-.4-.4-.92-.59-1.43-.59-.52 0-1.04.2-1.43.59L10.3 9.45l-7.72 7.72c-.78.78-.78 2.05 0 2.83L4 21.41c.39.39.9.59 1.41.59.51 0 1.02-.2 1.41-.59l7.78-7.78 2.81-2.81c.8-.78.8-2.07 0-2.86zM5.41 20L4 18.59l7.72-7.72 1.47 1.35L5.41 20z\"/>\n",
              "  </svg>\n",
              "      </button>\n",
              "\n",
              "\n",
              "\n",
              "    <div id=\"df-ada7914c-46ba-46d7-bc75-99e416206807\">\n",
              "      <button class=\"colab-df-quickchart\" onclick=\"quickchart('df-ada7914c-46ba-46d7-bc75-99e416206807')\"\n",
              "              title=\"Suggest charts.\"\n",
              "              style=\"display:none;\">\n",
              "\n",
              "<svg xmlns=\"http://www.w3.org/2000/svg\" height=\"24px\"viewBox=\"0 0 24 24\"\n",
              "     width=\"24px\">\n",
              "    <g>\n",
              "        <path d=\"M19 3H5c-1.1 0-2 .9-2 2v14c0 1.1.9 2 2 2h14c1.1 0 2-.9 2-2V5c0-1.1-.9-2-2-2zM9 17H7v-7h2v7zm4 0h-2V7h2v10zm4 0h-2v-4h2v4z\"/>\n",
              "    </g>\n",
              "</svg>\n",
              "      </button>\n",
              "    </div>\n",
              "\n",
              "<style>\n",
              "  .colab-df-quickchart {\n",
              "    background-color: #E8F0FE;\n",
              "    border: none;\n",
              "    border-radius: 50%;\n",
              "    cursor: pointer;\n",
              "    display: none;\n",
              "    fill: #1967D2;\n",
              "    height: 32px;\n",
              "    padding: 0 0 0 0;\n",
              "    width: 32px;\n",
              "  }\n",
              "\n",
              "  .colab-df-quickchart:hover {\n",
              "    background-color: #E2EBFA;\n",
              "    box-shadow: 0px 1px 2px rgba(60, 64, 67, 0.3), 0px 1px 3px 1px rgba(60, 64, 67, 0.15);\n",
              "    fill: #174EA6;\n",
              "  }\n",
              "\n",
              "  [theme=dark] .colab-df-quickchart {\n",
              "    background-color: #3B4455;\n",
              "    fill: #D2E3FC;\n",
              "  }\n",
              "\n",
              "  [theme=dark] .colab-df-quickchart:hover {\n",
              "    background-color: #434B5C;\n",
              "    box-shadow: 0px 1px 3px 1px rgba(0, 0, 0, 0.15);\n",
              "    filter: drop-shadow(0px 1px 2px rgba(0, 0, 0, 0.3));\n",
              "    fill: #FFFFFF;\n",
              "  }\n",
              "</style>\n",
              "\n",
              "    <script>\n",
              "      async function quickchart(key) {\n",
              "        const containerElement = document.querySelector('#' + key);\n",
              "        const charts = await google.colab.kernel.invokeFunction(\n",
              "            'suggestCharts', [key], {});\n",
              "      }\n",
              "    </script>\n",
              "\n",
              "      <script>\n",
              "\n",
              "function displayQuickchartButton(domScope) {\n",
              "  let quickchartButtonEl =\n",
              "    domScope.querySelector('#df-ada7914c-46ba-46d7-bc75-99e416206807 button.colab-df-quickchart');\n",
              "  quickchartButtonEl.style.display =\n",
              "    google.colab.kernel.accessAllowed ? 'block' : 'none';\n",
              "}\n",
              "\n",
              "        displayQuickchartButton(document);\n",
              "      </script>\n",
              "      <style>\n",
              "    .colab-df-container {\n",
              "      display:flex;\n",
              "      flex-wrap:wrap;\n",
              "      gap: 12px;\n",
              "    }\n",
              "\n",
              "    .colab-df-convert {\n",
              "      background-color: #E8F0FE;\n",
              "      border: none;\n",
              "      border-radius: 50%;\n",
              "      cursor: pointer;\n",
              "      display: none;\n",
              "      fill: #1967D2;\n",
              "      height: 32px;\n",
              "      padding: 0 0 0 0;\n",
              "      width: 32px;\n",
              "    }\n",
              "\n",
              "    .colab-df-convert:hover {\n",
              "      background-color: #E2EBFA;\n",
              "      box-shadow: 0px 1px 2px rgba(60, 64, 67, 0.3), 0px 1px 3px 1px rgba(60, 64, 67, 0.15);\n",
              "      fill: #174EA6;\n",
              "    }\n",
              "\n",
              "    [theme=dark] .colab-df-convert {\n",
              "      background-color: #3B4455;\n",
              "      fill: #D2E3FC;\n",
              "    }\n",
              "\n",
              "    [theme=dark] .colab-df-convert:hover {\n",
              "      background-color: #434B5C;\n",
              "      box-shadow: 0px 1px 3px 1px rgba(0, 0, 0, 0.15);\n",
              "      filter: drop-shadow(0px 1px 2px rgba(0, 0, 0, 0.3));\n",
              "      fill: #FFFFFF;\n",
              "    }\n",
              "  </style>\n",
              "\n",
              "      <script>\n",
              "        const buttonEl =\n",
              "          document.querySelector('#df-2155b6ca-7b93-4b69-b0ba-f108537606e5 button.colab-df-convert');\n",
              "        buttonEl.style.display =\n",
              "          google.colab.kernel.accessAllowed ? 'block' : 'none';\n",
              "\n",
              "        async function convertToInteractive(key) {\n",
              "          const element = document.querySelector('#df-2155b6ca-7b93-4b69-b0ba-f108537606e5');\n",
              "          const dataTable =\n",
              "            await google.colab.kernel.invokeFunction('convertToInteractive',\n",
              "                                                     [key], {});\n",
              "          if (!dataTable) return;\n",
              "\n",
              "          const docLinkHtml = 'Like what you see? Visit the ' +\n",
              "            '<a target=\"_blank\" href=https://colab.research.google.com/notebooks/data_table.ipynb>data table notebook</a>'\n",
              "            + ' to learn more about interactive tables.';\n",
              "          element.innerHTML = '';\n",
              "          dataTable['output_type'] = 'display_data';\n",
              "          await google.colab.output.renderOutput(dataTable, element);\n",
              "          const docLink = document.createElement('div');\n",
              "          docLink.innerHTML = docLinkHtml;\n",
              "          element.appendChild(docLink);\n",
              "        }\n",
              "      </script>\n",
              "    </div>\n",
              "  </div>\n"
            ]
          },
          "metadata": {},
          "execution_count": 110
        }
      ]
    },
    {
      "cell_type": "markdown",
      "source": [
        "Pronto, agora todas as colunas estão sendo exibidas e os dados estão pronto para trabalharmos."
      ],
      "metadata": {
        "id": "-2gBHrgbR1h9"
      }
    },
    {
      "cell_type": "markdown",
      "source": [
        "## Separando Input e Output"
      ],
      "metadata": {
        "id": "HR8OjOeIR8ZR"
      }
    },
    {
      "cell_type": "markdown",
      "source": [
        "Para treinarmos nosso modelo de Machine Learning, precisamos separar os dados de entrada (input) e os dados de saída (output). Os dados de entrada são os dados que o modelo usará como referência (as *features*) para tentar prever os dados de saída (o *target*).\n",
        "\n",
        "Por convenção, chamamos de *X* os dados de entrada e *y* os dados de saída. Como se fosse uma função matemática: *y = f(X)*"
      ],
      "metadata": {
        "id": "E3rSU6w-TFJq"
      }
    },
    {
      "cell_type": "code",
      "source": [
        "X = dados_final.drop(['Churn'], axis=1)\n",
        "y = dados_final[['Churn']]"
      ],
      "metadata": {
        "id": "zQ9NqpXUU3dL"
      },
      "execution_count": null,
      "outputs": []
    },
    {
      "cell_type": "markdown",
      "source": [
        "Pronto, agora temos os dados separados em suas devidas categorias."
      ],
      "metadata": {
        "id": "iAT8RIbEVteY"
      }
    },
    {
      "cell_type": "markdown",
      "source": [
        "## Balanceamento de Dados"
      ],
      "metadata": {
        "id": "REpjAiBKMarC"
      }
    },
    {
      "cell_type": "markdown",
      "source": [
        "Dados desbalanceados são aqueles que possuem muitos registros para uma categoria e poucos para outra. Se não balanceamos esses dados de alguma forma, eles podem acarretar em problemas na construção de modelos e na geração de previsões.\n",
        "\n",
        "Para verificarmos se a nossa base de dados está desbalanceada, vamos gerar um gráfico que apresenta a distribuição dos valores da nossa variável classificadora **Churn**:"
      ],
      "metadata": {
        "id": "dseePWQrMs31"
      }
    },
    {
      "cell_type": "code",
      "source": [
        "import seaborn as sns\n",
        "%matplotlib inline\n",
        "\n",
        "ax = sns.countplot(x='Churn', data=dados_final)"
      ],
      "metadata": {
        "colab": {
          "base_uri": "https://localhost:8080/",
          "height": 449
        },
        "id": "l3J5Y641M4zv",
        "outputId": "4ec121aa-a0b0-46d3-8f1e-6f21f60d1346"
      },
      "execution_count": null,
      "outputs": [
        {
          "output_type": "display_data",
          "data": {
            "text/plain": [
              "<Figure size 640x480 with 1 Axes>"
            ],
            "image/png": "[encoded data removed]"
          },
          "metadata": {}
        }
      ]
    },
    {
      "cell_type": "markdown",
      "source": [
        "Analisando o gráfico, podemos perceber que nossa variável está desbalanceada e precisamos tratar isso. Para realizar o balanceamento dos dados, utilizaremos uma técnica chamada de *Oversampling*, que consiste em realizar a criação de novas observações da classe quando há menos amostras, tendo como objetivo igualar a proporção entre as categorias.\n",
        "\n",
        "Uma das técnicas de oversampling muito utilizada é a **SMOTE**. Sua ideia consiste em criar observações intermediárias entre os dados que estão próximos. Por exemplo, se minutos totais por dia são 129.1 e 146.3, então será criada uma amostra com os minutos totais por dia com 137.7. Lembrando que não é necessariamente a média entre as amostras.\n",
        "\n",
        "Vamos dar uma olhada no trecho de código utilizado para balancear o nosso dataset com o auxílio da biblioteca [imbalanced-learn](https://imbalanced-learn.org/stable/index.html) e da classe [SMOTE](https://imbalanced-learn.org/stable/references/generated/imblearn.over_sampling.SMOTE.html)."
      ],
      "metadata": {
        "id": "_1l2rc39N6sI"
      }
    },
    {
      "cell_type": "code",
      "source": [
        "from imblearn.over_sampling import SMOTE\n",
        "\n",
        "smt = SMOTE(random_state=123)  # Instancia um objeto da classe SMOTE\n",
        "X, y = smt.fit_resample(X, y)  # Realiza a reamostragem do conjunto de dados\n",
        "\n",
        "dados_final = pd.concat([X, y], axis=1)  # Concatena a variável target (y) com as features (X)\n",
        "dados_final.head()"
      ],
      "metadata": {
        "colab": {
          "base_uri": "https://localhost:8080/",
          "height": 270
        },
        "id": "DHXr83WQO4NR",
        "outputId": "5155670c-d750-4299-8090-b2695d6f1a0d"
      },
      "execution_count": null,
      "outputs": [
        {
          "output_type": "execute_result",
          "data": {
            "text/plain": [
              "   Conjuge  Dependentes  TelefoneFixo  PagamentoOnline  Maior65Anos  \\\n",
              "0        1            0             0                1            0   \n",
              "1        0            0             1                0            0   \n",
              "2        0            0             1                1            0   \n",
              "3        0            0             0                0            0   \n",
              "4        0            0             1                1            0   \n",
              "\n",
              "   MesesDeContrato  ContaMensal  VariasLinhasTelefonicas_Nao  \\\n",
              "0                1        29.85                            0   \n",
              "1               34        56.95                            1   \n",
              "2                2        53.85                            1   \n",
              "3               45        42.30                            0   \n",
              "4                2        70.70                            1   \n",
              "\n",
              "   VariasLinhasTelefonicas_SemServicoTelefonico  VariasLinhasTelefonicas_Sim  \\\n",
              "0                                             1                            0   \n",
              "1                                             0                            0   \n",
              "2                                             0                            0   \n",
              "3                                             1                            0   \n",
              "4                                             0                            0   \n",
              "\n",
              "   ServicoDeInternet_DSL  ServicoDeInternet_FibraOptica  \\\n",
              "0                      1                              0   \n",
              "1                      1                              0   \n",
              "2                      1                              0   \n",
              "3                      1                              0   \n",
              "4                      0                              1   \n",
              "\n",
              "   ServicoDeInternet_Nao  SegurancaOnline_Nao  \\\n",
              "0                      0                    1   \n",
              "1                      0                    0   \n",
              "2                      0                    0   \n",
              "3                      0                    0   \n",
              "4                      0                    1   \n",
              "\n",
              "   SegurancaOnline_SemServicoDeInternet  SegurancaOnline_Sim  \\\n",
              "0                                     0                    0   \n",
              "1                                     0                    1   \n",
              "2                                     0                    1   \n",
              "3                                     0                    1   \n",
              "4                                     0                    0   \n",
              "\n",
              "   BackupOnline_Nao  BackupOnline_SemServicoDeInternet  BackupOnline_Sim  \\\n",
              "0                 0                                  0                 1   \n",
              "1                 1                                  0                 0   \n",
              "2                 0                                  0                 1   \n",
              "3                 1                                  0                 0   \n",
              "4                 1                                  0                 0   \n",
              "\n",
              "   SeguroNoDispositivo_Nao  SeguroNoDispositivo_SemServicoDeInternet  \\\n",
              "0                        1                                         0   \n",
              "1                        0                                         0   \n",
              "2                        1                                         0   \n",
              "3                        0                                         0   \n",
              "4                        1                                         0   \n",
              "\n",
              "   SeguroNoDispositivo_Sim  SuporteTecnico_Nao  \\\n",
              "0                        0                   1   \n",
              "1                        1                   1   \n",
              "2                        0                   1   \n",
              "3                        1                   0   \n",
              "4                        0                   1   \n",
              "\n",
              "   SuporteTecnico_SemServicoDeInternet  SuporteTecnico_Sim  TVaCabo_Nao  \\\n",
              "0                                    0                   0            1   \n",
              "1                                    0                   0            1   \n",
              "2                                    0                   0            1   \n",
              "3                                    0                   1            1   \n",
              "4                                    0                   0            1   \n",
              "\n",
              "   TVaCabo_SemServicoDeInternet  TVaCabo_Sim  StreamingDeFilmes_Nao  \\\n",
              "0                             0            0                      1   \n",
              "1                             0            0                      1   \n",
              "2                             0            0                      1   \n",
              "3                             0            0                      1   \n",
              "4                             0            0                      1   \n",
              "\n",
              "   StreamingDeFilmes_SemServicoDeInternet  StreamingDeFilmes_Sim  \\\n",
              "0                                       0                      0   \n",
              "1                                       0                      0   \n",
              "2                                       0                      0   \n",
              "3                                       0                      0   \n",
              "4                                       0                      0   \n",
              "\n",
              "   TipoDeContrato_DoisAnos  TipoDeContrato_Mensalmente  TipoDeContrato_UmAno  \\\n",
              "0                        0                           1                     0   \n",
              "1                        0                           0                     1   \n",
              "2                        0                           1                     0   \n",
              "3                        0                           0                     1   \n",
              "4                        0                           1                     0   \n",
              "\n",
              "   FormaDePagamento_CartaoDeCredito  FormaDePagamento_ChequeDigital  \\\n",
              "0                                 0                               1   \n",
              "1                                 0                               0   \n",
              "2                                 0                               0   \n",
              "3                                 0                               0   \n",
              "4                                 0                               1   \n",
              "\n",
              "   FormaDePagamento_ChequePapel  FormaDePagamento_DebitoEmConta  Churn  \n",
              "0                             0                               0      0  \n",
              "1                             1                               0      0  \n",
              "2                             1                               0      1  \n",
              "3                             0                               1      0  \n",
              "4                             0                               0      1  "
            ],
            "text/html": [
              "\n",
              "\n",
              "  <div id=\"df-c80af278-6de3-4077-9b44-7dbebaed34ed\">\n",
              "    <div class=\"colab-df-container\">\n",
              "      <div>\n",
              "<style scoped>\n",
              "    .dataframe tbody tr th:only-of-type {\n",
              "        vertical-align: middle;\n",
              "    }\n",
              "\n",
              "    .dataframe tbody tr th {\n",
              "        vertical-align: top;\n",
              "    }\n",
              "\n",
              "    .dataframe thead th {\n",
              "        text-align: right;\n",
              "    }\n",
              "</style>\n",
              "<table border=\"1\" class=\"dataframe\">\n",
              "  <thead>\n",
              "    <tr style=\"text-align: right;\">\n",
              "      <th></th>\n",
              "      <th>Conjuge</th>\n",
              "      <th>Dependentes</th>\n",
              "      <th>TelefoneFixo</th>\n",
              "      <th>PagamentoOnline</th>\n",
              "      <th>Maior65Anos</th>\n",
              "      <th>MesesDeContrato</th>\n",
              "      <th>ContaMensal</th>\n",
              "      <th>VariasLinhasTelefonicas_Nao</th>\n",
              "      <th>VariasLinhasTelefonicas_SemServicoTelefonico</th>\n",
              "      <th>VariasLinhasTelefonicas_Sim</th>\n",
              "      <th>ServicoDeInternet_DSL</th>\n",
              "      <th>ServicoDeInternet_FibraOptica</th>\n",
              "      <th>ServicoDeInternet_Nao</th>\n",
              "      <th>SegurancaOnline_Nao</th>\n",
              "      <th>SegurancaOnline_SemServicoDeInternet</th>\n",
              "      <th>SegurancaOnline_Sim</th>\n",
              "      <th>BackupOnline_Nao</th>\n",
              "      <th>BackupOnline_SemServicoDeInternet</th>\n",
              "      <th>BackupOnline_Sim</th>\n",
              "      <th>SeguroNoDispositivo_Nao</th>\n",
              "      <th>SeguroNoDispositivo_SemServicoDeInternet</th>\n",
              "      <th>SeguroNoDispositivo_Sim</th>\n",
              "      <th>SuporteTecnico_Nao</th>\n",
              "      <th>SuporteTecnico_SemServicoDeInternet</th>\n",
              "      <th>SuporteTecnico_Sim</th>\n",
              "      <th>TVaCabo_Nao</th>\n",
              "      <th>TVaCabo_SemServicoDeInternet</th>\n",
              "      <th>TVaCabo_Sim</th>\n",
              "      <th>StreamingDeFilmes_Nao</th>\n",
              "      <th>StreamingDeFilmes_SemServicoDeInternet</th>\n",
              "      <th>StreamingDeFilmes_Sim</th>\n",
              "      <th>TipoDeContrato_DoisAnos</th>\n",
              "      <th>TipoDeContrato_Mensalmente</th>\n",
              "      <th>TipoDeContrato_UmAno</th>\n",
              "      <th>FormaDePagamento_CartaoDeCredito</th>\n",
              "      <th>FormaDePagamento_ChequeDigital</th>\n",
              "      <th>FormaDePagamento_ChequePapel</th>\n",
              "      <th>FormaDePagamento_DebitoEmConta</th>\n",
              "      <th>Churn</th>\n",
              "    </tr>\n",
              "  </thead>\n",
              "  <tbody>\n",
              "    <tr>\n",
              "      <th>0</th>\n",
              "      <td>1</td>\n",
              "      <td>0</td>\n",
              "      <td>0</td>\n",
              "      <td>1</td>\n",
              "      <td>0</td>\n",
              "      <td>1</td>\n",
              "      <td>29.85</td>\n",
              "      <td>0</td>\n",
              "      <td>1</td>\n",
              "      <td>0</td>\n",
              "      <td>1</td>\n",
              "      <td>0</td>\n",
              "      <td>0</td>\n",
              "      <td>1</td>\n",
              "      <td>0</td>\n",
              "      <td>0</td>\n",
              "      <td>0</td>\n",
              "      <td>0</td>\n",
              "      <td>1</td>\n",
              "      <td>1</td>\n",
              "      <td>0</td>\n",
              "      <td>0</td>\n",
              "      <td>1</td>\n",
              "      <td>0</td>\n",
              "      <td>0</td>\n",
              "      <td>1</td>\n",
              "      <td>0</td>\n",
              "      <td>0</td>\n",
              "      <td>1</td>\n",
              "      <td>0</td>\n",
              "      <td>0</td>\n",
              "      <td>0</td>\n",
              "      <td>1</td>\n",
              "      <td>0</td>\n",
              "      <td>0</td>\n",
              "      <td>1</td>\n",
              "      <td>0</td>\n",
              "      <td>0</td>\n",
              "      <td>0</td>\n",
              "    </tr>\n",
              "    <tr>\n",
              "      <th>1</th>\n",
              "      <td>0</td>\n",
              "      <td>0</td>\n",
              "      <td>1</td>\n",
              "      <td>0</td>\n",
              "      <td>0</td>\n",
              "      <td>34</td>\n",
              "      <td>56.95</td>\n",
              "      <td>1</td>\n",
              "      <td>0</td>\n",
              "      <td>0</td>\n",
              "      <td>1</td>\n",
              "      <td>0</td>\n",
              "      <td>0</td>\n",
              "      <td>0</td>\n",
              "      <td>0</td>\n",
              "      <td>1</td>\n",
              "      <td>1</td>\n",
              "      <td>0</td>\n",
              "      <td>0</td>\n",
              "      <td>0</td>\n",
              "      <td>0</td>\n",
              "      <td>1</td>\n",
              "      <td>1</td>\n",
              "      <td>0</td>\n",
              "      <td>0</td>\n",
              "      <td>1</td>\n",
              "      <td>0</td>\n",
              "      <td>0</td>\n",
              "      <td>1</td>\n",
              "      <td>0</td>\n",
              "      <td>0</td>\n",
              "      <td>0</td>\n",
              "      <td>0</td>\n",
              "      <td>1</td>\n",
              "      <td>0</td>\n",
              "      <td>0</td>\n",
              "      <td>1</td>\n",
              "      <td>0</td>\n",
              "      <td>0</td>\n",
              "    </tr>\n",
              "    <tr>\n",
              "      <th>2</th>\n",
              "      <td>0</td>\n",
              "      <td>0</td>\n",
              "      <td>1</td>\n",
              "      <td>1</td>\n",
              "      <td>0</td>\n",
              "      <td>2</td>\n",
              "      <td>53.85</td>\n",
              "      <td>1</td>\n",
              "      <td>0</td>\n",
              "      <td>0</td>\n",
              "      <td>1</td>\n",
              "      <td>0</td>\n",
              "      <td>0</td>\n",
              "      <td>0</td>\n",
              "      <td>0</td>\n",
              "      <td>1</td>\n",
              "      <td>0</td>\n",
              "      <td>0</td>\n",
              "      <td>1</td>\n",
              "      <td>1</td>\n",
              "      <td>0</td>\n",
              "      <td>0</td>\n",
              "      <td>1</td>\n",
              "      <td>0</td>\n",
              "      <td>0</td>\n",
              "      <td>1</td>\n",
              "      <td>0</td>\n",
              "      <td>0</td>\n",
              "      <td>1</td>\n",
              "      <td>0</td>\n",
              "      <td>0</td>\n",
              "      <td>0</td>\n",
              "      <td>1</td>\n",
              "      <td>0</td>\n",
              "      <td>0</td>\n",
              "      <td>0</td>\n",
              "      <td>1</td>\n",
              "      <td>0</td>\n",
              "      <td>1</td>\n",
              "    </tr>\n",
              "    <tr>\n",
              "      <th>3</th>\n",
              "      <td>0</td>\n",
              "      <td>0</td>\n",
              "      <td>0</td>\n",
              "      <td>0</td>\n",
              "      <td>0</td>\n",
              "      <td>45</td>\n",
              "      <td>42.30</td>\n",
              "      <td>0</td>\n",
              "      <td>1</td>\n",
              "      <td>0</td>\n",
              "      <td>1</td>\n",
              "      <td>0</td>\n",
              "      <td>0</td>\n",
              "      <td>0</td>\n",
              "      <td>0</td>\n",
              "      <td>1</td>\n",
              "      <td>1</td>\n",
              "      <td>0</td>\n",
              "      <td>0</td>\n",
              "      <td>0</td>\n",
              "      <td>0</td>\n",
              "      <td>1</td>\n",
              "      <td>0</td>\n",
              "      <td>0</td>\n",
              "      <td>1</td>\n",
              "      <td>1</td>\n",
              "      <td>0</td>\n",
              "      <td>0</td>\n",
              "      <td>1</td>\n",
              "      <td>0</td>\n",
              "      <td>0</td>\n",
              "      <td>0</td>\n",
              "      <td>0</td>\n",
              "      <td>1</td>\n",
              "      <td>0</td>\n",
              "      <td>0</td>\n",
              "      <td>0</td>\n",
              "      <td>1</td>\n",
              "      <td>0</td>\n",
              "    </tr>\n",
              "    <tr>\n",
              "      <th>4</th>\n",
              "      <td>0</td>\n",
              "      <td>0</td>\n",
              "      <td>1</td>\n",
              "      <td>1</td>\n",
              "      <td>0</td>\n",
              "      <td>2</td>\n",
              "      <td>70.70</td>\n",
              "      <td>1</td>\n",
              "      <td>0</td>\n",
              "      <td>0</td>\n",
              "      <td>0</td>\n",
              "      <td>1</td>\n",
              "      <td>0</td>\n",
              "      <td>1</td>\n",
              "      <td>0</td>\n",
              "      <td>0</td>\n",
              "      <td>1</td>\n",
              "      <td>0</td>\n",
              "      <td>0</td>\n",
              "      <td>1</td>\n",
              "      <td>0</td>\n",
              "      <td>0</td>\n",
              "      <td>1</td>\n",
              "      <td>0</td>\n",
              "      <td>0</td>\n",
              "      <td>1</td>\n",
              "      <td>0</td>\n",
              "      <td>0</td>\n",
              "      <td>1</td>\n",
              "      <td>0</td>\n",
              "      <td>0</td>\n",
              "      <td>0</td>\n",
              "      <td>1</td>\n",
              "      <td>0</td>\n",
              "      <td>0</td>\n",
              "      <td>1</td>\n",
              "      <td>0</td>\n",
              "      <td>0</td>\n",
              "      <td>1</td>\n",
              "    </tr>\n",
              "  </tbody>\n",
              "</table>\n",
              "</div>\n",
              "      <button class=\"colab-df-convert\" onclick=\"convertToInteractive('df-c80af278-6de3-4077-9b44-7dbebaed34ed')\"\n",
              "              title=\"Convert this dataframe to an interactive table.\"\n",
              "              style=\"display:none;\">\n",
              "\n",
              "  <svg xmlns=\"http://www.w3.org/2000/svg\" height=\"24px\"viewBox=\"0 0 24 24\"\n",
              "       width=\"24px\">\n",
              "    <path d=\"M0 0h24v24H0V0z\" fill=\"none\"/>\n",
              "    <path d=\"M18.56 5.44l.94 2.06.94-2.06 2.06-.94-2.06-.94-.94-2.06-.94 2.06-2.06.94zm-11 1L8.5 8.5l.94-2.06 2.06-.94-2.06-.94L8.5 2.5l-.94 2.06-2.06.94zm10 10l.94 2.06.94-2.06 2.06-.94-2.06-.94-.94-2.06-.94 2.06-2.06.94z\"/><path d=\"M17.41 7.96l-1.37-1.37c-.4-.4-.92-.59-1.43-.59-.52 0-1.04.2-1.43.59L10.3 9.45l-7.72 7.72c-.78.78-.78 2.05 0 2.83L4 21.41c.39.39.9.59 1.41.59.51 0 1.02-.2 1.41-.59l7.78-7.78 2.81-2.81c.8-.78.8-2.07 0-2.86zM5.41 20L4 18.59l7.72-7.72 1.47 1.35L5.41 20z\"/>\n",
              "  </svg>\n",
              "      </button>\n",
              "\n",
              "\n",
              "\n",
              "    <div id=\"df-90eba0c7-65d4-4b9a-aea3-77eec579e776\">\n",
              "      <button class=\"colab-df-quickchart\" onclick=\"quickchart('df-90eba0c7-65d4-4b9a-aea3-77eec579e776')\"\n",
              "              title=\"Suggest charts.\"\n",
              "              style=\"display:none;\">\n",
              "\n",
              "<svg xmlns=\"http://www.w3.org/2000/svg\" height=\"24px\"viewBox=\"0 0 24 24\"\n",
              "     width=\"24px\">\n",
              "    <g>\n",
              "        <path d=\"M19 3H5c-1.1 0-2 .9-2 2v14c0 1.1.9 2 2 2h14c1.1 0 2-.9 2-2V5c0-1.1-.9-2-2-2zM9 17H7v-7h2v7zm4 0h-2V7h2v10zm4 0h-2v-4h2v4z\"/>\n",
              "    </g>\n",
              "</svg>\n",
              "      </button>\n",
              "    </div>\n",
              "\n",
              "<style>\n",
              "  .colab-df-quickchart {\n",
              "    background-color: #E8F0FE;\n",
              "    border: none;\n",
              "    border-radius: 50%;\n",
              "    cursor: pointer;\n",
              "    display: none;\n",
              "    fill: #1967D2;\n",
              "    height: 32px;\n",
              "    padding: 0 0 0 0;\n",
              "    width: 32px;\n",
              "  }\n",
              "\n",
              "  .colab-df-quickchart:hover {\n",
              "    background-color: #E2EBFA;\n",
              "    box-shadow: 0px 1px 2px rgba(60, 64, 67, 0.3), 0px 1px 3px 1px rgba(60, 64, 67, 0.15);\n",
              "    fill: #174EA6;\n",
              "  }\n",
              "\n",
              "  [theme=dark] .colab-df-quickchart {\n",
              "    background-color: #3B4455;\n",
              "    fill: #D2E3FC;\n",
              "  }\n",
              "\n",
              "  [theme=dark] .colab-df-quickchart:hover {\n",
              "    background-color: #434B5C;\n",
              "    box-shadow: 0px 1px 3px 1px rgba(0, 0, 0, 0.15);\n",
              "    filter: drop-shadow(0px 1px 2px rgba(0, 0, 0, 0.3));\n",
              "    fill: #FFFFFF;\n",
              "  }\n",
              "</style>\n",
              "\n",
              "    <script>\n",
              "      async function quickchart(key) {\n",
              "        const containerElement = document.querySelector('#' + key);\n",
              "        const charts = await google.colab.kernel.invokeFunction(\n",
              "            'suggestCharts', [key], {});\n",
              "      }\n",
              "    </script>\n",
              "\n",
              "      <script>\n",
              "\n",
              "function displayQuickchartButton(domScope) {\n",
              "  let quickchartButtonEl =\n",
              "    domScope.querySelector('#df-90eba0c7-65d4-4b9a-aea3-77eec579e776 button.colab-df-quickchart');\n",
              "  quickchartButtonEl.style.display =\n",
              "    google.colab.kernel.accessAllowed ? 'block' : 'none';\n",
              "}\n",
              "\n",
              "        displayQuickchartButton(document);\n",
              "      </script>\n",
              "      <style>\n",
              "    .colab-df-container {\n",
              "      display:flex;\n",
              "      flex-wrap:wrap;\n",
              "      gap: 12px;\n",
              "    }\n",
              "\n",
              "    .colab-df-convert {\n",
              "      background-color: #E8F0FE;\n",
              "      border: none;\n",
              "      border-radius: 50%;\n",
              "      cursor: pointer;\n",
              "      display: none;\n",
              "      fill: #1967D2;\n",
              "      height: 32px;\n",
              "      padding: 0 0 0 0;\n",
              "      width: 32px;\n",
              "    }\n",
              "\n",
              "    .colab-df-convert:hover {\n",
              "      background-color: #E2EBFA;\n",
              "      box-shadow: 0px 1px 2px rgba(60, 64, 67, 0.3), 0px 1px 3px 1px rgba(60, 64, 67, 0.15);\n",
              "      fill: #174EA6;\n",
              "    }\n",
              "\n",
              "    [theme=dark] .colab-df-convert {\n",
              "      background-color: #3B4455;\n",
              "      fill: #D2E3FC;\n",
              "    }\n",
              "\n",
              "    [theme=dark] .colab-df-convert:hover {\n",
              "      background-color: #434B5C;\n",
              "      box-shadow: 0px 1px 3px 1px rgba(0, 0, 0, 0.15);\n",
              "      filter: drop-shadow(0px 1px 2px rgba(0, 0, 0, 0.3));\n",
              "      fill: #FFFFFF;\n",
              "    }\n",
              "  </style>\n",
              "\n",
              "      <script>\n",
              "        const buttonEl =\n",
              "          document.querySelector('#df-c80af278-6de3-4077-9b44-7dbebaed34ed button.colab-df-convert');\n",
              "        buttonEl.style.display =\n",
              "          google.colab.kernel.accessAllowed ? 'block' : 'none';\n",
              "\n",
              "        async function convertToInteractive(key) {\n",
              "          const element = document.querySelector('#df-c80af278-6de3-4077-9b44-7dbebaed34ed');\n",
              "          const dataTable =\n",
              "            await google.colab.kernel.invokeFunction('convertToInteractive',\n",
              "                                                     [key], {});\n",
              "          if (!dataTable) return;\n",
              "\n",
              "          const docLinkHtml = 'Like what you see? Visit the ' +\n",
              "            '<a target=\"_blank\" href=https://colab.research.google.com/notebooks/data_table.ipynb>data table notebook</a>'\n",
              "            + ' to learn more about interactive tables.';\n",
              "          element.innerHTML = '';\n",
              "          dataTable['output_type'] = 'display_data';\n",
              "          await google.colab.output.renderOutput(dataTable, element);\n",
              "          const docLink = document.createElement('div');\n",
              "          docLink.innerHTML = docLinkHtml;\n",
              "          element.appendChild(docLink);\n",
              "        }\n",
              "      </script>\n",
              "    </div>\n",
              "  </div>\n"
            ]
          },
          "metadata": {},
          "execution_count": 113
        }
      ]
    },
    {
      "cell_type": "code",
      "source": [
        "ax = sns.countplot(x='Churn', data=dados_final)"
      ],
      "metadata": {
        "colab": {
          "base_uri": "https://localhost:8080/",
          "height": 449
        },
        "id": "5U1sBk71Pbdr",
        "outputId": "21637fcd-7a3e-4db0-e25a-86f5a6b0d10f"
      },
      "execution_count": null,
      "outputs": [
        {
          "output_type": "display_data",
          "data": {
            "text/plain": [
              "<Figure size 640x480 with 1 Axes>"
            ],
            "image/png": "[encoded data removed]"
          },
          "metadata": {}
        }
      ]
    },
    {
      "cell_type": "code",
      "source": [
        "dados_final.Churn.value_counts()"
      ],
      "metadata": {
        "colab": {
          "base_uri": "https://localhost:8080/"
        },
        "id": "y9z10v8hgIyz",
        "outputId": "0af87315-c058-4b60-e077-1182373abc83"
      },
      "execution_count": null,
      "outputs": [
        {
          "output_type": "execute_result",
          "data": {
            "text/plain": [
              "0    5174\n",
              "1    5174\n",
              "Name: Churn, dtype: int64"
            ]
          },
          "metadata": {},
          "execution_count": 115
        }
      ]
    },
    {
      "cell_type": "markdown",
      "source": [
        "Agora a nossa variável classificadora está equilibrada, temos as mesmas quantidades de amostras para ambos os casos.\n",
        "\n",
        "O balanceamento de dados é um aspecto importante ao lidar com problemas de Machine Learning, especialmente quando se trata de problemas de classificação binária com classes desbalanceadas.\n",
        "\n",
        "Quando tem classes desbalanceadas, ou seja, uma classe possui muito mais exemplos do que a outra, o modelo de Machine Learning pode ficar enviesado em direção à classe majoritária, resultando em um desempenho insatisfatório na classificação da classe minoritária.\n",
        "\n",
        "O objetivo do *oversampling* é melhorar a capacidade do modelo de aprender padrões da classe minoritária, tornando-o menos enviesado em direção à classe majoritária e melhorando a precisão nas previsões da classe de interesse.\n",
        "\n",
        "Para aprofundar no tema, indico a leitura do artigo: [Como lidar com dados desbalanceados em problemas de classificação](https://medium.com/data-hackers/como-lidar-com-dados-desbalanceados-em-problemas-de-classifica%C3%A7%C3%A3o-17c4d4357ef9)."
      ],
      "metadata": {
        "id": "9DKoJFMkSU_B"
      }
    },
    {
      "cell_type": "markdown",
      "source": [
        "## Classificação vs Regressão"
      ],
      "metadata": {
        "id": "R3UwyG3Icmr5"
      }
    },
    {
      "cell_type": "markdown",
      "source": [
        "### **Classificação**\n",
        "\n",
        "Quando precisamos prever a qual categoria pertence uma determinada amostra, trata-se de um problema de classificação. Alguns exemplos que podemos citar são:\n",
        "\n",
        "- Prever se um(a) determinado(a) paciente está com Covid.\n",
        "- Se um(a) cliente está propenso(a) a desistir da compra.\n",
        "- Se algum(a) usuário(a) web está propenso(a) a clicar em um anúncio.\n",
        "\n",
        "Nesses casos mencionados, a previsão se concentra em 0 ou 1 (Covid/não Covid, desistir/não desistir, clicar/não clicar) que é denominada de classificação binária, na qual existem somente duas classes. Há também casos em que a classificação se dá com mais duas classes, chamada de classificação multiclasse, como a filtragem dos e-mails em “principal”, “social”, “promoções”, “importantes” ou “fóruns”.\n",
        "\n",
        "Entre os algoritmos de classificação podemos citar:\n",
        "\n",
        "- [K-Nearest Neighbors (KNN)](https://scikit-learn.org/stable/modules/generated/sklearn.neighbors.KNeighborsClassifier.html)\n",
        "- [Support Vector Machine (SVM)](https://scikit-learn.org/stable/modules/svm.html)\n",
        "- [Decision Tree Classifier](https://scikit-learn.org/stable/modules/generated/sklearn.tree.DecisionTreeClassifier.html)\n",
        "- [Random Forest Classifier](https://scikit-learn.org/stable/modules/generated/sklearn.ensemble.RandomForestClassifier.html)"
      ],
      "metadata": {
        "id": "z-afNjN8cveP"
      }
    },
    {
      "cell_type": "markdown",
      "source": [
        "### **Regressão**\n",
        "\n",
        "Quando precisamos prever um valor numérico específico, isso indica que estamos lidando com um problema de regressão. Alguns exemplos desses problemas estão relacionados à previsão de:\n",
        "\n",
        "- Preços/Custos futuros\n",
        "- Estoque\n",
        "- Receita futura\n",
        "\n",
        "Nessas situações, podemos utilizar algum modelo de regressão para realizar essas previsões e apresentar como resposta algum valor contínuo relacionado ao problema. Existem diferentes tipos de algoritmos de machine learning utilizados para resolver esse tipo de problema:\n",
        "\n",
        "- [Linear Regression](https://scikit-learn.org/stable/modules/generated/sklearn.linear_model.LinearRegression.html)\n",
        "- [Random Forest Regressor](https://scikit-learn.org/stable/modules/generated/sklearn.ensemble.RandomForestRegressor.html)\n",
        "- [Support Vector Regression (SVR)](https://scikit-learn.org/stable/modules/generated/sklearn.svm.SVR.html)"
      ],
      "metadata": {
        "id": "MMRfAr3pdqKO"
      }
    },
    {
      "cell_type": "markdown",
      "source": [
        "# Modelo K-Nearest Neighbors (KNN)\n",
        "\n",
        "Imagine que você tem um conjunto de dados com pontos espalhados em um gráfico, onde cada ponto representa um objeto com características definidas. Agora, suponha que você queira classificar um novo ponto desconhecido (sem rótulo) nesse gráfico em uma determinada categoria (por exemplo, se é um gato ou um cachorro).\n",
        "\n",
        "<div align=\"center\">\n",
        "\n",
        "<img src=\"https://media.geeksforgeeks.org/wp-content/uploads/20200616145419/Untitled2781.png\" width=\"550\" height=\"350\">\n",
        "\n",
        "</div>\n",
        "\n",
        "O KNN funciona da seguinte forma:\n",
        "\n",
        "- **Encontra os vizinhos mais próximos**: Ele procura os \"K\" pontos mais próximos ao novo ponto desconhecido com base na distância euclidiana (ou alguma outra métrica de distância).\n",
        "\n",
        "- **Vota na maioria**: Dos \"K\" vizinhos mais próximos, verifica-se a categoria predominante entre eles (por exemplo, se a maioria deles é um gato, vota-se em \"gato\").\n",
        "\n",
        "- **Classifica o novo ponto**: O novo ponto desconhecido é classificado na categoria que obteve mais votos entre seus vizinhos próximos.\n",
        "\n",
        "Aqui estão alguns pontos importantes sobre o KNN:\n",
        "\n",
        "- **O valor de \"K\" é um parâmetro importante**. O valor de *K* indica a quantidade de vizinhos mais próximos que o algoritmo levará em consideração. Um valor maior de *K* suaviza a decisão, tornando o modelo menos sensível a ruídos, mas pode torná-lo mais suscetível a classificar incorretamente regiões não bem definidas. Um valor menor de *K* torna o modelo mais sensível a ruídos, mas pode funcionar melhor em conjuntos de dados com padrões mais complexos.\n",
        "\n",
        "- **A escolha da métrica de distância** (por exemplo, distância euclidiana, distância de Manhattan) também pode afetar o desempenho do KNN.\n",
        "\n",
        "- O KNN não realiza um treinamento explícito com os dados de treinamento, mas armazena todos os dados, o que pode torná-lo **ineficiente para grandes conjuntos de dados**.\n",
        "\n",
        "Em resumo, o KNN é uma abordagem simples e poderosa para classificação e regressão, que toma decisões com base nos vizinhos mais próximos dos dados de treinamento."
      ],
      "metadata": {
        "id": "txQdlwNPbGM2"
      }
    },
    {
      "cell_type": "markdown",
      "source": [
        "Ao escolher o valor de K devemos tomar cuidado com dois possíveis problemas:\n",
        "\n",
        "- **Overfitting:** Quando o K é muito pequeno, o modelo vai se alinhar perfeitamente aos dados de entrada, porém, vai terá muito dificuldade de classificar dados novos, por ter apenas 'decorado' os dados de treinamento.\n",
        "- **Underfitting**: Quando o K é muio grande, o modelo não vai conseguir aprender padrões relevantes dos dados de treinamento, tornando-o muito generalista."
      ],
      "metadata": {
        "id": "GcmgTdQoaYG5"
      }
    },
    {
      "cell_type": "markdown",
      "source": [
        "## Normalizando os dados"
      ],
      "metadata": {
        "id": "UEnu82eNhyzu"
      }
    },
    {
      "cell_type": "code",
      "source": [
        "from sklearn.preprocessing import StandardScaler\n",
        "\n",
        "norm = StandardScaler()\n",
        "\n",
        "X_normalizado = norm.fit_transform(X)\n",
        "X_normalizado"
      ],
      "metadata": {
        "colab": {
          "base_uri": "https://localhost:8080/"
        },
        "id": "az0NnX0RiJZJ",
        "outputId": "5412809a-9eb8-43c0-aa1b-919a25f6c69b"
      },
      "execution_count": null,
      "outputs": [
        {
          "output_type": "execute_result",
          "data": {
            "text/plain": [
              "array([[ 1.26542767, -0.52771004, -3.06083934, ...,  1.30373042,\n",
              "        -0.47912706, -0.4360152 ],\n",
              "       [-0.79024667, -0.52771004,  0.32670777, ..., -0.76702973,\n",
              "         2.08712905, -0.4360152 ],\n",
              "       [-0.79024667, -0.52771004,  0.32670777, ..., -0.76702973,\n",
              "         2.08712905, -0.4360152 ],\n",
              "       ...,\n",
              "       [-0.79024667, -0.52771004,  0.32670777, ...,  1.30373042,\n",
              "        -0.47912706, -0.4360152 ],\n",
              "       [-0.79024667, -0.52771004,  0.32670777, ..., -0.76702973,\n",
              "        -0.47912706, -0.4360152 ],\n",
              "       [-0.79024667, -0.52771004,  0.32670777, ..., -0.76702973,\n",
              "        -0.47912706, -0.4360152 ]])"
            ]
          },
          "metadata": {},
          "execution_count": 116
        }
      ]
    },
    {
      "cell_type": "markdown",
      "source": [
        "## Implementando o Modelo"
      ],
      "metadata": {
        "id": "5diHyrDcolVB"
      }
    },
    {
      "cell_type": "markdown",
      "source": [
        "Separando dados de treino e teste:"
      ],
      "metadata": {
        "id": "IX62KciYpcfY"
      }
    },
    {
      "cell_type": "code",
      "source": [
        "from sklearn.model_selection import train_test_split\n",
        "\n",
        "X_treino, X_teste, y_treino, y_teste = train_test_split(X_normalizado, y, test_size=0.3, random_state=123)"
      ],
      "metadata": {
        "id": "080bsklmmli3"
      },
      "execution_count": null,
      "outputs": []
    },
    {
      "cell_type": "markdown",
      "source": [
        "Criando o modelo:"
      ],
      "metadata": {
        "id": "GsUV-_m5ph2C"
      }
    },
    {
      "cell_type": "code",
      "source": [
        "from sklearn.neighbors import KNeighborsClassifier\n",
        "\n",
        "knn = KNeighborsClassifier(metric='euclidean')  # Valor padrão de k=5"
      ],
      "metadata": {
        "id": "0cUV3YR8ptpx"
      },
      "execution_count": null,
      "outputs": []
    },
    {
      "cell_type": "markdown",
      "source": [
        "Treinando o modelo:"
      ],
      "metadata": {
        "id": "viYbVOrTw40j"
      }
    },
    {
      "cell_type": "code",
      "source": [
        "knn.fit(X_treino, y_treino)"
      ],
      "metadata": {
        "colab": {
          "base_uri": "https://localhost:8080/",
          "height": 129
        },
        "id": "-1_xKF16w6eh",
        "outputId": "9eef3d32-7135-447c-df9d-e6940b119210"
      },
      "execution_count": null,
      "outputs": [
        {
          "output_type": "stream",
          "name": "stderr",
          "text": [
            "/usr/local/lib/python3.10/dist-packages/sklearn/neighbors/_classification.py:215: DataConversionWarning: A column-vector y was passed when a 1d array was expected. Please change the shape of y to (n_samples,), for example using ravel().\n",
            "  return self._fit(X, y)\n"
          ]
        },
        {
          "output_type": "execute_result",
          "data": {
            "text/plain": [
              "KNeighborsClassifier(metric='euclidean')"
            ],
            "text/html": [
              "<style>#sk-container-id-7 {color: black;background-color: white;}#sk-container-id-7 pre{padding: 0;}#sk-container-id-7 div.sk-toggleable {background-color: white;}#sk-container-id-7 label.sk-toggleable__label {cursor: pointer;display: block;width: 100%;margin-bottom: 0;padding: 0.3em;box-sizing: border-box;text-align: center;}#sk-container-id-7 label.sk-toggleable__label-arrow:before {content: \"▸\";float: left;margin-right: 0.25em;color: #696969;}#sk-container-id-7 label.sk-toggleable__label-arrow:hover:before {color: black;}#sk-container-id-7 div.sk-estimator:hover label.sk-toggleable__label-arrow:before {color: black;}#sk-container-id-7 div.sk-toggleable__content {max-height: 0;max-width: 0;overflow: hidden;text-align: left;background-color: #f0f8ff;}#sk-container-id-7 div.sk-toggleable__content pre {margin: 0.2em;color: black;border-radius: 0.25em;background-color: #f0f8ff;}#sk-container-id-7 input.sk-toggleable__control:checked~div.sk-toggleable__content {max-height: 200px;max-width: 100%;overflow: auto;}#sk-container-id-7 input.sk-toggleable__control:checked~label.sk-toggleable__label-arrow:before {content: \"▾\";}#sk-container-id-7 div.sk-estimator input.sk-toggleable__control:checked~label.sk-toggleable__label {background-color: #d4ebff;}#sk-container-id-7 div.sk-label input.sk-toggleable__control:checked~label.sk-toggleable__label {background-color: #d4ebff;}#sk-container-id-7 input.sk-hidden--visually {border: 0;clip: rect(1px 1px 1px 1px);clip: rect(1px, 1px, 1px, 1px);height: 1px;margin: -1px;overflow: hidden;padding: 0;position: absolute;width: 1px;}#sk-container-id-7 div.sk-estimator {font-family: monospace;background-color: #f0f8ff;border: 1px dotted black;border-radius: 0.25em;box-sizing: border-box;margin-bottom: 0.5em;}#sk-container-id-7 div.sk-estimator:hover {background-color: #d4ebff;}#sk-container-id-7 div.sk-parallel-item::after {content: \"\";width: 100%;border-bottom: 1px solid gray;flex-grow: 1;}#sk-container-id-7 div.sk-label:hover label.sk-toggleable__label {background-color: #d4ebff;}#sk-container-id-7 div.sk-serial::before {content: \"\";position: absolute;border-left: 1px solid gray;box-sizing: border-box;top: 0;bottom: 0;left: 50%;z-index: 0;}#sk-container-id-7 div.sk-serial {display: flex;flex-direction: column;align-items: center;background-color: white;padding-right: 0.2em;padding-left: 0.2em;position: relative;}#sk-container-id-7 div.sk-item {position: relative;z-index: 1;}#sk-container-id-7 div.sk-parallel {display: flex;align-items: stretch;justify-content: center;background-color: white;position: relative;}#sk-container-id-7 div.sk-item::before, #sk-container-id-7 div.sk-parallel-item::before {content: \"\";position: absolute;border-left: 1px solid gray;box-sizing: border-box;top: 0;bottom: 0;left: 50%;z-index: -1;}#sk-container-id-7 div.sk-parallel-item {display: flex;flex-direction: column;z-index: 1;position: relative;background-color: white;}#sk-container-id-7 div.sk-parallel-item:first-child::after {align-self: flex-end;width: 50%;}#sk-container-id-7 div.sk-parallel-item:last-child::after {align-self: flex-start;width: 50%;}#sk-container-id-7 div.sk-parallel-item:only-child::after {width: 0;}#sk-container-id-7 div.sk-dashed-wrapped {border: 1px dashed gray;margin: 0 0.4em 0.5em 0.4em;box-sizing: border-box;padding-bottom: 0.4em;background-color: white;}#sk-container-id-7 div.sk-label label {font-family: monospace;font-weight: bold;display: inline-block;line-height: 1.2em;}#sk-container-id-7 div.sk-label-container {text-align: center;}#sk-container-id-7 div.sk-container {/* jupyter's `normalize.less` sets `[hidden] { display: none; }` but bootstrap.min.css set `[hidden] { display: none !important; }` so we also need the `!important` here to be able to override the default hidden behavior on the sphinx rendered scikit-learn.org. See: https://github.com/scikit-learn/scikit-learn/issues/21755 */display: inline-block !important;position: relative;}#sk-container-id-7 div.sk-text-repr-fallback {display: none;}</style><div id=\"sk-container-id-7\" class=\"sk-top-container\"><div class=\"sk-text-repr-fallback\"><pre>KNeighborsClassifier(metric=&#x27;euclidean&#x27;)</pre><b>In a Jupyter environment, please rerun this cell to show the HTML representation or trust the notebook. <br />On GitHub, the HTML representation is unable to render, please try loading this page with nbviewer.org.</b></div><div class=\"sk-container\" hidden><div class=\"sk-item\"><div class=\"sk-estimator sk-toggleable\"><input class=\"sk-toggleable__control sk-hidden--visually\" id=\"sk-estimator-id-7\" type=\"checkbox\" checked><label for=\"sk-estimator-id-7\" class=\"sk-toggleable__label sk-toggleable__label-arrow\">KNeighborsClassifier</label><div class=\"sk-toggleable__content\"><pre>KNeighborsClassifier(metric=&#x27;euclidean&#x27;)</pre></div></div></div></div></div>"
            ]
          },
          "metadata": {},
          "execution_count": 119
        }
      ]
    },
    {
      "cell_type": "markdown",
      "source": [
        "Testando o modelo:"
      ],
      "metadata": {
        "id": "6msjQLKkxPB7"
      }
    },
    {
      "cell_type": "code",
      "source": [
        "previsao_knn = knn.predict(X_teste)"
      ],
      "metadata": {
        "id": "sTvlh3rdxRog"
      },
      "execution_count": null,
      "outputs": []
    },
    {
      "cell_type": "code",
      "source": [
        "previsao_knn"
      ],
      "metadata": {
        "colab": {
          "base_uri": "https://localhost:8080/"
        },
        "id": "wOkioH85xarZ",
        "outputId": "0d73918b-2eb2-4bc2-d828-1798e814f828"
      },
      "execution_count": null,
      "outputs": [
        {
          "output_type": "execute_result",
          "data": {
            "text/plain": [
              "array([1, 0, 0, ..., 0, 1, 1])"
            ]
          },
          "metadata": {},
          "execution_count": 121
        }
      ]
    },
    {
      "cell_type": "markdown",
      "source": [
        "## KNN por trás dos panos"
      ],
      "metadata": {
        "id": "rhxBJeUuye5h"
      }
    },
    {
      "cell_type": "markdown",
      "source": [
        "Para entedermos melhor como o KNN funciona, vamos fazer o processo de cálculo das distâncias de forma manual, com a biblioteca Numpy.\n",
        "\n",
        "Para isso, vamos criar um cliente fictício com as seguintes *features*:"
      ],
      "metadata": {
        "id": "1fQbA7uZyiHZ"
      }
    },
    {
      "cell_type": "code",
      "source": [
        "Xmaria = [[0,0,1,1,0,0,39.90,1,0,0,0,1,0,1,0,0,0,0,1,1,1,0,0,1,0,1,0,0,0,0,1,0,0,1,0,0,0,1]]"
      ],
      "metadata": {
        "id": "l0vKOhqzzGXc"
      },
      "execution_count": null,
      "outputs": []
    },
    {
      "cell_type": "markdown",
      "source": [
        "Agora vamos normalizar os dados dela:"
      ],
      "metadata": {
        "id": "ZnP8WL2pzRtj"
      }
    },
    {
      "cell_type": "code",
      "source": [
        "Xmaria_normalizado = norm.transform(pd.DataFrame(Xmaria, columns = X.columns))"
      ],
      "metadata": {
        "id": "znZNUU2mzTvV"
      },
      "execution_count": null,
      "outputs": []
    },
    {
      "cell_type": "markdown",
      "source": [
        "Agora iremos criar uma função para calcular a distância Euclidiana entre os 10 primeiros clientes da nossa base de dados:"
      ],
      "metadata": {
        "id": "T54Q_Eg1zh9t"
      }
    },
    {
      "cell_type": "code",
      "source": [
        "import numpy as np\n",
        "\n",
        "def calcula_distancia(dados_clientes, dados_maria, numero_clientes):\n",
        "    distancias = []\n",
        "\n",
        "# Loop para percorrer cliente por cliente\n",
        "    for i in range(numero_clientes):\n",
        "        dist1 = dados_maria - dados_clientes[i]     # Subtração dos atributos\n",
        "        soma_quadrado = np.sum(np.square(dist1))    # Exponenciação e soma de todos os atributos\n",
        "        distancias.append(np.sqrt(soma_quadrado))   # Raiz quadrada da soma anterior\n",
        "\n",
        "    return distancias"
      ],
      "metadata": {
        "id": "f37MmbQlzsPo"
      },
      "execution_count": null,
      "outputs": []
    },
    {
      "cell_type": "markdown",
      "source": [
        "Aplicando a função:"
      ],
      "metadata": {
        "id": "exY0XR_0z54w"
      }
    },
    {
      "cell_type": "code",
      "source": [
        "calcula_distancia(X_normalizado, Xmaria_normalizado, 10)"
      ],
      "metadata": {
        "colab": {
          "base_uri": "https://localhost:8080/"
        },
        "id": "hsuGOGrxz7nW",
        "outputId": "7a9ea768-c18f-4983-86dd-8736a4dce06b"
      },
      "execution_count": null,
      "outputs": [
        {
          "output_type": "execute_result",
          "data": {
            "text/plain": [
              "[9.576596663360199,\n",
              " 9.164687977147782,\n",
              " 8.497169420877166,\n",
              " 10.037544220142902,\n",
              " 7.8028994013625566,\n",
              " 9.01167938964265,\n",
              " 8.970041771751976,\n",
              " 10.634917481179656,\n",
              " 9.45035230511453,\n",
              " 7.919985943117673]"
            ]
          },
          "metadata": {},
          "execution_count": 125
        }
      ]
    },
    {
      "cell_type": "markdown",
      "source": [
        "Pronto, essas são as distâncias entre as *features* (características) dos 10 primeiros clientes e a Maria."
      ],
      "metadata": {
        "id": "vTyZlkk90D_R"
      }
    },
    {
      "cell_type": "markdown",
      "source": [
        "# Modelo Bernoulli Naive Bayes (BNN)"
      ],
      "metadata": {
        "id": "S9jZW8pX6Txg"
      }
    },
    {
      "cell_type": "markdown",
      "source": [
        "O teorema de Bayes é uma fórmula utilizada para calcular a probabilidade de um evento ocorrer sabendo que um outro evento, chamado de condicionante, já ocorreu, denominado probabilidade condicional. Sua notação é dada por P(A|B), que significa a probabilidade de A dado que B já aconteceu e é definido pela seguinte equação:\n",
        "\n",
        "<div align=\"center\">\n",
        "\n",
        "<img src=\"https://caelum-online-public.s3.amazonaws.com/2422-machine-learning/03/Aula3-img1.gif\" width=\"225\" height=\"54\">\n",
        "\n",
        "</div>\n",
        "\n",
        "Onde:\n",
        "\n",
        "- P(B|A): probabilidade de B acontecer dado que A já aconteceu;\n",
        "- P(A): probabilidade de A acontecer;\n",
        "- P(B): probabilidade de B acontecer.\n",
        "\n",
        "Falando dessa forma, pode ficar complicado de visualizar na prática o que isso realmente significa. Como o teorema de Bayes envolve probabilidade, pode ser aplicado a inúmeros contextos. Vamos utilizar aqui um exemplo envolvendo a área da saúde, mas o teorema poderia ser utilizado em outras áreas. Considere o exemplo:\n",
        "\n",
        "<div align=\"center\">\n",
        "\n",
        "|  | Covid-19 (5%) | Sem Covid-19 (95%) |\n",
        "|------------|------------|------------|\n",
        "| Teste positivo\t| 85% |\t10% |\n",
        "| Teste Negativo |\t15% |\t90% |\n",
        "\n",
        "</div>\n",
        "\n",
        "Primeiramente, vamos entender o que está na tabela. Sabemos, através de pesquisas realizadas anteriormente, que há uma probabilidade de 5% de ter Covid-19. Consequentemente, há uma probabilidade 95% de não ter. Quem tem a doença está na coluna “Covid-19 (5%)” e possui uma probabilidade de 85% de testar positivo e 15% de negativo. Já quem não tem está na coluna “Sem Covid-19 (95%)” e possui uma probabilidade de 10% de testar positivo e 90% de negativo.\n",
        "\n",
        "De posse dessas informações, vamos responder à pergunta: quais as chances de ter Covid-19 dado que o teste deu positivo?\n",
        "\n",
        "- Evento A: ter Covid-19\n",
        "- Evento B: positivo no teste (evento condicionante)\n",
        "\n",
        "Utilizando a fórmula apresentada anteriormente, precisamos definir algumas probabilidades, como:\n",
        "\n",
        "- P(B|A): probabilidade do teste ser positivo dado que a pessoa tem Covid-19, que é de 85% ou 0.85, de acordo com a tabela.\n",
        "\n",
        "- P(A): probabilidade de ter covid-19. Observando a tabela, temos que é de 5%, ou 0.05.\n",
        "\n",
        "- P(B): a probabilidade do teste ser positivo.\n",
        "\n",
        "A P(B) não conseguimos encontrar diretamente na tabela, pois a probabilidade do teste ser positivo pode acontecer quando a pessoa testada possui a doença ou não (chamado também de complementar). Logo, a probabilidade P(B) pode ser calculada como:\n",
        "\n",
        "<br>\n",
        "\n",
        "<div align=\"center\">\n",
        "\n",
        "<img src=\"https://caelum-online-public.s3.amazonaws.com/2422-machine-learning/03/Aula3-img2.gif\" width=\"405\" height=\"27\">\n",
        "\n",
        "</div>\n",
        "\n",
        "- P(B|AC): probabilidade do teste ser positivo dado que a pessoa não possui Covid-19, que é 10% ou 0.1\n",
        "\n",
        "- P(AC): probabilidade da pessoa não ter Covid-19, que é 95% ou 0.95.\n",
        "\n",
        "Novamente, as informações acima foram retiradas diretamente da tabela. Pronto, agora temos todas as informações que precisamos. Colocando na equação temos que:\n",
        "\n",
        "<div align=\"center\">\n",
        "\n",
        "<img src=\"https://caelum-online-public.s3.amazonaws.com/2422-machine-learning/03/Aula3-img3.gif\" width=\"405\" height=\"27\">\n",
        "\n",
        "</div>\n",
        "\n",
        "Jogando esses valores na primeira equação, temos que:\n",
        "\n",
        "<div align=\"center\">\n",
        "\n",
        "<img src=\"https://caelum-online-public.s3.amazonaws.com/2422-machine-learning/03/Aula3-img4.gif\" width=\"405\" height=\"54\">\n",
        "\n",
        "</div>\n",
        "\n",
        "Logo, as chances de ter Covid-19, dado que o teste deu positivo, são de 31%."
      ],
      "metadata": {
        "id": "Dj8eIgbj6ZuY"
      }
    },
    {
      "cell_type": "markdown",
      "source": [
        "## Treinamento e Teste"
      ],
      "metadata": {
        "id": "1G0hTLTfApw9"
      }
    },
    {
      "cell_type": "code",
      "source": [
        "X_treino"
      ],
      "metadata": {
        "colab": {
          "base_uri": "https://localhost:8080/"
        },
        "id": "O-T9HtpqA0dm",
        "outputId": "e072c9e7-bcb2-48fd-b1b1-d4c1181e8590"
      },
      "execution_count": null,
      "outputs": [
        {
          "output_type": "execute_result",
          "data": {
            "text/plain": [
              "array([[-0.79024667, -0.52771004, -3.06083934, ..., -0.76702973,\n",
              "         2.08712905, -0.4360152 ],\n",
              "       [ 1.26542767,  1.89498006,  0.32670777, ..., -0.76702973,\n",
              "         2.08712905, -0.4360152 ],\n",
              "       [-0.79024667, -0.52771004,  0.32670777, ...,  1.30373042,\n",
              "        -0.47912706, -0.4360152 ],\n",
              "       ...,\n",
              "       [ 1.26542767,  1.89498006,  0.32670777, ..., -0.76702973,\n",
              "         2.08712905, -0.4360152 ],\n",
              "       [ 1.26542767,  1.89498006,  0.32670777, ...,  1.30373042,\n",
              "        -0.47912706, -0.4360152 ],\n",
              "       [-0.79024667, -0.52771004,  0.32670777, ...,  1.30373042,\n",
              "        -0.47912706, -0.4360152 ]])"
            ]
          },
          "metadata": {},
          "execution_count": 126
        }
      ]
    },
    {
      "cell_type": "code",
      "source": [
        "X_teste"
      ],
      "metadata": {
        "colab": {
          "base_uri": "https://localhost:8080/"
        },
        "id": "E4q6s1AgBEwU",
        "outputId": "2f0f00d0-b145-4277-a914-fd3d94891f64"
      },
      "execution_count": null,
      "outputs": [
        {
          "output_type": "execute_result",
          "data": {
            "text/plain": [
              "array([[-0.79024667, -0.52771004,  0.32670777, ..., -0.76702973,\n",
              "        -0.47912706, -0.4360152 ],\n",
              "       [-0.79024667, -0.52771004,  0.32670777, ..., -0.76702973,\n",
              "         2.08712905, -0.4360152 ],\n",
              "       [ 1.26542767,  1.89498006,  0.32670777, ...,  1.30373042,\n",
              "        -0.47912706, -0.4360152 ],\n",
              "       ...,\n",
              "       [ 1.26542767, -0.52771004,  0.32670777, ...,  1.30373042,\n",
              "        -0.47912706, -0.4360152 ],\n",
              "       [-0.79024667, -0.52771004,  0.32670777, ..., -0.76702973,\n",
              "         2.08712905, -0.4360152 ],\n",
              "       [-0.79024667, -0.52771004,  0.32670777, ...,  1.30373042,\n",
              "        -0.47912706, -0.4360152 ]])"
            ]
          },
          "metadata": {},
          "execution_count": 127
        }
      ]
    },
    {
      "cell_type": "markdown",
      "source": [
        "Para começarmos, precisamos importar o modelo a qual iremos trabalhar."
      ],
      "metadata": {
        "id": "pMh60vQdXtpS"
      }
    },
    {
      "cell_type": "code",
      "source": [
        "from sklearn.naive_bayes import BernoulliNB"
      ],
      "metadata": {
        "id": "RkYIqEjQWhyV"
      },
      "execution_count": null,
      "outputs": []
    },
    {
      "cell_type": "markdown",
      "source": [
        "Agora podemos criar o modelo."
      ],
      "metadata": {
        "id": "XKbhBnjEhNP_"
      }
    },
    {
      "cell_type": "code",
      "source": [
        "bnb = BernoulliNB()"
      ],
      "metadata": {
        "id": "yHa5S33qW89Z"
      },
      "execution_count": null,
      "outputs": []
    },
    {
      "cell_type": "markdown",
      "source": [
        "Antes de inserirmos os dados para o treinamento, precisamos binariza-los novamente. Para isso, utilizaremos um parâmetro que funcionará como se fosse um limite para transformar uma variável em binária ou não. Já que estamos trabalhando com probabilidade estatística, vamos utilizar a mediana, que é o valor central dos nossos dados ordenados."
      ],
      "metadata": {
        "id": "rmWmr_GQX7Ku"
      }
    },
    {
      "cell_type": "code",
      "source": [
        "X_treino = np.where(X_treino > np.median(X_treino), 1, 0)"
      ],
      "metadata": {
        "id": "O8IUPWMuW4Lk"
      },
      "execution_count": null,
      "outputs": []
    },
    {
      "cell_type": "markdown",
      "source": [
        "Agora os dados estão prontos para o treinamento."
      ],
      "metadata": {
        "id": "mtnh-_WLalja"
      }
    },
    {
      "cell_type": "code",
      "source": [
        "bnb.fit(X_treino, y_treino)"
      ],
      "metadata": {
        "colab": {
          "base_uri": "https://localhost:8080/",
          "height": 129
        },
        "id": "isgKWWCwatBs",
        "outputId": "5fc6624a-6a71-4a41-9ffb-5b21d36e2323"
      },
      "execution_count": null,
      "outputs": [
        {
          "output_type": "stream",
          "name": "stderr",
          "text": [
            "/usr/local/lib/python3.10/dist-packages/sklearn/utils/validation.py:1143: DataConversionWarning: A column-vector y was passed when a 1d array was expected. Please change the shape of y to (n_samples, ), for example using ravel().\n",
            "  y = column_or_1d(y, warn=True)\n"
          ]
        },
        {
          "output_type": "execute_result",
          "data": {
            "text/plain": [
              "BernoulliNB()"
            ],
            "text/html": [
              "<style>#sk-container-id-8 {color: black;background-color: white;}#sk-container-id-8 pre{padding: 0;}#sk-container-id-8 div.sk-toggleable {background-color: white;}#sk-container-id-8 label.sk-toggleable__label {cursor: pointer;display: block;width: 100%;margin-bottom: 0;padding: 0.3em;box-sizing: border-box;text-align: center;}#sk-container-id-8 label.sk-toggleable__label-arrow:before {content: \"▸\";float: left;margin-right: 0.25em;color: #696969;}#sk-container-id-8 label.sk-toggleable__label-arrow:hover:before {color: black;}#sk-container-id-8 div.sk-estimator:hover label.sk-toggleable__label-arrow:before {color: black;}#sk-container-id-8 div.sk-toggleable__content {max-height: 0;max-width: 0;overflow: hidden;text-align: left;background-color: #f0f8ff;}#sk-container-id-8 div.sk-toggleable__content pre {margin: 0.2em;color: black;border-radius: 0.25em;background-color: #f0f8ff;}#sk-container-id-8 input.sk-toggleable__control:checked~div.sk-toggleable__content {max-height: 200px;max-width: 100%;overflow: auto;}#sk-container-id-8 input.sk-toggleable__control:checked~label.sk-toggleable__label-arrow:before {content: \"▾\";}#sk-container-id-8 div.sk-estimator input.sk-toggleable__control:checked~label.sk-toggleable__label {background-color: #d4ebff;}#sk-container-id-8 div.sk-label input.sk-toggleable__control:checked~label.sk-toggleable__label {background-color: #d4ebff;}#sk-container-id-8 input.sk-hidden--visually {border: 0;clip: rect(1px 1px 1px 1px);clip: rect(1px, 1px, 1px, 1px);height: 1px;margin: -1px;overflow: hidden;padding: 0;position: absolute;width: 1px;}#sk-container-id-8 div.sk-estimator {font-family: monospace;background-color: #f0f8ff;border: 1px dotted black;border-radius: 0.25em;box-sizing: border-box;margin-bottom: 0.5em;}#sk-container-id-8 div.sk-estimator:hover {background-color: #d4ebff;}#sk-container-id-8 div.sk-parallel-item::after {content: \"\";width: 100%;border-bottom: 1px solid gray;flex-grow: 1;}#sk-container-id-8 div.sk-label:hover label.sk-toggleable__label {background-color: #d4ebff;}#sk-container-id-8 div.sk-serial::before {content: \"\";position: absolute;border-left: 1px solid gray;box-sizing: border-box;top: 0;bottom: 0;left: 50%;z-index: 0;}#sk-container-id-8 div.sk-serial {display: flex;flex-direction: column;align-items: center;background-color: white;padding-right: 0.2em;padding-left: 0.2em;position: relative;}#sk-container-id-8 div.sk-item {position: relative;z-index: 1;}#sk-container-id-8 div.sk-parallel {display: flex;align-items: stretch;justify-content: center;background-color: white;position: relative;}#sk-container-id-8 div.sk-item::before, #sk-container-id-8 div.sk-parallel-item::before {content: \"\";position: absolute;border-left: 1px solid gray;box-sizing: border-box;top: 0;bottom: 0;left: 50%;z-index: -1;}#sk-container-id-8 div.sk-parallel-item {display: flex;flex-direction: column;z-index: 1;position: relative;background-color: white;}#sk-container-id-8 div.sk-parallel-item:first-child::after {align-self: flex-end;width: 50%;}#sk-container-id-8 div.sk-parallel-item:last-child::after {align-self: flex-start;width: 50%;}#sk-container-id-8 div.sk-parallel-item:only-child::after {width: 0;}#sk-container-id-8 div.sk-dashed-wrapped {border: 1px dashed gray;margin: 0 0.4em 0.5em 0.4em;box-sizing: border-box;padding-bottom: 0.4em;background-color: white;}#sk-container-id-8 div.sk-label label {font-family: monospace;font-weight: bold;display: inline-block;line-height: 1.2em;}#sk-container-id-8 div.sk-label-container {text-align: center;}#sk-container-id-8 div.sk-container {/* jupyter's `normalize.less` sets `[hidden] { display: none; }` but bootstrap.min.css set `[hidden] { display: none !important; }` so we also need the `!important` here to be able to override the default hidden behavior on the sphinx rendered scikit-learn.org. See: https://github.com/scikit-learn/scikit-learn/issues/21755 */display: inline-block !important;position: relative;}#sk-container-id-8 div.sk-text-repr-fallback {display: none;}</style><div id=\"sk-container-id-8\" class=\"sk-top-container\"><div class=\"sk-text-repr-fallback\"><pre>BernoulliNB()</pre><b>In a Jupyter environment, please rerun this cell to show the HTML representation or trust the notebook. <br />On GitHub, the HTML representation is unable to render, please try loading this page with nbviewer.org.</b></div><div class=\"sk-container\" hidden><div class=\"sk-item\"><div class=\"sk-estimator sk-toggleable\"><input class=\"sk-toggleable__control sk-hidden--visually\" id=\"sk-estimator-id-8\" type=\"checkbox\" checked><label for=\"sk-estimator-id-8\" class=\"sk-toggleable__label sk-toggleable__label-arrow\">BernoulliNB</label><div class=\"sk-toggleable__content\"><pre>BernoulliNB()</pre></div></div></div></div></div>"
            ]
          },
          "metadata": {},
          "execution_count": 131
        }
      ]
    },
    {
      "cell_type": "code",
      "source": [
        "previsao_Bnb = bnb.predict(X_teste)"
      ],
      "metadata": {
        "id": "KtcT7RWGbaoB"
      },
      "execution_count": null,
      "outputs": []
    },
    {
      "cell_type": "code",
      "source": [
        "previsao_Bnb"
      ],
      "metadata": {
        "colab": {
          "base_uri": "https://localhost:8080/"
        },
        "id": "4ieEhp2ubflw",
        "outputId": "ec11dfdf-fe16-4162-f22b-f01e6af5dc33"
      },
      "execution_count": null,
      "outputs": [
        {
          "output_type": "execute_result",
          "data": {
            "text/plain": [
              "array([1, 0, 0, ..., 1, 1, 1])"
            ]
          },
          "metadata": {},
          "execution_count": 133
        }
      ]
    },
    {
      "cell_type": "markdown",
      "source": [
        "# Decision Tree (Árvore de Decisão)"
      ],
      "metadata": {
        "id": "DLoZU22dEMUK"
      }
    },
    {
      "cell_type": "markdown",
      "source": [
        "<div align=\"center\">\n",
        "\n",
        "![Arvore de Decisão.PNG](data:image/png;base64,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)\n",
        "\n",
        "</div>"
      ],
      "metadata": {
        "id": "avDvjgaOEUjK"
      }
    },
    {
      "cell_type": "markdown",
      "source": [
        "Uma árvore de decisão é um algoritmo de aprendizado de máquina supervisionado usado para tarefas de classificação e regressão. Ela representa um modelo de decisão em forma de uma estrutura hierárquica, parecida com uma árvore, onde cada nó representa uma decisão ou teste sobre uma característica específica dos dados.\n",
        "\n",
        "Graficamente, a árvore de decisão pode ser representada de forma que cada uma das decisões tomadas no processo possam ser visualizadas. Seus elementos principais são os nós, ramos e folhas. A estrutura da árvore se inicia com um **nó inicial**, também chamado de **raiz**. A partir dela são traçadas **ramificações**, que geram novos nós e o processo se repete para os nós subsequentes até que chegue a uma **folha**, que se trata de um nó especial que tem a **informação da resposta**, sendo ela **uma categoria ou um valor previsto**."
      ],
      "metadata": {
        "id": "ey8rpsz9EwMZ"
      }
    },
    {
      "cell_type": "markdown",
      "source": [
        "## Vantagens e Desvantagens\n",
        "\n"
      ],
      "metadata": {
        "id": "nQutXW_6E80r"
      }
    },
    {
      "cell_type": "markdown",
      "source": [
        "As árvores de decisão têm várias vantagens e desvantagens em Machine Learning. Vamos explorar as principais delas:"
      ],
      "metadata": {
        "id": "3LN7SaWYIgl7"
      }
    },
    {
      "cell_type": "markdown",
      "source": [
        "### Vantagens\n",
        "\n",
        "- **Interpretabilidade:** As árvores de decisão são modelos altamente interpretáveis, o que significa que é fácil entender o processo de tomada de decisão que levou a uma determinada previsão. As decisões são baseadas em regras claras e testes sobre características dos dados, tornando-as adequadas para análise e explicação.\n",
        "\n",
        "- **Flexibilidade:** As árvores de decisão podem ser aplicadas a problemas de classificação e regressão, tornando-as versáteis para diferentes tipos de tarefas em Machine Learning.\n",
        "\n",
        "- **Lidam com dados não lineares:** As árvores de decisão são capazes de modelar relações não lineares entre características e rótulos, sem a necessidade de transformações complexas dos dados.\n",
        "\n",
        "- **Requerem menos pré-processamento:** Não são sensíveis a valores ausentes ou escalas diferentes das características, o que reduz a necessidade de pré-processamento dos dados.\n",
        "\n",
        "- **Baixo custo computacional para previsão:** Fazer previsões com árvores de decisão é rápido, uma vez que a estrutura da árvore permite uma busca rápida e eficiente pelos ramos apropriados.\n",
        "\n",
        "\n"
      ],
      "metadata": {
        "id": "7d7BoegoE_cX"
      }
    },
    {
      "cell_type": "markdown",
      "source": [
        "### Desvantagens\n",
        "\n",
        "- **Overfitting**: As árvores de decisão têm a tendência de se ajustar demasiadamente aos dados de treinamento, criando ramificações muito específicas para padrões irrelevantes ou ruídos. Isso pode resultar em baixo desempenho em dados não vistos (dados de teste).\n",
        "\n",
        "- **Instabilidade**: Pequenas variações nos dados de treinamento podem levar a grandes mudanças na estrutura da árvore, tornando o modelo instável.\n",
        "\n",
        "- **Difícil captura de relações complexas**: Árvores de decisão podem ter dificuldades em representar relações complexas entre as características, especialmente aquelas que requerem decisões sequenciais em várias camadas.\n",
        "\n",
        "- **Viés em direção a características dominantes**: Características com maior número de categorias ou alta cardinalidade podem ser favorecidas, pois têm mais oportunidades de serem selecionadas para os nós de decisão.\n",
        "\n",
        "- **Tendência ao viés de atributo preferencial**: Em árvores de decisão, características que aparecem mais próximas à raiz da árvore têm mais impacto na decisão final, o que pode levar a um viés de atributo preferencial.\n",
        "\n",
        "- **Dificuldade em lidar com dados desbalanceados**: Árvores de decisão podem ter dificuldades em lidar com classes minoritárias em problemas de classificação com conjuntos de dados desbalanceados."
      ],
      "metadata": {
        "id": "mk7ygqShFYQV"
      }
    },
    {
      "cell_type": "markdown",
      "source": [
        "Apesar das desvantagens, as árvores de decisão continuam sendo uma técnica valiosa em Machine Learning, especialmente quando combinadas com técnicas de regularização, como o corte da árvore ou o uso de florestas aleatórias, que ajudam a mitigar alguns dos problemas associados às árvores de decisão puras."
      ],
      "metadata": {
        "id": "1Hc0SkqHFaH7"
      }
    },
    {
      "cell_type": "markdown",
      "source": [
        "## Critérios de divisão de Nós"
      ],
      "metadata": {
        "id": "1P4jYmKzJtom"
      }
    },
    {
      "cell_type": "markdown",
      "source": [
        "Em árvores de decisão, os nós são pontos de tomada de decisão que ramificam os dados em diferentes classes. Esses dados são dívididos com base em critérios, que chamamos de critérios de divisão de nós:\n",
        "\n",
        "- Índice Gini\n",
        "- Qui-Quadrado\n",
        "- Entropia\n",
        "- Redução da variância\n",
        "\n",
        "Os mais utilizados são o Índice Gini e Entropia que serão os que falaremos a seguir."
      ],
      "metadata": {
        "id": "zseu1NkXJ3eE"
      }
    },
    {
      "cell_type": "markdown",
      "source": [
        "### Índice Gini\n",
        "\n",
        "A fórmula do índice Gini é dada por:\n",
        "\n",
        "$$Gini = \\sum_{k=1}^{c} p_k(1 - p_k)$$\n",
        "\n",
        "onde *p<sub>k</sub>* é a probabilidade de ocorrência de uma dado na classe *k*.\n",
        "\n",
        "Basicamente a fórmula diz que para encontrarmos o índice Gini, precisamos calcular a somátoria das probabilidades de ocorrência de cada dado *p<sub>k</sub>* multiplicado pela sua probabilidade de não-ocorrência *(1 - p<sub>k</sub>)*.\n",
        "\n",
        "A ideia do índice Gini é medir o quão impuro estão os dados. Quanto maior o índice, mais impuro e heterogêneos eles estão. Quanto menor o índice, mais puro e homogêneos os dados estão.\n",
        "\n",
        "Quanto mais puros e homogêneos os dados estão, mais fácil de classifica-los e extrair informações coerentes."
      ],
      "metadata": {
        "id": "rZA0blCE7w05"
      }
    },
    {
      "cell_type": "markdown",
      "source": [
        "### Entropia\n",
        "\n",
        "Já a fórmula da entropia dos dados é dada por:\n",
        "\n",
        "$$Entropia = -\\sum_{i=k}^{c} p_k \\cdot \\log_2(p_k)$$\n",
        "\n",
        "onde *p<sub>k</sub>* também representa a probabilidade de ocorrência de uma dado na classe *k*.\n",
        "\n",
        "Basicamente a entropia serve para calcular o grau de desordenação dos dados. Quanto maior a entropia, mais desordenados os dados estão, o que por consequência torna mais difícil classificar esses dados."
      ],
      "metadata": {
        "id": "rmRd5iQFCpkU"
      }
    },
    {
      "cell_type": "markdown",
      "source": [
        "## Implementando o modelo"
      ],
      "metadata": {
        "id": "0itFzmnzM0Vj"
      }
    },
    {
      "cell_type": "code",
      "source": [
        "from sklearn.tree import DecisionTreeClassifier"
      ],
      "metadata": {
        "id": "fCOgVW5bNAn-"
      },
      "execution_count": null,
      "outputs": []
    },
    {
      "cell_type": "code",
      "source": [
        "# Criando o modelo\n",
        "dtc = DecisionTreeClassifier(criterion ='entropy', random_state=42)"
      ],
      "metadata": {
        "id": "JW-nvu86NGFc"
      },
      "execution_count": null,
      "outputs": []
    },
    {
      "cell_type": "code",
      "source": [
        "# Treinando o modelo\n",
        "dtc.fit(X_treino, y_treino)"
      ],
      "metadata": {
        "colab": {
          "base_uri": "https://localhost:8080/",
          "height": 75
        },
        "id": "mQ8FSuYcNfxG",
        "outputId": "a1c036e0-c5f8-4f4c-a87d-53e261ab2d6a"
      },
      "execution_count": null,
      "outputs": [
        {
          "output_type": "execute_result",
          "data": {
            "text/plain": [
              "DecisionTreeClassifier(criterion='entropy', random_state=42)"
            ],
            "text/html": [
              "<style>#sk-container-id-9 {color: black;background-color: white;}#sk-container-id-9 pre{padding: 0;}#sk-container-id-9 div.sk-toggleable {background-color: white;}#sk-container-id-9 label.sk-toggleable__label {cursor: pointer;display: block;width: 100%;margin-bottom: 0;padding: 0.3em;box-sizing: border-box;text-align: center;}#sk-container-id-9 label.sk-toggleable__label-arrow:before {content: \"▸\";float: left;margin-right: 0.25em;color: #696969;}#sk-container-id-9 label.sk-toggleable__label-arrow:hover:before {color: black;}#sk-container-id-9 div.sk-estimator:hover label.sk-toggleable__label-arrow:before {color: black;}#sk-container-id-9 div.sk-toggleable__content {max-height: 0;max-width: 0;overflow: hidden;text-align: left;background-color: #f0f8ff;}#sk-container-id-9 div.sk-toggleable__content pre {margin: 0.2em;color: black;border-radius: 0.25em;background-color: #f0f8ff;}#sk-container-id-9 input.sk-toggleable__control:checked~div.sk-toggleable__content {max-height: 200px;max-width: 100%;overflow: auto;}#sk-container-id-9 input.sk-toggleable__control:checked~label.sk-toggleable__label-arrow:before {content: \"▾\";}#sk-container-id-9 div.sk-estimator input.sk-toggleable__control:checked~label.sk-toggleable__label {background-color: #d4ebff;}#sk-container-id-9 div.sk-label input.sk-toggleable__control:checked~label.sk-toggleable__label {background-color: #d4ebff;}#sk-container-id-9 input.sk-hidden--visually {border: 0;clip: rect(1px 1px 1px 1px);clip: rect(1px, 1px, 1px, 1px);height: 1px;margin: -1px;overflow: hidden;padding: 0;position: absolute;width: 1px;}#sk-container-id-9 div.sk-estimator {font-family: monospace;background-color: #f0f8ff;border: 1px dotted black;border-radius: 0.25em;box-sizing: border-box;margin-bottom: 0.5em;}#sk-container-id-9 div.sk-estimator:hover {background-color: #d4ebff;}#sk-container-id-9 div.sk-parallel-item::after {content: \"\";width: 100%;border-bottom: 1px solid gray;flex-grow: 1;}#sk-container-id-9 div.sk-label:hover label.sk-toggleable__label {background-color: #d4ebff;}#sk-container-id-9 div.sk-serial::before {content: \"\";position: absolute;border-left: 1px solid gray;box-sizing: border-box;top: 0;bottom: 0;left: 50%;z-index: 0;}#sk-container-id-9 div.sk-serial {display: flex;flex-direction: column;align-items: center;background-color: white;padding-right: 0.2em;padding-left: 0.2em;position: relative;}#sk-container-id-9 div.sk-item {position: relative;z-index: 1;}#sk-container-id-9 div.sk-parallel {display: flex;align-items: stretch;justify-content: center;background-color: white;position: relative;}#sk-container-id-9 div.sk-item::before, #sk-container-id-9 div.sk-parallel-item::before {content: \"\";position: absolute;border-left: 1px solid gray;box-sizing: border-box;top: 0;bottom: 0;left: 50%;z-index: -1;}#sk-container-id-9 div.sk-parallel-item {display: flex;flex-direction: column;z-index: 1;position: relative;background-color: white;}#sk-container-id-9 div.sk-parallel-item:first-child::after {align-self: flex-end;width: 50%;}#sk-container-id-9 div.sk-parallel-item:last-child::after {align-self: flex-start;width: 50%;}#sk-container-id-9 div.sk-parallel-item:only-child::after {width: 0;}#sk-container-id-9 div.sk-dashed-wrapped {border: 1px dashed gray;margin: 0 0.4em 0.5em 0.4em;box-sizing: border-box;padding-bottom: 0.4em;background-color: white;}#sk-container-id-9 div.sk-label label {font-family: monospace;font-weight: bold;display: inline-block;line-height: 1.2em;}#sk-container-id-9 div.sk-label-container {text-align: center;}#sk-container-id-9 div.sk-container {/* jupyter's `normalize.less` sets `[hidden] { display: none; }` but bootstrap.min.css set `[hidden] { display: none !important; }` so we also need the `!important` here to be able to override the default hidden behavior on the sphinx rendered scikit-learn.org. See: https://github.com/scikit-learn/scikit-learn/issues/21755 */display: inline-block !important;position: relative;}#sk-container-id-9 div.sk-text-repr-fallback {display: none;}</style><div id=\"sk-container-id-9\" class=\"sk-top-container\"><div class=\"sk-text-repr-fallback\"><pre>DecisionTreeClassifier(criterion=&#x27;entropy&#x27;, random_state=42)</pre><b>In a Jupyter environment, please rerun this cell to show the HTML representation or trust the notebook. <br />On GitHub, the HTML representation is unable to render, please try loading this page with nbviewer.org.</b></div><div class=\"sk-container\" hidden><div class=\"sk-item\"><div class=\"sk-estimator sk-toggleable\"><input class=\"sk-toggleable__control sk-hidden--visually\" id=\"sk-estimator-id-9\" type=\"checkbox\" checked><label for=\"sk-estimator-id-9\" class=\"sk-toggleable__label sk-toggleable__label-arrow\">DecisionTreeClassifier</label><div class=\"sk-toggleable__content\"><pre>DecisionTreeClassifier(criterion=&#x27;entropy&#x27;, random_state=42)</pre></div></div></div></div></div>"
            ]
          },
          "metadata": {},
          "execution_count": 137
        }
      ]
    },
    {
      "cell_type": "code",
      "source": [
        "# Verificando as entropias\n",
        "dtc.feature_importances_"
      ],
      "metadata": {
        "colab": {
          "base_uri": "https://localhost:8080/"
        },
        "id": "HP4PyXyKNweC",
        "outputId": "9c1dc63d-20ab-4259-91b4-0a393b39e284"
      },
      "execution_count": null,
      "outputs": [
        {
          "output_type": "execute_result",
          "data": {
            "text/plain": [
              "array([0.03666101, 0.03866957, 0.01266043, 0.04512471, 0.        ,\n",
              "       0.04738693, 0.02211895, 0.02180654, 0.        , 0.02407856,\n",
              "       0.00698951, 0.0480739 , 0.        , 0.04024334, 0.00456508,\n",
              "       0.04110332, 0.02482824, 0.00031031, 0.02679531, 0.02615214,\n",
              "       0.        , 0.02659733, 0.03396277, 0.00078196, 0.03501075,\n",
              "       0.02452249, 0.        , 0.02386299, 0.02295457, 0.        ,\n",
              "       0.02359223, 0.04844877, 0.21880758, 0.        , 0.        ,\n",
              "       0.04409608, 0.02979464, 0.        ])"
            ]
          },
          "metadata": {},
          "execution_count": 138
        }
      ]
    },
    {
      "cell_type": "code",
      "source": [
        "previsao_ArvoreDecisao = dtc.predict(X_teste)"
      ],
      "metadata": {
        "id": "tkR4I2gqOmDa"
      },
      "execution_count": null,
      "outputs": []
    },
    {
      "cell_type": "code",
      "source": [
        "previsao_ArvoreDecisao"
      ],
      "metadata": {
        "colab": {
          "base_uri": "https://localhost:8080/"
        },
        "id": "5HTlIW0QOvmo",
        "outputId": "c7a67cd3-b163-4c65-b1e8-c9a84c508108"
      },
      "execution_count": null,
      "outputs": [
        {
          "output_type": "execute_result",
          "data": {
            "text/plain": [
              "array([0, 0, 0, ..., 1, 1, 1])"
            ]
          },
          "metadata": {},
          "execution_count": 140
        }
      ]
    },
    {
      "cell_type": "markdown",
      "source": [
        "# Validação dos Modelos"
      ],
      "metadata": {
        "id": "EusGjkzFROEi"
      }
    },
    {
      "cell_type": "markdown",
      "source": [
        "## Matriz de Confusão"
      ],
      "metadata": {
        "id": "Jl3UtERvS7Mw"
      }
    },
    {
      "cell_type": "markdown",
      "source": [
        "![image.png](data:image/png;base64,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)"
      ],
      "metadata": {
        "id": "91Ez-s1KVWt-"
      }
    },
    {
      "cell_type": "markdown",
      "source": [
        "Legenda:\n",
        "\n",
        "- VP: Verdadeiro Positivo\n",
        "- FN: Falso Negativo\n",
        "- FP: Falso Positivo\n",
        "- VN: Verdadeiro Negativo\n",
        "\n",
        "Basicamente, os verdadeiros são o que o modelo acertou e os falsos são os que ele errou."
      ],
      "metadata": {
        "id": "8JVvnWPlVZ9e"
      }
    },
    {
      "cell_type": "code",
      "source": [
        "from sklearn.metrics import confusion_matrix"
      ],
      "metadata": {
        "id": "x3eMxzVVTAWP"
      },
      "execution_count": null,
      "outputs": []
    },
    {
      "cell_type": "code",
      "source": [
        "# Matriz do KNN\n",
        "print(confusion_matrix(y_teste, previsao_knn))"
      ],
      "metadata": {
        "colab": {
          "base_uri": "https://localhost:8080/"
        },
        "id": "jGHdMha1TS6a",
        "outputId": "90e97209-9c84-4431-9f48-b6cf22b183d2"
      },
      "execution_count": null,
      "outputs": [
        {
          "output_type": "stream",
          "name": "stdout",
          "text": [
            "[[1242  327]\n",
            " [ 248 1288]]\n"
          ]
        }
      ]
    },
    {
      "cell_type": "code",
      "source": [
        "# Matriz do BNB\n",
        "print(confusion_matrix(y_teste, previsao_Bnb))"
      ],
      "metadata": {
        "colab": {
          "base_uri": "https://localhost:8080/"
        },
        "id": "r1aEg9ikTv5K",
        "outputId": "e1e2aac4-6b4c-4750-ac19-e549eadc979e"
      },
      "execution_count": null,
      "outputs": [
        {
          "output_type": "stream",
          "name": "stdout",
          "text": [
            "[[1039  530]\n",
            " [ 237 1299]]\n"
          ]
        }
      ]
    },
    {
      "cell_type": "code",
      "source": [
        "# Matriz da Árvore de decisão\n",
        "print(confusion_matrix(y_teste, previsao_ArvoreDecisao))"
      ],
      "metadata": {
        "colab": {
          "base_uri": "https://localhost:8080/"
        },
        "id": "q6rGegurUXSr",
        "outputId": "8e5be92e-16b5-42b5-d46d-588794dfb20c"
      },
      "execution_count": null,
      "outputs": [
        {
          "output_type": "stream",
          "name": "stdout",
          "text": [
            "[[1057  512]\n",
            " [ 259 1277]]\n"
          ]
        }
      ]
    },
    {
      "cell_type": "markdown",
      "source": [
        "## Acurácia\n",
        "\n",
        "A acurácia cálcula a razão entre o total de acertos sobre o total de amostras do teste. Ou seja, a porcentagem de acertos do modelo."
      ],
      "metadata": {
        "id": "cLIr7apDX2-x"
      }
    },
    {
      "cell_type": "code",
      "source": [
        "from sklearn.metrics import accuracy_score"
      ],
      "metadata": {
        "id": "Ml0UlNVEX8nn"
      },
      "execution_count": null,
      "outputs": []
    },
    {
      "cell_type": "code",
      "source": [
        "# Acurácia do KNN\n",
        "print(accuracy_score(y_teste, previsao_knn))"
      ],
      "metadata": {
        "colab": {
          "base_uri": "https://localhost:8080/"
        },
        "id": "Lp7vEhP1dBx_",
        "outputId": "3f9acdd3-ba2f-42af-fe5c-02e9166a600e"
      },
      "execution_count": null,
      "outputs": [
        {
          "output_type": "stream",
          "name": "stdout",
          "text": [
            "0.8148148148148148\n"
          ]
        }
      ]
    },
    {
      "cell_type": "code",
      "source": [
        "# Acurácia do BNB\n",
        "print(accuracy_score(y_teste, previsao_Bnb))"
      ],
      "metadata": {
        "colab": {
          "base_uri": "https://localhost:8080/"
        },
        "id": "dNfC1luBde8u",
        "outputId": "034e6dd9-f0df-403c-9d4b-86f0177a7987"
      },
      "execution_count": null,
      "outputs": [
        {
          "output_type": "stream",
          "name": "stdout",
          "text": [
            "0.7529790660225443\n"
          ]
        }
      ]
    },
    {
      "cell_type": "code",
      "source": [
        "# Acurácia da Árvore de Decisão\n",
        "print(accuracy_score(y_teste, previsao_ArvoreDecisao))"
      ],
      "metadata": {
        "colab": {
          "base_uri": "https://localhost:8080/"
        },
        "id": "nthtMr86dnxo",
        "outputId": "28d11bec-0b33-4f5a-a39d-9c9be054a1fc"
      },
      "execution_count": null,
      "outputs": [
        {
          "output_type": "stream",
          "name": "stdout",
          "text": [
            "0.7516908212560387\n"
          ]
        }
      ]
    },
    {
      "cell_type": "markdown",
      "source": [
        "## Precisão"
      ],
      "metadata": {
        "id": "mzqYLDWYX4l3"
      }
    },
    {
      "cell_type": "markdown",
      "source": [
        "A precisão cálcula a razão entre os verdadeiros positivos e o total de previsões positivas. Ou seja, a porcentagem de acertos das previsões positivas em relação ao total de chutes."
      ],
      "metadata": {
        "id": "HbCG4a9-eP0D"
      }
    },
    {
      "cell_type": "code",
      "source": [
        "from sklearn.metrics import precision_score"
      ],
      "metadata": {
        "id": "mvbIj7P5X8Kz"
      },
      "execution_count": null,
      "outputs": []
    },
    {
      "cell_type": "code",
      "source": [
        "# Precisão do KNN\n",
        "print(precision_score(y_teste, previsao_knn))"
      ],
      "metadata": {
        "colab": {
          "base_uri": "https://localhost:8080/"
        },
        "id": "Va1TrO3_hMiy",
        "outputId": "d8735f7c-6285-4ada-8f2d-28941f9f55eb"
      },
      "execution_count": null,
      "outputs": [
        {
          "output_type": "stream",
          "name": "stdout",
          "text": [
            "0.7975232198142415\n"
          ]
        }
      ]
    },
    {
      "cell_type": "code",
      "source": [
        "# Precisão do BNB\n",
        "print(precision_score(y_teste, previsao_Bnb))"
      ],
      "metadata": {
        "colab": {
          "base_uri": "https://localhost:8080/"
        },
        "id": "IPO2MQm1hckX",
        "outputId": "a220b03c-b753-4510-b650-e7465a205bc8"
      },
      "execution_count": null,
      "outputs": [
        {
          "output_type": "stream",
          "name": "stdout",
          "text": [
            "0.7102241662110443\n"
          ]
        }
      ]
    },
    {
      "cell_type": "code",
      "source": [
        "# Precisão da Árvore de Decisão\n",
        "print(precision_score(y_teste, previsao_ArvoreDecisao))"
      ],
      "metadata": {
        "colab": {
          "base_uri": "https://localhost:8080/"
        },
        "id": "HENMGGaPho8C",
        "outputId": "3da14cd8-7633-4e08-d4f0-adc852854f2f"
      },
      "execution_count": null,
      "outputs": [
        {
          "output_type": "stream",
          "name": "stdout",
          "text": [
            "0.713806595863611\n"
          ]
        }
      ]
    },
    {
      "cell_type": "markdown",
      "source": [
        "## Recall"
      ],
      "metadata": {
        "id": "uSrOUcP5j2-M"
      }
    },
    {
      "cell_type": "markdown",
      "source": [
        "O Recall cálcula a proporção dos verdadeiros positivos em relação ao total de positivos. Ou seja, a porcentagem de acerto das previsões positivas em relação ao total dos reais positivos."
      ],
      "metadata": {
        "id": "VHya0EurkYzi"
      }
    },
    {
      "cell_type": "code",
      "source": [
        "from sklearn.metrics import recall_score"
      ],
      "metadata": {
        "id": "5KG203xKhyRf"
      },
      "execution_count": null,
      "outputs": []
    },
    {
      "cell_type": "code",
      "source": [
        "# Recall do KNN\n",
        "print(recall_score(y_teste, previsao_knn))"
      ],
      "metadata": {
        "colab": {
          "base_uri": "https://localhost:8080/"
        },
        "id": "8FOsbWzim_Qp",
        "outputId": "992b9c64-7b24-480b-bfbf-e22c4101479e"
      },
      "execution_count": null,
      "outputs": [
        {
          "output_type": "stream",
          "name": "stdout",
          "text": [
            "0.8385416666666666\n"
          ]
        }
      ]
    },
    {
      "cell_type": "code",
      "source": [
        "# Recall do BNB\n",
        "print(recall_score(y_teste, previsao_Bnb))"
      ],
      "metadata": {
        "colab": {
          "base_uri": "https://localhost:8080/"
        },
        "id": "Hx_qZd5bnHkM",
        "outputId": "88e07d1a-bd52-4771-91d5-1cc8a12f9168"
      },
      "execution_count": null,
      "outputs": [
        {
          "output_type": "stream",
          "name": "stdout",
          "text": [
            "0.845703125\n"
          ]
        }
      ]
    },
    {
      "cell_type": "code",
      "source": [
        "# Recall da Árvore de Decisão\n",
        "print(recall_score(y_teste, previsao_ArvoreDecisao))"
      ],
      "metadata": {
        "colab": {
          "base_uri": "https://localhost:8080/"
        },
        "id": "cPKAtw9VnQIH",
        "outputId": "00773a37-d421-4299-d277-55d9182d94b6"
      },
      "execution_count": null,
      "outputs": [
        {
          "output_type": "stream",
          "name": "stdout",
          "text": [
            "0.8313802083333334\n"
          ]
        }
      ]
    },
    {
      "cell_type": "markdown",
      "source": [
        "## Escolhendo o melhor modelo"
      ],
      "metadata": {
        "id": "CQn_norVpHQu"
      }
    },
    {
      "cell_type": "markdown",
      "source": [
        "E agora, qual modelo devemos escolher para apresentar os dados para a empresa? Lembrando que estamos analisando o índice de **Churn** dela, ou seja, o perfil dos clientes que cancelam os serviços.\n",
        "\n",
        "Para a nossa base de dados, os classificados como positivos são os que cancelaram os serviços dela. Portanto, para este caso é mais coveniente considerar as validações que analisam apenas os índices de acertos das previsões positivas, ou seja, a Precisão e o Recall.\n",
        "\n",
        "Apesar de serem dois modelos de validação bem semelhantes, existe uma sútil diferença. O modelo de Precisão analisa o índice de acertos em relação ao próprio números de chutes. Já o Recall, analisa em relação ao total real de clientes que fizeram Churn da empresa.\n",
        "\n",
        "Para escolhermos um dos dois modelos de validação, precisamos nos fazer a seguinte pergunta: a quantidade de chutes importa?\n",
        "\n",
        "Para acertarmos mais clientes que deixarão a empresa, teremos que fazer mais chutes, o que por consequência também teremos mais erros. Mas esse chutes errados são prejudiciais de alguma forma para empresa? Bom, levando em consideração que a empresa está querendo analisar o perfil desses clientes para um possível resgate, não é prejudicial também incluir alguns que não deixarão a empresa.\n",
        "\n",
        "Portanto, o melhor modelo de validação para este caso é o Recall, já que ele irá se basear no número total de Churns da empresa. Logo, não importa se o algoritmo terá que fazer mais chutes para acertar esses clientes, o importante é acertar os clientes. Além disso, é até melhor que incluamos alguns clientes que não possuem tanto risco assim de deixar a empresa, para que a empresa possa se precaver.\n",
        "\n",
        "Logo, se analisarmos os resultados que obtivemos nos testes de Recall, veremos que o modelo que teve os melhores resultados preditivos foi o do **BNB (Bernoulli Naive Bayes)**, com 84,57% de acertos. Assim sendo, podemos escolhe-lo tranquilamente como o melhor modelo preditivo para análise de Churn da empresa."
      ],
      "metadata": {
        "id": "PlS5tXBxqw5K"
      }
    }
  ]
}